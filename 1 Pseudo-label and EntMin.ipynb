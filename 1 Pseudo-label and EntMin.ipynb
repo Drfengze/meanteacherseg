{
 "cells": [
  {
   "cell_type": "markdown",
   "metadata": {},
   "source": [
    "## Pseudo-label: The simple and efficient semi supervised learning method for deep neural networks"
   ]
  },
  {
   "cell_type": "code",
   "execution_count": 1,
   "metadata": {},
   "outputs": [],
   "source": [
    "import torch\n",
    "from torch import nn\n",
    "import torch.nn.functional as F\n",
    "from torch.utils.data import random_split, DataLoader, Dataset\n",
    "\n",
    "import torchvision\n",
    "from torchvision import transforms\n",
    "\n",
    "import numpy as np\n",
    "from tqdm.notebook import tqdm\n",
    "\n",
    "import matplotlib.pyplot as plt\n",
    "\n",
    "from sklearn.metrics import accuracy_score"
   ]
  },
  {
   "cell_type": "code",
   "execution_count": 2,
   "metadata": {},
   "outputs": [],
   "source": [
    "# transforms\n",
    "\n",
    "# stats for normalization\n",
    "channel_stats = dict(mean=[0.4914, 0.4822, 0.4465],\n",
    "                     std=[0.2470,  0.2435,  0.2616])\n",
    "\n",
    "transform_train = transforms.Compose([\n",
    "    transforms.RandomCrop(size=32, padding=4),\n",
    "    transforms.RandomHorizontalFlip(),\n",
    "    transforms.ToTensor(),\n",
    "    transforms.Normalize(**channel_stats),\n",
    "])\n",
    "\n",
    "transform_val = transforms.Compose([\n",
    "    transforms.ToTensor(),\n",
    "    transforms.Normalize(**channel_stats),\n",
    "])"
   ]
  },
  {
   "cell_type": "markdown",
   "metadata": {},
   "source": [
    "### load cifar 10 dataset"
   ]
  },
  {
   "cell_type": "code",
   "execution_count": 3,
   "metadata": {},
   "outputs": [
    {
     "name": "stdout",
     "output_type": "stream",
     "text": [
      "Files already downloaded and verified\n",
      "Files already downloaded and verified\n"
     ]
    }
   ],
   "source": [
    "train = torchvision.datasets.CIFAR10(root='./data', train=True, download=True, transform=transform_train)\n",
    "\n",
    "supervised, unsupervised = random_split(train, [10000, 40000])\n",
    "\n",
    "val = torchvision.datasets.CIFAR10(root='./data', train=False, download=True, transform=transform_val)"
   ]
  },
  {
   "cell_type": "code",
   "execution_count": 4,
   "metadata": {},
   "outputs": [
    {
     "name": "stdout",
     "output_type": "stream",
     "text": [
      "['airplane', 'automobile', 'bird', 'cat', 'deer', 'dog', 'frog', 'horse', 'ship', 'truck']\n"
     ]
    }
   ],
   "source": [
    "print(train.classes)"
   ]
  },
  {
   "cell_type": "code",
   "execution_count": 5,
   "metadata": {},
   "outputs": [],
   "source": [
    "def plot(data):\n",
    "    \n",
    "    x, y = data\n",
    "    \n",
    "    mean = torch.Tensor(channel_stats['std']).view(-1, 1, 1)\n",
    "    \n",
    "    std = torch.Tensor(channel_stats['mean']).view(-1, 1, 1)\n",
    "    \n",
    "    de_normalized = x * std + mean\n",
    "            \n",
    "    plt.imshow(de_normalized.permute(1, 2, 0))\n",
    "    \n",
    "    plt.title(train.classes[y])"
   ]
  },
  {
   "cell_type": "code",
   "execution_count": 7,
   "metadata": {},
   "outputs": [
    {
     "name": "stderr",
     "output_type": "stream",
     "text": [
      "Clipping input data to the valid range for imshow with RGB data ([0..1] for floats or [0..255] for integers).\n"
     ]
    },
    {
     "data": {
      "image/png": "[encoded data removed]",
      "text/plain": [
       "<Figure size 432x288 with 1 Axes>"
      ]
     },
     "metadata": {
      "needs_background": "light"
     },
     "output_type": "display_data"
    }
   ],
   "source": [
    "plot(train[100])"
   ]
  },
  {
   "cell_type": "markdown",
   "metadata": {},
   "source": [
    "### DataLoaders"
   ]
  },
  {
   "cell_type": "code",
   "execution_count": 9,
   "metadata": {},
   "outputs": [],
   "source": [
    "def collate_unsup(batch):\n",
    "    # only return the images for the unsupervised dataloader\n",
    "    return torch.stack([i[0] for i in batch]) # stack all the images"
   ]
  },
  {
   "cell_type": "code",
   "execution_count": 10,
   "metadata": {},
   "outputs": [],
   "source": [
    "sup_batch_size = 128\n",
    "mu = 4\n",
    "\n",
    "sup_loader = DataLoader(supervised, batch_size=sup_batch_size, shuffle=True, num_workers=15)\n",
    "\n",
    "unsup_loader = DataLoader(unsupervised, batch_size=sup_batch_size * mu, shuffle=True, collate_fn=collate_unsup, num_workers=15)\n",
    "\n",
    "val_loader = torch.utils.data.DataLoader(val, batch_size=100, shuffle=False, num_workers=15)"
   ]
  },
  {
   "cell_type": "markdown",
   "metadata": {},
   "source": [
    "### Model"
   ]
  },
  {
   "cell_type": "markdown",
   "metadata": {},
   "source": [
    "see Notebook **013 - Convolution Layer.ipynb**"
   ]
  },
  {
   "cell_type": "markdown",
   "metadata": {},
   "source": [
    "$O = (I − K + 2 P)/S+1$\n",
    "\n",
    "- O : output size\n",
    "- I : input size\n",
    "- K : kernel size\n",
    "- P : padding\n",
    "- S : stride"
   ]
  },
  {
   "cell_type": "code",
   "execution_count": 12,
   "metadata": {},
   "outputs": [],
   "source": [
    "class ConvNet(nn.Module):\n",
    "    def __init__(self):\n",
    "        super().__init__()\n",
    "        \n",
    "        self.fe = nn.Sequential(\n",
    "            nn.Conv2d(in_channels=3, out_channels=16, kernel_size=3, stride=1), # (32 - 3 + 2 * 0)/1 + 1 = 30\n",
    "            nn.BatchNorm2d(16),\n",
    "            nn.ReLU(),\n",
    "            nn.Conv2d(in_channels=16, out_channels=32, kernel_size=3, stride=1), # (30 - 3 + 2 * 0)/1 + 1 = 28\n",
    "            nn.BatchNorm2d(32),\n",
    "            nn.ReLU(),\n",
    "            nn.Conv2d(in_channels=32, out_channels=64, kernel_size=4, stride=2), # (28 - 4 + 2 * 0)/2 + 1 = 13\n",
    "            nn.BatchNorm2d(64),\n",
    "            nn.ReLU(),\n",
    "            nn.Conv2d(in_channels=64, out_channels=128, kernel_size=3, stride=2), # (13 - 3 + 2 * 0)/2 + 1 = 6\n",
    "            nn.BatchNorm2d(128),\n",
    "            nn.ReLU(),\n",
    "            nn.MaxPool2d(kernel_size=2),  # (6 - 2)/2 + 1 = 3\n",
    "            nn.Dropout(0.1)\n",
    "        )\n",
    "        \n",
    "        self.fc = nn.Linear(128 * 3 * 3, 10)\n",
    "        \n",
    "    def forward(self, x):\n",
    "        \n",
    "        # x of size [batch_size, 3, W, H]\n",
    "        \n",
    "        h = self.fe(x) # [batch_size, 128, 3, 3]\n",
    "                \n",
    "        h = h.view(-1, 128 * 3 * 3)\n",
    "        \n",
    "        return self.fc(h) # [batch_size, 10]"
   ]
  },
  {
   "cell_type": "markdown",
   "metadata": {},
   "source": [
    "### Training loop"
   ]
  },
  {
   "cell_type": "code",
   "execution_count": 13,
   "metadata": {},
   "outputs": [],
   "source": [
    "def train_pseudo_label(model: nn.Module,\n",
    "                    opt: torch.optim,\n",
    "                    sup_loader: torch.utils.data.DataLoader,\n",
    "                    unsup_loader: torch.utils.data.DataLoader,\n",
    "                    alpha: float=0.1):\n",
    "    \n",
    "    model.train()\n",
    "    \n",
    "    for param in model.parameters():\n",
    "        device = param.device\n",
    "        break\n",
    "    \n",
    "    losses = []\n",
    "    \n",
    "    pbar = tqdm(sup_loader)\n",
    "    \n",
    "    unsup_iter = iter(unsup_loader)\n",
    "    \n",
    "    for batch_sup in pbar:\n",
    "        \n",
    "        model.zero_grad()\n",
    "                \n",
    "        x, y = batch_sup\n",
    "        \n",
    "        x, y = x.to(device), y.to(device)\n",
    "        \n",
    "        # prediction for labelled data\n",
    "        y_pred_sup = model.forward(x)\n",
    "        \n",
    "        # supervised cross-entropy loss\n",
    "        loss_sup = F.cross_entropy(y_pred_sup, y)\n",
    "                            \n",
    "        try:\n",
    "            batch_unsup = next(unsup_iter)\n",
    "        except StopIteration:\n",
    "            unsup_iter = iter(unsup_loader)\n",
    "            batch_unsup = next(unsup_iter)\n",
    "                \n",
    "        x_unsup = batch_unsup.to(device)\n",
    "        \n",
    "        # prediction for unlabelled data\n",
    "        y_pred_unsup = model.forward(x_unsup)\n",
    "        \n",
    "        # compute pseudo labels\n",
    "        pseudo_label = torch.argmax(y_pred_unsup, dim=1)\n",
    "        \n",
    "        # cross-entropy using pseudo-labels\n",
    "        loss_unsup = F.cross_entropy(y_pred_unsup, pseudo_label)\n",
    "        \n",
    "        # total loss\n",
    "        loss = loss_sup + alpha * loss_unsup\n",
    "        \n",
    "        loss.backward()\n",
    "\n",
    "        opt.step()\n",
    "        \n",
    "        loss_item = loss.item()\n",
    "        \n",
    "        losses.append(loss_item)\n",
    "        \n",
    "        pbar.set_description(f'train_loss = {np.array(losses).mean(): .3f}')\n",
    "        \n",
    "    return np.array(losses).mean()\n",
    "\n",
    "@torch.no_grad()\n",
    "def validate(model: nn.Module, dataloader: torch.utils.data.DataLoader):\n",
    "    \n",
    "    model.eval()\n",
    "    \n",
    "    for param in model.parameters():\n",
    "        device = param.device\n",
    "        break\n",
    "     \n",
    "    labels_all = []\n",
    "    logits_all = []\n",
    "    \n",
    "    for x, y in dataloader:\n",
    "\n",
    "        x, y = x.to(device), y.to(device)\n",
    "\n",
    "        logits = model(x)\n",
    "        \n",
    "        labels_all += y.cpu().numpy().tolist()\n",
    "        logits_all += logits.cpu().numpy().tolist()\n",
    "        \n",
    "    prediction = np.argmax(np.array(logits_all), axis=-1)\n",
    "    \n",
    "    acc = accuracy_score(labels_all, prediction)\n",
    "                    \n",
    "    return acc"
   ]
  },
  {
   "cell_type": "markdown",
   "metadata": {},
   "source": [
    "### Rampup function for the unsupervised loss weight"
   ]
  },
  {
   "cell_type": "code",
   "execution_count": 14,
   "metadata": {},
   "outputs": [],
   "source": [
    "def alpha_t(current, rampup_length):\n",
    "    # linear rampup function\n",
    "    assert current >= 0 and rampup_length >= 0\n",
    "    if current >= rampup_length:\n",
    "        return 1.0\n",
    "    else:\n",
    "        return current / rampup_length"
   ]
  },
  {
   "cell_type": "code",
   "execution_count": 15,
   "metadata": {},
   "outputs": [
    {
     "data": {
      "text/plain": [
       "Text(0, 0.5, 'alpha(t)')"
      ]
     },
     "execution_count": 15,
     "metadata": {},
     "output_type": "execute_result"
    },
    {
     "data": {
      "image/png": "[encoded data removed]",
      "text/plain": [
       "<Figure size 432x288 with 1 Axes>"
      ]
     },
     "metadata": {
      "needs_background": "light"
     },
     "output_type": "display_data"
    }
   ],
   "source": [
    "x = np.arange(0, 10)\n",
    "y = [alpha_t(i, rampup_length=5) for i in x]\n",
    "\n",
    "plt.plot(x, y)\n",
    "plt.xlabel('t')\n",
    "plt.ylabel('alpha(t)')"
   ]
  },
  {
   "cell_type": "markdown",
   "metadata": {},
   "source": [
    "### Training"
   ]
  },
  {
   "cell_type": "code",
   "execution_count": 16,
   "metadata": {},
   "outputs": [],
   "source": [
    "# initialize model\n",
    "\n",
    "model = ConvNet().cuda()\n",
    "\n",
    "opt = torch.optim.AdamW(model.parameters(), lr=1e-3)"
   ]
  },
  {
   "cell_type": "code",
   "execution_count": 17,
   "metadata": {},
   "outputs": [
    {
     "data": {
      "application/vnd.jupyter.widget-view+json": {
       "model_id": "f2d41c5440a74c61a5cb1ce668971379",
       "version_major": 2,
       "version_minor": 0
      },
      "text/plain": [
       "  0%|          | 0/79 [00:00<?, ?it/s]"
      ]
     },
     "metadata": {},
     "output_type": "display_data"
    },
    {
     "name": "stdout",
     "output_type": "stream",
     "text": [
      "0.4084\n"
     ]
    },
    {
     "data": {
      "application/vnd.jupyter.widget-view+json": {
       "model_id": "1aefc7241e5345858403564b5407d849",
       "version_major": 2,
       "version_minor": 0
      },
      "text/plain": [
       "  0%|          | 0/79 [00:00<?, ?it/s]"
      ]
     },
     "metadata": {},
     "output_type": "display_data"
    },
    {
     "name": "stdout",
     "output_type": "stream",
     "text": [
      "0.4723\n"
     ]
    },
    {
     "data": {
      "application/vnd.jupyter.widget-view+json": {
       "model_id": "6af1a471cb7541108fcf0590ce03753e",
       "version_major": 2,
       "version_minor": 0
      },
      "text/plain": [
       "  0%|          | 0/79 [00:00<?, ?it/s]"
      ]
     },
     "metadata": {},
     "output_type": "display_data"
    },
    {
     "name": "stdout",
     "output_type": "stream",
     "text": [
      "0.561\n"
     ]
    },
    {
     "data": {
      "application/vnd.jupyter.widget-view+json": {
       "model_id": "95b847cc52c3451980f7b2ec79654ba5",
       "version_major": 2,
       "version_minor": 0
      },
      "text/plain": [
       "  0%|          | 0/79 [00:00<?, ?it/s]"
      ]
     },
     "metadata": {},
     "output_type": "display_data"
    },
    {
     "name": "stdout",
     "output_type": "stream",
     "text": [
      "0.5732\n"
     ]
    },
    {
     "data": {
      "application/vnd.jupyter.widget-view+json": {
       "model_id": "8dc2b0e465044eb9afc739d86ee7c492",
       "version_major": 2,
       "version_minor": 0
      },
      "text/plain": [
       "  0%|          | 0/79 [00:00<?, ?it/s]"
      ]
     },
     "metadata": {},
     "output_type": "display_data"
    },
    {
     "name": "stdout",
     "output_type": "stream",
     "text": [
      "0.6191\n"
     ]
    }
   ],
   "source": [
    "for t in range(5):\n",
    "    alpha = alpha_t(t, rampup_length=5)\n",
    "    train_pseudo_label(model, opt, sup_loader, unsup_loader, alpha=alpha)\n",
    "    val_acc = validate(model, val_loader)\n",
    "    print(val_acc)"
   ]
  },
  {
   "cell_type": "markdown",
   "metadata": {},
   "source": [
    "# Semi-supervised Learning by Entropy Minimization"
   ]
  },
  {
   "cell_type": "raw",
   "metadata": {},
   "source": [
    "by Yves Grandvalet and Yoshua Bengio, 2004\n",
    "\n",
    "Idea: increase model confidence on the unlabelled data by minimuizing the prediction's entropy"
   ]
  },
  {
   "cell_type": "code",
   "execution_count": 15,
   "metadata": {},
   "outputs": [],
   "source": [
    "def train_EntMin(model: nn.Module,\n",
    "                    opt: torch.optim,\n",
    "                    sup_loader: torch.utils.data.DataLoader,\n",
    "                    unsup_loader: torch.utils.data.DataLoader,\n",
    "                    alpha: float=0.1):\n",
    "    \n",
    "    model.train()\n",
    "    \n",
    "    for param in model.parameters():\n",
    "        device = param.device\n",
    "        break\n",
    "    \n",
    "    losses = []\n",
    "    \n",
    "    pbar = tqdm(sup_loader)\n",
    "    \n",
    "    unsup_iter = iter(unsup_loader)\n",
    "    \n",
    "    for batch_sup in pbar:\n",
    "        \n",
    "        model.zero_grad()\n",
    "                \n",
    "        x, y = batch_sup\n",
    "        \n",
    "        x, y = x.to(device), y.to(device)\n",
    "        \n",
    "        # prediction for labelled data\n",
    "        y_pred_sup = model.forward(x)\n",
    "        \n",
    "        # supervised cross-entropy loss\n",
    "        loss_sup = F.cross_entropy(y_pred_sup, y)\n",
    "                            \n",
    "        try:\n",
    "            batch_unsup = next(unsup_iter)\n",
    "        except StopIteration:\n",
    "            unsup_iter = iter(unsup_loader)\n",
    "            batch_unsup = next(unsup_iter)\n",
    "                \n",
    "        x_unsup = batch_unsup.to(device)\n",
    "        \n",
    "        # prediction for unlabelled data\n",
    "        y_pred_unsup = model.forward(x_unsup)\n",
    "        \n",
    "        # entropy for each predition H = - p log p\n",
    "        entropy = - (F.softmax(y_pred_unsup, dim=1) * F.log_softmax(y_pred_unsup, dim=1)).sum(1) # [batch_size,]        \n",
    "        \n",
    "        # cross-entropy using pseudo-labels\n",
    "        loss_unsup = entropy.mean()\n",
    "        \n",
    "        # total loss\n",
    "        loss = loss_sup + alpha * loss_unsup\n",
    "        \n",
    "        loss.backward()\n",
    "\n",
    "        opt.step()\n",
    "        \n",
    "        loss_item = loss.item()\n",
    "        \n",
    "        losses.append(loss_item)\n",
    "        \n",
    "        pbar.set_description(f'train_loss = {np.array(losses).mean(): .3f}')\n",
    "        \n",
    "    return np.array(losses).mean()"
   ]
  },
  {
   "cell_type": "code",
   "execution_count": 18,
   "metadata": {},
   "outputs": [
    {
     "name": "stdout",
     "output_type": "stream",
     "text": [
      "Original: [0.32668933 0.3332889  0.3400218 ]\n",
      "\n",
      "\n",
      "initial entropy: 1.09847891330719\n",
      "\n",
      "\n",
      "Updated [0.32449988 0.33322474 0.34227544]\n",
      "Updated [0.3216     0.33310086 0.3452992 ]\n",
      "Updated [0.31776777 0.3328676  0.34936464]\n",
      "Updated [0.31271854 0.3324359  0.35484546]\n",
      "Updated [0.30609217 0.33164698 0.36226085]\n",
      "Updated [0.29744136 0.33021888 0.37233973]\n",
      "Updated [0.2862253  0.32765654 0.3861182 ]\n",
      "Updated [0.27181265 0.32310274 0.40508464]\n",
      "Updated [0.25350326 0.31511274 0.43138397]\n",
      "Updated [0.23058014 0.30137447 0.46804532]\n",
      "Updated [0.20243311 0.27857518 0.5189917 ]\n",
      "Updated [0.16891213 0.24313658 0.5879513 ]\n",
      "Updated [0.13131602 0.19430093 0.6743831 ]\n",
      "Updated [0.09397895 0.13931061 0.76671046]\n",
      "Updated [0.0634259  0.09210271 0.8444714 ]\n",
      "Updated [0.04286385 0.06044535 0.8966908 ]\n",
      "Updated [0.03031503 0.04158869 0.92809635]\n",
      "Updated [0.02262505 0.03033931 0.9470357 ]\n",
      "Updated [0.01768223 0.02327775 0.95904005]\n",
      "Updated [0.01432997 0.01858259 0.9670874 ]\n",
      "\n",
      "\n",
      "final entropy: 0.19899101555347443\n"
     ]
    }
   ],
   "source": [
    "# Entropy minimization example\n",
    "\n",
    "y = torch.Tensor([0.1, 0.2, 0.3]) / 5 # unormalized probability\n",
    "\n",
    "y = nn.Parameter(y) # enable gradient\n",
    "\n",
    "print('Original:', F.softmax(y, dim=0).detach().numpy())\n",
    "print('\\n')\n",
    "\n",
    "for i in range(20):\n",
    "    \n",
    "    entropy = - F.softmax(y, dim=0) * F.log_softmax(y, dim=0)\n",
    "    \n",
    "    entropy = entropy.sum() # entropy\n",
    "    \n",
    "    if i == 0:\n",
    "        print('initial entropy:', entropy.item())\n",
    "        print('\\n')\n",
    "    \n",
    "    entropy.backward() # backprop\n",
    "        \n",
    "    y.data -=  y.grad # gradient descent \n",
    "    \n",
    "    y.grad.data.zero_() \n",
    "    \n",
    "    print('Updated', F.softmax(y, dim=0).detach().numpy())\n",
    "    \n",
    "print('\\n')    \n",
    "print('final entropy:', entropy.item())"
   ]
  },
  {
   "cell_type": "code",
   "execution_count": 88,
   "metadata": {},
   "outputs": [],
   "source": [
    "# Prediction is more and more confident, entropy is lower"
   ]
  },
  {
   "cell_type": "code",
   "execution_count": null,
   "metadata": {},
   "outputs": [],
   "source": []
  }
 ],
 "metadata": {
  "kernelspec": {
   "display_name": "py37_UZA",
   "language": "python",
   "name": "py37_uza"
  },
  "language_info": {
   "codemirror_mode": {
    "name": "ipython",
    "version": 3
   },
   "file_extension": ".py",
   "mimetype": "text/x-python",
   "name": "python",
   "nbconvert_exporter": "python",
   "pygments_lexer": "ipython3",
   "version": "3.7.9"
  },
  "widgets": {
   "application/vnd.jupyter.widget-state+json": {
    "state": {
     "01321091324245828d14483ca8ec7bdf": {
      "model_module": "@jupyter-widgets/base",
      "model_module_version": "1.2.0",
      "model_name": "LayoutModel",
      "state": {}
     },
     "058a2a95647342d38d3b7d4fb13d5d81": {
      "model_module": "@jupyter-widgets/base",
      "model_module_version": "1.2.0",
      "model_name": "LayoutModel",
      "state": {}
     },
     "0ac017a2e13648d5ad33702ee6b63a93": {
      "model_module": "@jupyter-widgets/base",
      "model_module_version": "1.2.0",
      "model_name": "LayoutModel",
      "state": {}
     },
     "1016d0ca4f6b478093fbc4b05b4dc1c9": {
      "model_module": "@jupyter-widgets/controls",
      "model_module_version": "1.5.0",
      "model_name": "DescriptionStyleModel",
      "state": {
       "description_width": ""
      }
     },
     "107a083b47474d9da3d9518b3466dcf3": {
      "model_module": "@jupyter-widgets/controls",
      "model_module_version": "1.5.0",
      "model_name": "DescriptionStyleModel",
      "state": {
       "description_width": ""
      }
     },
     "1089dfae01c844d5943f98a7972dd168": {
      "model_module": "@jupyter-widgets/controls",
      "model_module_version": "1.5.0",
      "model_name": "FloatProgressModel",
      "state": {
       "bar_style": "success",
       "layout": "IPY_MODEL_3982392da109447eabc60f25826dacf7",
       "max": 79,
       "style": "IPY_MODEL_73a8bd8c167b41faaf096de9ce429bb3",
       "value": 79
      }
     },
     "10cdfa8bcf5a443a86b1fe5da3744109": {
      "model_module": "@jupyter-widgets/controls",
      "model_module_version": "1.5.0",
      "model_name": "DescriptionStyleModel",
      "state": {
       "description_width": ""
      }
     },
     "1390cb8ef1d84cb6b760f9b9eb89a493": {
      "model_module": "@jupyter-widgets/base",
      "model_module_version": "1.2.0",
      "model_name": "LayoutModel",
      "state": {}
     },
     "1aefc7241e5345858403564b5407d849": {
      "model_module": "@jupyter-widgets/controls",
      "model_module_version": "1.5.0",
      "model_name": "HBoxModel",
      "state": {
       "children": [
        "IPY_MODEL_882c67c887fd41a89eebed74c72c1329",
        "IPY_MODEL_8c3c2fc3779944b99fe907ca85c67fa6",
        "IPY_MODEL_3ff9ce4637924ae196fc63a10dfb9e13"
       ],
       "layout": "IPY_MODEL_e3085c47fd1a4797bb8057a6ea3bf82f"
      }
     },
     "1cbfe55c90ed47958931d99da26e5d51": {
      "model_module": "@jupyter-widgets/base",
      "model_module_version": "1.2.0",
      "model_name": "LayoutModel",
      "state": {}
     },
     "293f8ff5b4474ca08c879d93a7293f76": {
      "model_module": "@jupyter-widgets/base",
      "model_module_version": "1.2.0",
      "model_name": "LayoutModel",
      "state": {}
     },
     "29a5d73892644cb1a44bc0ad0295ccc1": {
      "model_module": "@jupyter-widgets/base",
      "model_module_version": "1.2.0",
      "model_name": "LayoutModel",
      "state": {}
     },
     "3982392da109447eabc60f25826dacf7": {
      "model_module": "@jupyter-widgets/base",
      "model_module_version": "1.2.0",
      "model_name": "LayoutModel",
      "state": {}
     },
     "3ff9ce4637924ae196fc63a10dfb9e13": {
      "model_module": "@jupyter-widgets/controls",
      "model_module_version": "1.5.0",
      "model_name": "HTMLModel",
      "state": {
       "layout": "IPY_MODEL_01321091324245828d14483ca8ec7bdf",
       "style": "IPY_MODEL_a67a1b84353c4104a01d5fd90f47c619",
       "value": " 79/79 [00:02&lt;00:00, 43.98it/s]"
      }
     },
     "40ef61f1b959431b98f226cb00a3c6ed": {
      "model_module": "@jupyter-widgets/controls",
      "model_module_version": "1.5.0",
      "model_name": "HTMLModel",
      "state": {
       "layout": "IPY_MODEL_ade4f3bce67843758956d25ecfeebd15",
       "style": "IPY_MODEL_e62db8c6b2fa4823a2943b0fa606067d",
       "value": "train_loss =  1.688: 100%"
      }
     },
     "4efb1c72cebf41e99f8fdda9ee2291e5": {
      "model_module": "@jupyter-widgets/controls",
      "model_module_version": "1.5.0",
      "model_name": "ProgressStyleModel",
      "state": {
       "description_width": ""
      }
     },
     "52a8d89f28504cd4965db4481e59819d": {
      "model_module": "@jupyter-widgets/base",
      "model_module_version": "1.2.0",
      "model_name": "LayoutModel",
      "state": {}
     },
     "57c20dbec1aa448fa1cc31c58e8419ec": {
      "model_module": "@jupyter-widgets/base",
      "model_module_version": "1.2.0",
      "model_name": "LayoutModel",
      "state": {}
     },
     "5c0a5cc144aa4c68bfe2049617e624ec": {
      "model_module": "@jupyter-widgets/controls",
      "model_module_version": "1.5.0",
      "model_name": "FloatProgressModel",
      "state": {
       "bar_style": "success",
       "layout": "IPY_MODEL_bc634adb3347415588c6c093f680dc7a",
       "max": 79,
       "style": "IPY_MODEL_4efb1c72cebf41e99f8fdda9ee2291e5",
       "value": 79
      }
     },
     "5eb18eaca73a4838a077b6d080496dc1": {
      "model_module": "@jupyter-widgets/controls",
      "model_module_version": "1.5.0",
      "model_name": "DescriptionStyleModel",
      "state": {
       "description_width": ""
      }
     },
     "621623ee156540f0b9114220e8396713": {
      "model_module": "@jupyter-widgets/base",
      "model_module_version": "1.2.0",
      "model_name": "LayoutModel",
      "state": {}
     },
     "639ce4f005e84116ab3853f22bee1557": {
      "model_module": "@jupyter-widgets/base",
      "model_module_version": "1.2.0",
      "model_name": "LayoutModel",
      "state": {}
     },
     "6aa6223f7fe2466bae99ce6e549296cf": {
      "model_module": "@jupyter-widgets/base",
      "model_module_version": "1.2.0",
      "model_name": "LayoutModel",
      "state": {}
     },
     "6af1a471cb7541108fcf0590ce03753e": {
      "model_module": "@jupyter-widgets/controls",
      "model_module_version": "1.5.0",
      "model_name": "HBoxModel",
      "state": {
       "children": [
        "IPY_MODEL_40ef61f1b959431b98f226cb00a3c6ed",
        "IPY_MODEL_e8029e8ce9a94fb2b08876497b8eb037",
        "IPY_MODEL_b6690fac21d842e9bfea69bfdf2654d7"
       ],
       "layout": "IPY_MODEL_621623ee156540f0b9114220e8396713"
      }
     },
     "73a8bd8c167b41faaf096de9ce429bb3": {
      "model_module": "@jupyter-widgets/controls",
      "model_module_version": "1.5.0",
      "model_name": "ProgressStyleModel",
      "state": {
       "description_width": ""
      }
     },
     "78ee4fadbc3d496e92c6ce1fc33f7307": {
      "model_module": "@jupyter-widgets/controls",
      "model_module_version": "1.5.0",
      "model_name": "HTMLModel",
      "state": {
       "layout": "IPY_MODEL_6aa6223f7fe2466bae99ce6e549296cf",
       "style": "IPY_MODEL_fbadd6f322634d5c8948a7a7ff606ddf",
       "value": "train_loss =  1.654: 100%"
      }
     },
     "7f628295038e41d1998337c19ae5c69f": {
      "model_module": "@jupyter-widgets/controls",
      "model_module_version": "1.5.0",
      "model_name": "DescriptionStyleModel",
      "state": {
       "description_width": ""
      }
     },
     "837bcfb9a55c4a22adf51d7bc68ec9d1": {
      "model_module": "@jupyter-widgets/controls",
      "model_module_version": "1.5.0",
      "model_name": "HTMLModel",
      "state": {
       "layout": "IPY_MODEL_058a2a95647342d38d3b7d4fb13d5d81",
       "style": "IPY_MODEL_7f628295038e41d1998337c19ae5c69f",
       "value": " 79/79 [00:02&lt;00:00, 40.98it/s]"
      }
     },
     "85d90e4c485744eb8133ba7360f3617c": {
      "model_module": "@jupyter-widgets/controls",
      "model_module_version": "1.5.0",
      "model_name": "ProgressStyleModel",
      "state": {
       "description_width": ""
      }
     },
     "860f7980f368440aa0cdeeaf9b7c143a": {
      "model_module": "@jupyter-widgets/controls",
      "model_module_version": "1.5.0",
      "model_name": "FloatProgressModel",
      "state": {
       "bar_style": "success",
       "layout": "IPY_MODEL_e0ad8a184ef04a60a7f4cdd3e42ca2d3",
       "max": 79,
       "style": "IPY_MODEL_cfc78a7532694da49fd98c9b8fbcd111",
       "value": 79
      }
     },
     "882c67c887fd41a89eebed74c72c1329": {
      "model_module": "@jupyter-widgets/controls",
      "model_module_version": "1.5.0",
      "model_name": "HTMLModel",
      "state": {
       "layout": "IPY_MODEL_293f8ff5b4474ca08c879d93a7293f76",
       "style": "IPY_MODEL_107a083b47474d9da3d9518b3466dcf3",
       "value": "train_loss =  1.703: 100%"
      }
     },
     "8c3c2fc3779944b99fe907ca85c67fa6": {
      "model_module": "@jupyter-widgets/controls",
      "model_module_version": "1.5.0",
      "model_name": "FloatProgressModel",
      "state": {
       "bar_style": "success",
       "layout": "IPY_MODEL_fec9c8b01c4d48cdb7b229392ecec763",
       "max": 79,
       "style": "IPY_MODEL_85d90e4c485744eb8133ba7360f3617c",
       "value": 79
      }
     },
     "8dc2b0e465044eb9afc739d86ee7c492": {
      "model_module": "@jupyter-widgets/controls",
      "model_module_version": "1.5.0",
      "model_name": "HBoxModel",
      "state": {
       "children": [
        "IPY_MODEL_bfda44e4abec47e9a409a87e7f4e7561",
        "IPY_MODEL_860f7980f368440aa0cdeeaf9b7c143a",
        "IPY_MODEL_e01923e2239e4b8ca3f469ac3318cce1"
       ],
       "layout": "IPY_MODEL_1390cb8ef1d84cb6b760f9b9eb89a493"
      }
     },
     "95b847cc52c3451980f7b2ec79654ba5": {
      "model_module": "@jupyter-widgets/controls",
      "model_module_version": "1.5.0",
      "model_name": "HBoxModel",
      "state": {
       "children": [
        "IPY_MODEL_78ee4fadbc3d496e92c6ce1fc33f7307",
        "IPY_MODEL_1089dfae01c844d5943f98a7972dd168",
        "IPY_MODEL_837bcfb9a55c4a22adf51d7bc68ec9d1"
       ],
       "layout": "IPY_MODEL_f7c5bc1b43104ee7a3c8ddbf9c1e6c73"
      }
     },
     "a215375257ba484081ba714488b378f9": {
      "model_module": "@jupyter-widgets/controls",
      "model_module_version": "1.5.0",
      "model_name": "HTMLModel",
      "state": {
       "layout": "IPY_MODEL_639ce4f005e84116ab3853f22bee1557",
       "style": "IPY_MODEL_e40d28be4e0e45b08e66737e1e72af78",
       "value": "train_loss =  1.831: 100%"
      }
     },
     "a4e547237e5d4463a8bb4f6e2d4d8129": {
      "model_module": "@jupyter-widgets/base",
      "model_module_version": "1.2.0",
      "model_name": "LayoutModel",
      "state": {}
     },
     "a67a1b84353c4104a01d5fd90f47c619": {
      "model_module": "@jupyter-widgets/controls",
      "model_module_version": "1.5.0",
      "model_name": "DescriptionStyleModel",
      "state": {
       "description_width": ""
      }
     },
     "ab3c7ebf9c804647b759449daf1b5149": {
      "model_module": "@jupyter-widgets/controls",
      "model_module_version": "1.5.0",
      "model_name": "ProgressStyleModel",
      "state": {
       "description_width": ""
      }
     },
     "ade4f3bce67843758956d25ecfeebd15": {
      "model_module": "@jupyter-widgets/base",
      "model_module_version": "1.2.0",
      "model_name": "LayoutModel",
      "state": {}
     },
     "b6690fac21d842e9bfea69bfdf2654d7": {
      "model_module": "@jupyter-widgets/controls",
      "model_module_version": "1.5.0",
      "model_name": "HTMLModel",
      "state": {
       "layout": "IPY_MODEL_0ac017a2e13648d5ad33702ee6b63a93",
       "style": "IPY_MODEL_1016d0ca4f6b478093fbc4b05b4dc1c9",
       "value": " 79/79 [00:02&lt;00:00, 34.89it/s]"
      }
     },
     "bc634adb3347415588c6c093f680dc7a": {
      "model_module": "@jupyter-widgets/base",
      "model_module_version": "1.2.0",
      "model_name": "LayoutModel",
      "state": {}
     },
     "bfda44e4abec47e9a409a87e7f4e7561": {
      "model_module": "@jupyter-widgets/controls",
      "model_module_version": "1.5.0",
      "model_name": "HTMLModel",
      "state": {
       "layout": "IPY_MODEL_57c20dbec1aa448fa1cc31c58e8419ec",
       "style": "IPY_MODEL_e48daadcb4f14b13b40fb5d9fdf3b329",
       "value": "train_loss =  1.671: 100%"
      }
     },
     "cb2fec598d3b49dcb0a6b9add696179a": {
      "model_module": "@jupyter-widgets/controls",
      "model_module_version": "1.5.0",
      "model_name": "HTMLModel",
      "state": {
       "layout": "IPY_MODEL_52a8d89f28504cd4965db4481e59819d",
       "style": "IPY_MODEL_10cdfa8bcf5a443a86b1fe5da3744109",
       "value": " 79/79 [00:02&lt;00:00, 47.11it/s]"
      }
     },
     "cfc78a7532694da49fd98c9b8fbcd111": {
      "model_module": "@jupyter-widgets/controls",
      "model_module_version": "1.5.0",
      "model_name": "ProgressStyleModel",
      "state": {
       "description_width": ""
      }
     },
     "e01923e2239e4b8ca3f469ac3318cce1": {
      "model_module": "@jupyter-widgets/controls",
      "model_module_version": "1.5.0",
      "model_name": "HTMLModel",
      "state": {
       "layout": "IPY_MODEL_29a5d73892644cb1a44bc0ad0295ccc1",
       "style": "IPY_MODEL_5eb18eaca73a4838a077b6d080496dc1",
       "value": " 79/79 [00:02&lt;00:00, 38.90it/s]"
      }
     },
     "e0ad8a184ef04a60a7f4cdd3e42ca2d3": {
      "model_module": "@jupyter-widgets/base",
      "model_module_version": "1.2.0",
      "model_name": "LayoutModel",
      "state": {}
     },
     "e3085c47fd1a4797bb8057a6ea3bf82f": {
      "model_module": "@jupyter-widgets/base",
      "model_module_version": "1.2.0",
      "model_name": "LayoutModel",
      "state": {}
     },
     "e40d28be4e0e45b08e66737e1e72af78": {
      "model_module": "@jupyter-widgets/controls",
      "model_module_version": "1.5.0",
      "model_name": "DescriptionStyleModel",
      "state": {
       "description_width": ""
      }
     },
     "e48daadcb4f14b13b40fb5d9fdf3b329": {
      "model_module": "@jupyter-widgets/controls",
      "model_module_version": "1.5.0",
      "model_name": "DescriptionStyleModel",
      "state": {
       "description_width": ""
      }
     },
     "e62db8c6b2fa4823a2943b0fa606067d": {
      "model_module": "@jupyter-widgets/controls",
      "model_module_version": "1.5.0",
      "model_name": "DescriptionStyleModel",
      "state": {
       "description_width": ""
      }
     },
     "e8029e8ce9a94fb2b08876497b8eb037": {
      "model_module": "@jupyter-widgets/controls",
      "model_module_version": "1.5.0",
      "model_name": "FloatProgressModel",
      "state": {
       "bar_style": "success",
       "layout": "IPY_MODEL_1cbfe55c90ed47958931d99da26e5d51",
       "max": 79,
       "style": "IPY_MODEL_ab3c7ebf9c804647b759449daf1b5149",
       "value": 79
      }
     },
     "f2d41c5440a74c61a5cb1ce668971379": {
      "model_module": "@jupyter-widgets/controls",
      "model_module_version": "1.5.0",
      "model_name": "HBoxModel",
      "state": {
       "children": [
        "IPY_MODEL_a215375257ba484081ba714488b378f9",
        "IPY_MODEL_5c0a5cc144aa4c68bfe2049617e624ec",
        "IPY_MODEL_cb2fec598d3b49dcb0a6b9add696179a"
       ],
       "layout": "IPY_MODEL_a4e547237e5d4463a8bb4f6e2d4d8129"
      }
     },
     "f7c5bc1b43104ee7a3c8ddbf9c1e6c73": {
      "model_module": "@jupyter-widgets/base",
      "model_module_version": "1.2.0",
      "model_name": "LayoutModel",
      "state": {}
     },
     "fbadd6f322634d5c8948a7a7ff606ddf": {
      "model_module": "@jupyter-widgets/controls",
      "model_module_version": "1.5.0",
      "model_name": "DescriptionStyleModel",
      "state": {
       "description_width": ""
      }
     },
     "fec9c8b01c4d48cdb7b229392ecec763": {
      "model_module": "@jupyter-widgets/base",
      "model_module_version": "1.2.0",
      "model_name": "LayoutModel",
      "state": {}
     }
    },
    "version_major": 2,
    "version_minor": 0
   }
  }
 },
 "nbformat": 4,
 "nbformat_minor": 4
}
