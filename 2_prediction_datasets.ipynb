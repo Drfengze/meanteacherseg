{
  "cells": [
    {
      "cell_type": "markdown",
      "metadata": {
        "colab_type": "text",
        "id": "view-in-github"
      },
      "source": [
        "<a href=\"https://colab.research.google.com/github/Hydrometeorological-Remote-Sensing/cropmapping/blob/sw_ww_test/2_prediction_datasets.ipynb\" target=\"_parent\"><img src=\"https://colab.research.google.com/assets/colab-badge.svg\" alt=\"Open In Colab\"/></a>"
      ]
    },
    {
      "cell_type": "markdown",
      "metadata": {
        "id": "nKrQAmSQr4uq"
      },
      "source": [
        "## Data preparation"
      ]
    },
    {
      "cell_type": "code",
      "execution_count": null,
      "metadata": {
        "id": "17RjBpFdr8jM"
      },
      "outputs": [],
      "source": [
        "from google.colab import auth\n",
        "auth.authenticate_user()\n",
        "import ee\n",
        "ee.Authenticate()\n",
        "ee.Initialize()\n",
        "import tensorflow as tf\n",
        "import folium\n",
        "import numpy as np\n",
        "from datetime import datetime, timedelta, date\n",
        "import random\n",
        "import json"
      ]
    },
    {
      "cell_type": "code",
      "execution_count": null,
      "metadata": {
        "id": "OjbBz6UiUZhD"
      },
      "outputs": [],
      "source": [
        "from google.colab import drive\n",
        "drive.mount('/content/drive')"
      ]
    },
    {
      "cell_type": "code",
      "execution_count": null,
      "metadata": {
        "id": "4P1K2rbmhRhc"
      },
      "outputs": [],
      "source": [
        "# Cloud masking function.\n",
        "def maskL8sr(image):\n",
        "    cloudShadowBitMask = ee.Number(2).pow(4).int()\n",
        "    cloudsBitMask = ee.Number(2).pow(3).int()\n",
        "    qa = image.select('QA_PIXEL')\n",
        "    mask1 = qa.bitwiseAnd(cloudShadowBitMask).eq(0).And(\n",
        "        qa.bitwiseAnd(cloudsBitMask).eq(0))\n",
        "    mask2 = image.mask().reduce('min')\n",
        "    # mask3 = image.select(opticalBands).gt(0).And(\n",
        "    #     image.select(opticalBands).lt(10000)).reduce('min')\n",
        "    mask = mask1.And(mask2)#.And(mask3)\n",
        "    return image.updateMask(mask)\n",
        "# Cloud masking function for s2\n",
        "def maskClouds(img):\n",
        "  clouds = ee.Image(img.get('cloud_mask')).select('probability')\n",
        "  isNotCloud = clouds.lt(MAX_CLOUD_PROBABILITY)\n",
        "  return img.updateMask(isNotCloud)\n",
        "def maskEdges(s2_img):\n",
        "  return s2_img.updateMask(\n",
        "      s2_img.select('B8A').mask().updateMask(s2_img.select('B9').mask()))\n",
        "def merge_s2_l8(s2,l8):\n",
        "  merged = ee.ImageCollection([s2,l8]).mean()\n",
        "  return merged\n",
        "def s2_vi(s2):\n",
        "  s2 = s2.addBands(s2.normalizedDifference(['nir', 'red']).rename('ndvi'))\n",
        "  s2 = s2.addBands(s2.select(['ndvi']).multiply(s2.select(['nir'])).rename('nirv'))\n",
        "  return s2"
      ]
    },
    {
      "cell_type": "code",
      "execution_count": null,
      "metadata": {
        "id": "bVjwrrNrXL4r"
      },
      "outputs": [],
      "source": [
        "def indexJoin(collectionA, collectionB, propertyName):\n",
        "  joined = ee.ImageCollection(ee.Join.saveFirst(propertyName).apply(\n",
        "    primary = collectionA,\n",
        "    secondary = collectionB,\n",
        "    condition = ee.Filter.equals(\n",
        "      leftField = 'system:index',\n",
        "      rightField = 'system:index'\n",
        "    )\n",
        "  ))\n",
        "  # Merge the bands of the joined image.\n",
        "  return joined.map(lambda image: image.addBands(ee.Image(image.get(propertyName))))"
      ]
    },
    {
      "cell_type": "code",
      "execution_count": null,
      "metadata": {
        "id": "5cgT0j0Xsfw-"
      },
      "outputs": [],
      "source": [
        "us = ee.FeatureCollection(\"FAO/GAUL_SIMPLIFIED_500m/2015/level1\").filter(\n",
        "    'ADM0_NAME == \"United States of America\"'\n",
        ")\n",
        "states = [\n",
        "    \"Washington\",\n",
        "    \"Oregon\",\n",
        "    \"Idaho\",\n",
        "    \"Montana\"\n",
        "]\n",
        "\n",
        "trainingPolys = us.filter(ee.Filter.inList(\"ADM1_NAME\", states))\n",
        "trainingPolysList = trainingPolys.toList(trainingPolys.size())"
      ]
    },
    {
      "cell_type": "code",
      "execution_count": null,
      "metadata": {
        "id": "rP-W_BWG485K"
      },
      "outputs": [],
      "source": [
        "    \"North Dakota\",\n",
        "    \"Montana\",\n",
        "    \"Minnesota\""
      ]
    },
    {
      "cell_type": "code",
      "execution_count": null,
      "metadata": {
        "id": "1QFQB9gjapFj"
      },
      "outputs": [],
      "source": [
        "polyImage = ee.Image(0).byte().paint(trainingPolys, 1)\n",
        "polyImage = polyImage.updateMask(polyImage)\n",
        "\n",
        "mapid = polyImage.getMapId({'min': 1, 'max': 2, 'palette': ['yellow', 'blue']})\n",
        "map = folium.Map(location=[0, -60], zoom_start=5)\n",
        "folium.TileLayer(\n",
        "    tiles=mapid['tile_fetcher'].url_format,\n",
        "    attr='Map Data © Google Earth Engine',\n",
        "    overlay=True,\n",
        "    name='training polygons',\n",
        "  ).add_to(map)\n",
        "map.add_child(folium.LayerControl())\n",
        "map"
      ]
    },
    {
      "cell_type": "markdown",
      "metadata": {
        "id": "QSB_877foLZH"
      },
      "source": [
        "## Define year"
      ]
    },
    {
      "cell_type": "code",
      "execution_count": null,
      "metadata": {
        "id": "6B1S_5ANZLdB"
      },
      "outputs": [],
      "source": [
        "bandNamesOut = ['blue','green','red','nir','swir1','swir2']\n",
        "bandNamesl8 = ['SR_B2', 'SR_B3', 'SR_B4', 'SR_B5', 'SR_B6', 'SR_B7'];\n",
        "bandNamesS2 = ['B2','B3','B4','B8','B11','B12'];\n",
        "BANDS = ['blue','green','red','nir','swir1','swir2','ndvi','nirv']\n",
        "RESPONSE = 'cropland'\n",
        "FEATURES = BANDS  + [RESPONSE]\n",
        "\n",
        "# Specify the size and shape of patches expected by the model.\n",
        "KERNEL_SIZE = 256\n",
        "KERNEL_SHAPE = [KERNEL_SIZE, KERNEL_SIZE]\n",
        "\n",
        "MAX_CLOUD_PROBABILITY = 65\n",
        "l8sr = ee.ImageCollection('LANDSAT/LC08/C02/T1_L2').map(maskL8sr)\n",
        "l8sr = l8sr.select(bandNamesl8,bandNamesOut)\n",
        "\n",
        "s2Clouds = ee.ImageCollection('COPERNICUS/S2_CLOUD_PROBABILITY')\n",
        "s2Sr = ee.ImageCollection('COPERNICUS/S2_SR_HARMONIZED').map(maskEdges)\n",
        "list1 = ee.List.repeat(1, KERNEL_SIZE)\n",
        "lists = ee.List.repeat(list1, KERNEL_SIZE)\n",
        "kernel = ee.Kernel.fixed(KERNEL_SIZE, KERNEL_SIZE, lists)"
      ]
    },
    {
      "cell_type": "code",
      "execution_count": null,
      "metadata": {
        "id": "HsuS8bQVUJkO"
      },
      "outputs": [],
      "source": [
        "YEAR = 2022\n",
        "dte1 = date(YEAR, 6, 1)\n",
        "l8_dte1 = date(YEAR, 7, 31)\n",
        "s2_dte1 = date(YEAR, 7, 31)\n",
        "l8_criteria = ee.Filter.date(dte1.strftime('%Y-%m-%d'),l8_dte1.strftime('%Y-%m-%d'))\n",
        "s2_criteria = ee.Filter.date(dte1.strftime('%Y-%m-%d'),s2_dte1.strftime('%Y-%m-%d'))\n",
        "l8_reduced = l8sr.filter(l8_criteria).median().multiply(0.0000275).add(-0.2).float()\n",
        "\n",
        "s2SrWithCloudMask = indexJoin(s2Sr.filter(s2_criteria), s2Clouds.filter(s2_criteria), 'cloud_mask')\n",
        "s2_reduced = s2SrWithCloudMask.map(maskClouds)\n",
        "s2_reduced = s2_reduced.select(bandNamesS2,bandNamesOut).median().divide(10000).float()\n",
        "\n",
        "image = merge_s2_l8(s2_reduced,l8_reduced)\n",
        "image = s2_vi(image).float()"
      ]
    },
    {
      "cell_type": "markdown",
      "metadata": {
        "id": "VTk60vmihc7j"
      },
      "source": [
        "## Export prediciton"
      ]
    },
    {
      "cell_type": "code",
      "execution_count": null,
      "metadata": {
        "id": "3MY29htygzHL"
      },
      "outputs": [],
      "source": [
        "def doExport(out_image_base, kernel_buffer, region,folder):\n",
        "  \"\"\"Run the image export task.  Block until complete.\n",
        "  \"\"\"\n",
        "  task = ee.batch.Export.image.toDrive(\n",
        "    image = image,\n",
        "    folder = folder,\n",
        "    description = out_image_base,\n",
        "    fileNamePrefix = out_image_base,\n",
        "    region = region.geometry(),#.getInfo()['coordinates'],\n",
        "    scale = 30,\n",
        "    fileFormat = 'TFRecord',\n",
        "    maxPixels = 1e10,\n",
        "    formatOptions = {\n",
        "      'patchDimensions': KERNEL_SHAPE,\n",
        "      'kernelSize': kernel_buffer,\n",
        "      'compressed': True,\n",
        "      'maxFileSize': 104857600\n",
        "    }\n",
        "  )\n",
        "  print('Running image export to Cloud Storage...')\n",
        "  task.start()\n",
        "\n",
        "  # Block until the task completes.\n",
        "  "
      ]
    },
    {
      "cell_type": "code",
      "execution_count": null,
      "metadata": {
        "id": "yAlSk-oag3V1"
      },
      "outputs": [],
      "source": [
        "\"\"\"# Data Preparation\"\"\"\n",
        "# Specify names locations for outputs in Cloud Storage. \n",
        "\n",
        "for state in states:\n",
        "  FOLDER = 'prediction_sw_67_{}'.format(state)\n",
        "  bj_image_base = 'prediction_sw_67_{}'.format(state)\n",
        "  # Half this will extend on the sides of each patch.\n",
        "  bj_kernel_buffer = [128, 128]\n",
        "  trainingPoly = us.filter(ee.Filter.inList(\"ADM1_NAME\",[state])) \n",
        "  doExport(bj_image_base, bj_kernel_buffer,trainingPoly,FOLDER)\n",
        "\n"
      ]
    }
  ],
  "metadata": {
    "colab": {
      "include_colab_link": true,
      "provenance": []
    },
    "kernelspec": {
      "display_name": "Python 3",
      "language": "python",
      "name": "python3"
    },
    "language_info": {
      "name": "python",
      "version": "3.8.10"
    },
    "vscode": {
      "interpreter": {
        "hash": "916dbcbb3f70747c44a77c7bcd40155683ae19c65e1c03b4aa3499c5328201f1"
      }
    }
  },
  "nbformat": 4,
  "nbformat_minor": 0
}
