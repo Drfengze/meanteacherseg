{
 "cells": [
  {
   "cell_type": "code",
   "execution_count": 12,
   "metadata": {},
   "outputs": [],
   "source": [
    "import torch\n",
    "import torch.nn as nn\n",
    "import numpy as np\n",
    "from data_loader import data_load\n",
    "from unet_pytorch import build_unet\n",
    "from ramps import get_current_consistency_weight, update_ema_variables\n",
    "from glob import glob\n",
    "import tensorflow as tf\n",
    "from time import time\n",
    "from monai.data import decollate_batch\n",
    "from monai.losses import DiceLoss\n",
    "from monai.metrics import DiceMetric\n",
    "from monai.transforms import (\n",
    "    Compose,\n",
    "    AsDiscrete,\n",
    "    EnsureType,\n",
    ")\n",
    "import os"
   ]
  },
  {
   "cell_type": "code",
   "execution_count": 33,
   "metadata": {},
   "outputs": [],
   "source": [
    "BANDS = [\"blue\", \"green\", \"red\", \"nir\", \"swir1\", \"swir2\", \"ndvi\", \"nirv\"]\n",
    "KERNEL_SHAPE = [256, 256]\n",
    "KERNEL_BUFFER = [128, 128]\n",
    "X_BUFFER, Y_BUFFER = [buffer // 2 for buffer in KERNEL_BUFFER]\n",
    "X_BUFFERED, Y_BUFFERED = (X_BUFFER + KERNEL_SHAPE[0]),(Y_BUFFER + KERNEL_SHAPE[1])\n",
    "BUFFERED_SHAPE = [kernel + buffer for kernel, buffer in zip(KERNEL_SHAPE, KERNEL_BUFFER)]\n",
    "TARGETS = [\"cropland\"]\n",
    "NCLASS = 2\n",
    "\n",
    "\n",
    "def load_dataset(batch, folder, label=True, buffer_size=1000):\n",
    "    features = BANDS + TARGETS if label else BANDS\n",
    "    tf_files = glob(f\"{folder}/*.gz\")\n",
    "    columns = [tf.io.FixedLenFeature(shape=KERNEL_SHAPE if label else BUFFERED_SHAPE, dtype=tf.float32) for _feature in features]\n",
    "    description = dict(zip(features, columns))\n",
    "    data_func = data_load(tf_files, BANDS, description, response=TARGETS, batch_size=batch, buffer_size=buffer_size)\n",
    "    data = data_func.get_training_dataset() if label else data_func.get_pridiction_dataset()\n",
    "    # print(tf_files)\n",
    "    return data\n"
   ]
  },
  {
   "cell_type": "code",
   "execution_count": 34,
   "metadata": {},
   "outputs": [
    {
     "name": "stdout",
     "output_type": "stream",
     "text": [
      "----------\n",
      "epoch 1/1000\n"
     ]
    },
    {
     "name": "stderr",
     "output_type": "stream",
     "text": [
      "2023-02-20 15:07:45.645072: I tensorflow/core/kernels/data/shuffle_dataset_op.cc:392] Filling up shuffle buffer (this may take a while): 887 of 1000\n",
      "2023-02-20 15:07:47.055275: I tensorflow/core/kernels/data/shuffle_dataset_op.cc:417] Shuffle buffer filled.\n"
     ]
    },
    {
     "name": "stdout",
     "output_type": "stream",
     "text": [
      "train_loss: 0.6271\n",
      "train_loss: 0.6280\n",
      "train_loss: 0.6227\n",
      "train_loss: 0.6234\n",
      "train_loss: 0.6273\n",
      "epoch 1 average loss: 0.6257\n"
     ]
    },
    {
     "name": "stderr",
     "output_type": "stream",
     "text": [
      "2023-02-20 15:08:02.107477: I tensorflow/core/kernels/data/shuffle_dataset_op.cc:392] Filling up shuffle buffer (this may take a while): 847 of 1000\n",
      "2023-02-20 15:08:04.134197: I tensorflow/core/kernels/data/shuffle_dataset_op.cc:417] Shuffle buffer filled.\n"
     ]
    },
    {
     "name": "stdout",
     "output_type": "stream",
     "text": [
      "val dice: 0.0\n",
      "saved new best metric model\n",
      "current epoch: 1 current mean dice: 0.0000\n",
      "best mean dice: 0.0000 at epoch: 1\n",
      "epoch time = 62.1911723613739\n",
      "----------\n",
      "epoch 2/1000\n"
     ]
    },
    {
     "name": "stderr",
     "output_type": "stream",
     "text": [
      "2023-02-20 15:08:47.801214: I tensorflow/core/kernels/data/shuffle_dataset_op.cc:392] Filling up shuffle buffer (this may take a while): 858 of 1000\n",
      "2023-02-20 15:08:49.609556: I tensorflow/core/kernels/data/shuffle_dataset_op.cc:417] Shuffle buffer filled.\n"
     ]
    },
    {
     "name": "stdout",
     "output_type": "stream",
     "text": [
      "train_loss: 0.6290\n",
      "train_loss: 0.6231\n",
      "train_loss: 0.6191\n",
      "train_loss: 0.6243\n",
      "train_loss: 0.6145\n",
      "epoch 2 average loss: 0.6220\n"
     ]
    },
    {
     "name": "stderr",
     "output_type": "stream",
     "text": [
      "2023-02-20 15:09:04.676607: I tensorflow/core/kernels/data/shuffle_dataset_op.cc:392] Filling up shuffle buffer (this may take a while): 875 of 1000\n",
      "2023-02-20 15:09:06.275556: I tensorflow/core/kernels/data/shuffle_dataset_op.cc:417] Shuffle buffer filled.\n"
     ]
    },
    {
     "name": "stdout",
     "output_type": "stream",
     "text": [
      "val dice: 0.0\n",
      "current epoch: 2 current mean dice: 0.0000\n",
      "best mean dice: 0.0000 at epoch: 1\n",
      "epoch time = 61.31770086288452\n",
      "----------\n",
      "epoch 3/1000\n"
     ]
    },
    {
     "name": "stderr",
     "output_type": "stream",
     "text": [
      "2023-02-20 15:09:49.119853: I tensorflow/core/kernels/data/shuffle_dataset_op.cc:392] Filling up shuffle buffer (this may take a while): 877 of 1000\n",
      "2023-02-20 15:09:50.694074: I tensorflow/core/kernels/data/shuffle_dataset_op.cc:417] Shuffle buffer filled.\n"
     ]
    },
    {
     "name": "stdout",
     "output_type": "stream",
     "text": [
      "train_loss: 0.6249\n",
      "train_loss: 0.6174\n",
      "train_loss: 0.6203\n",
      "train_loss: 0.6187\n",
      "train_loss: 0.6205\n",
      "epoch 3 average loss: 0.6203\n"
     ]
    },
    {
     "name": "stderr",
     "output_type": "stream",
     "text": [
      "2023-02-20 15:10:05.710475: I tensorflow/core/kernels/data/shuffle_dataset_op.cc:392] Filling up shuffle buffer (this may take a while): 856 of 1000\n",
      "2023-02-20 15:10:07.579056: I tensorflow/core/kernels/data/shuffle_dataset_op.cc:417] Shuffle buffer filled.\n"
     ]
    },
    {
     "name": "stdout",
     "output_type": "stream",
     "text": [
      "val dice: 3.624036253313534e-05\n",
      "saved new best metric model\n",
      "current epoch: 3 current mean dice: 0.0000\n",
      "best mean dice: 0.0000 at epoch: 3\n",
      "epoch time = 61.294172286987305\n",
      "----------\n",
      "epoch 4/1000\n"
     ]
    },
    {
     "name": "stderr",
     "output_type": "stream",
     "text": [
      "2023-02-20 15:10:50.425278: I tensorflow/core/kernels/data/shuffle_dataset_op.cc:392] Filling up shuffle buffer (this may take a while): 877 of 1000\n",
      "2023-02-20 15:10:52.008537: I tensorflow/core/kernels/data/shuffle_dataset_op.cc:417] Shuffle buffer filled.\n"
     ]
    },
    {
     "name": "stdout",
     "output_type": "stream",
     "text": [
      "train_loss: 0.6154\n",
      "train_loss: 0.6116\n",
      "train_loss: 0.6110\n",
      "train_loss: 0.6124\n",
      "train_loss: 0.6175\n",
      "epoch 4 average loss: 0.6136\n"
     ]
    },
    {
     "name": "stderr",
     "output_type": "stream",
     "text": [
      "2023-02-20 15:11:07.052479: I tensorflow/core/kernels/data/shuffle_dataset_op.cc:392] Filling up shuffle buffer (this may take a while): 870 of 1000\n",
      "2023-02-20 15:11:08.732698: I tensorflow/core/kernels/data/shuffle_dataset_op.cc:417] Shuffle buffer filled.\n"
     ]
    },
    {
     "name": "stdout",
     "output_type": "stream",
     "text": [
      "val dice: 0.0019532376900315285\n",
      "saved new best metric model\n",
      "current epoch: 4 current mean dice: 0.0020\n",
      "best mean dice: 0.0020 at epoch: 4\n",
      "epoch time = 62.014413833618164\n",
      "----------\n",
      "epoch 5/1000\n"
     ]
    },
    {
     "name": "stderr",
     "output_type": "stream",
     "text": [
      "2023-02-20 15:11:52.438437: I tensorflow/core/kernels/data/shuffle_dataset_op.cc:392] Filling up shuffle buffer (this may take a while): 851 of 1000\n",
      "2023-02-20 15:11:54.369296: I tensorflow/core/kernels/data/shuffle_dataset_op.cc:417] Shuffle buffer filled.\n"
     ]
    },
    {
     "name": "stdout",
     "output_type": "stream",
     "text": [
      "train_loss: 0.6158\n",
      "train_loss: 0.6121\n",
      "train_loss: 0.6140\n",
      "train_loss: 0.6178\n",
      "train_loss: 0.6089\n",
      "epoch 5 average loss: 0.6137\n"
     ]
    },
    {
     "name": "stderr",
     "output_type": "stream",
     "text": [
      "2023-02-20 15:12:09.433839: I tensorflow/core/kernels/data/shuffle_dataset_op.cc:392] Filling up shuffle buffer (this may take a while): 829 of 1000\n",
      "2023-02-20 15:12:11.693788: I tensorflow/core/kernels/data/shuffle_dataset_op.cc:417] Shuffle buffer filled.\n"
     ]
    },
    {
     "name": "stdout",
     "output_type": "stream",
     "text": [
      "val dice: 0.014835929498076439\n",
      "saved new best metric model\n",
      "current epoch: 5 current mean dice: 0.0148\n",
      "best mean dice: 0.0148 at epoch: 5\n",
      "epoch time = 63.17099738121033\n",
      "----------\n",
      "epoch 6/1000\n"
     ]
    },
    {
     "name": "stderr",
     "output_type": "stream",
     "text": [
      "2023-02-20 15:12:55.614904: I tensorflow/core/kernels/data/shuffle_dataset_op.cc:392] Filling up shuffle buffer (this may take a while): 864 of 1000\n",
      "2023-02-20 15:12:57.361298: I tensorflow/core/kernels/data/shuffle_dataset_op.cc:417] Shuffle buffer filled.\n"
     ]
    },
    {
     "name": "stdout",
     "output_type": "stream",
     "text": [
      "train_loss: 0.6124\n",
      "train_loss: 0.6074\n",
      "train_loss: 0.6098\n",
      "train_loss: 0.6164\n",
      "train_loss: 0.6169\n",
      "epoch 6 average loss: 0.6126\n"
     ]
    },
    {
     "name": "stderr",
     "output_type": "stream",
     "text": [
      "2023-02-20 15:13:12.359547: I tensorflow/core/kernels/data/shuffle_dataset_op.cc:392] Filling up shuffle buffer (this may take a while): 855 of 1000\n",
      "2023-02-20 15:13:14.262398: I tensorflow/core/kernels/data/shuffle_dataset_op.cc:417] Shuffle buffer filled.\n"
     ]
    },
    {
     "name": "stdout",
     "output_type": "stream",
     "text": [
      "val dice: 0.042346008121967316\n",
      "saved new best metric model\n",
      "current epoch: 6 current mean dice: 0.0423\n",
      "best mean dice: 0.0423 at epoch: 6\n",
      "epoch time = 61.958192586898804\n",
      "----------\n",
      "epoch 7/1000\n"
     ]
    },
    {
     "name": "stderr",
     "output_type": "stream",
     "text": [
      "2023-02-20 15:13:57.574320: I tensorflow/core/kernels/data/shuffle_dataset_op.cc:392] Filling up shuffle buffer (this may take a while): 864 of 1000\n",
      "2023-02-20 15:13:59.305715: I tensorflow/core/kernels/data/shuffle_dataset_op.cc:417] Shuffle buffer filled.\n"
     ]
    },
    {
     "name": "stdout",
     "output_type": "stream",
     "text": [
      "train_loss: 0.6075\n",
      "train_loss: 0.5963\n",
      "train_loss: 0.6155\n",
      "train_loss: 0.6052\n",
      "train_loss: 0.6066\n",
      "epoch 7 average loss: 0.6063\n"
     ]
    },
    {
     "name": "stderr",
     "output_type": "stream",
     "text": [
      "2023-02-20 15:14:14.421220: I tensorflow/core/kernels/data/shuffle_dataset_op.cc:392] Filling up shuffle buffer (this may take a while): 861 of 1000\n",
      "2023-02-20 15:14:16.239708: I tensorflow/core/kernels/data/shuffle_dataset_op.cc:417] Shuffle buffer filled.\n"
     ]
    },
    {
     "name": "stdout",
     "output_type": "stream",
     "text": [
      "val dice: 0.060115765780210495\n",
      "saved new best metric model\n",
      "current epoch: 7 current mean dice: 0.0601\n",
      "best mean dice: 0.0601 at epoch: 7\n",
      "epoch time = 62.03484797477722\n",
      "----------\n",
      "epoch 8/1000\n"
     ]
    },
    {
     "name": "stderr",
     "output_type": "stream",
     "text": [
      "2023-02-20 15:14:59.608047: I tensorflow/core/kernels/data/shuffle_dataset_op.cc:392] Filling up shuffle buffer (this may take a while): 876 of 1000\n",
      "2023-02-20 15:15:01.183209: I tensorflow/core/kernels/data/shuffle_dataset_op.cc:417] Shuffle buffer filled.\n"
     ]
    },
    {
     "name": "stdout",
     "output_type": "stream",
     "text": [
      "train_loss: 0.6063\n",
      "train_loss: 0.6118\n",
      "train_loss: 0.6022\n",
      "train_loss: 0.6111\n",
      "train_loss: 0.6032\n",
      "epoch 8 average loss: 0.6069\n"
     ]
    },
    {
     "name": "stderr",
     "output_type": "stream",
     "text": [
      "2023-02-20 15:15:16.319316: I tensorflow/core/kernels/data/shuffle_dataset_op.cc:392] Filling up shuffle buffer (this may take a while): 833 of 1000\n",
      "2023-02-20 15:15:18.564659: I tensorflow/core/kernels/data/shuffle_dataset_op.cc:417] Shuffle buffer filled.\n"
     ]
    },
    {
     "name": "stdout",
     "output_type": "stream",
     "text": [
      "val dice: 0.06030010059475899\n",
      "saved new best metric model\n",
      "current epoch: 8 current mean dice: 0.0603\n",
      "best mean dice: 0.0603 at epoch: 8\n",
      "epoch time = 63.090930461883545\n",
      "----------\n",
      "epoch 9/1000\n"
     ]
    },
    {
     "name": "stderr",
     "output_type": "stream",
     "text": [
      "2023-02-20 15:16:02.693138: I tensorflow/core/kernels/data/shuffle_dataset_op.cc:392] Filling up shuffle buffer (this may take a while): 862 of 1000\n",
      "2023-02-20 15:16:04.469456: I tensorflow/core/kernels/data/shuffle_dataset_op.cc:417] Shuffle buffer filled.\n"
     ]
    },
    {
     "name": "stdout",
     "output_type": "stream",
     "text": [
      "train_loss: 0.6142\n",
      "train_loss: 0.6011\n",
      "train_loss: 0.5990\n",
      "train_loss: 0.6112\n",
      "train_loss: 0.6031\n",
      "epoch 9 average loss: 0.6057\n"
     ]
    },
    {
     "name": "stderr",
     "output_type": "stream",
     "text": [
      "2023-02-20 15:16:19.540911: I tensorflow/core/kernels/data/shuffle_dataset_op.cc:392] Filling up shuffle buffer (this may take a while): 852 of 1000\n",
      "2023-02-20 15:16:21.469632: I tensorflow/core/kernels/data/shuffle_dataset_op.cc:417] Shuffle buffer filled.\n"
     ]
    },
    {
     "name": "stdout",
     "output_type": "stream",
     "text": [
      "val dice: 0.05961932986974716\n",
      "current epoch: 9 current mean dice: 0.0596\n",
      "best mean dice: 0.0603 at epoch: 8\n",
      "epoch time = 62.903661489486694\n",
      "----------\n",
      "epoch 10/1000\n"
     ]
    },
    {
     "name": "stderr",
     "output_type": "stream",
     "text": [
      "2023-02-20 15:17:05.593914: I tensorflow/core/kernels/data/shuffle_dataset_op.cc:392] Filling up shuffle buffer (this may take a while): 884 of 1000\n",
      "2023-02-20 15:17:07.046689: I tensorflow/core/kernels/data/shuffle_dataset_op.cc:417] Shuffle buffer filled.\n"
     ]
    },
    {
     "name": "stdout",
     "output_type": "stream",
     "text": [
      "train_loss: 0.6029\n",
      "train_loss: 0.6069\n",
      "train_loss: 0.5982\n",
      "train_loss: 0.6092\n",
      "train_loss: 0.6031\n",
      "epoch 10 average loss: 0.6041\n"
     ]
    },
    {
     "name": "stderr",
     "output_type": "stream",
     "text": [
      "2023-02-20 15:17:21.987466: I tensorflow/core/kernels/data/shuffle_dataset_op.cc:392] Filling up shuffle buffer (this may take a while): 843 of 1000\n",
      "2023-02-20 15:17:24.028863: I tensorflow/core/kernels/data/shuffle_dataset_op.cc:417] Shuffle buffer filled.\n"
     ]
    },
    {
     "name": "stdout",
     "output_type": "stream",
     "text": [
      "val dice: 0.05782664194703102\n",
      "current epoch: 10 current mean dice: 0.0578\n",
      "best mean dice: 0.0603 at epoch: 8\n",
      "epoch time = 61.198549032211304\n",
      "----------\n",
      "epoch 11/1000\n"
     ]
    },
    {
     "name": "stderr",
     "output_type": "stream",
     "text": [
      "2023-02-20 15:18:06.799101: I tensorflow/core/kernels/data/shuffle_dataset_op.cc:392] Filling up shuffle buffer (this may take a while): 871 of 1000\n",
      "2023-02-20 15:18:08.438692: I tensorflow/core/kernels/data/shuffle_dataset_op.cc:417] Shuffle buffer filled.\n"
     ]
    },
    {
     "name": "stdout",
     "output_type": "stream",
     "text": [
      "train_loss: 0.6027\n",
      "train_loss: 0.5997\n",
      "train_loss: 0.6014\n",
      "train_loss: 0.5999\n",
      "train_loss: 0.6025\n",
      "epoch 11 average loss: 0.6012\n"
     ]
    },
    {
     "name": "stderr",
     "output_type": "stream",
     "text": [
      "2023-02-20 15:18:23.512847: I tensorflow/core/kernels/data/shuffle_dataset_op.cc:392] Filling up shuffle buffer (this may take a while): 859 of 1000\n",
      "2023-02-20 15:18:25.375522: I tensorflow/core/kernels/data/shuffle_dataset_op.cc:417] Shuffle buffer filled.\n"
     ]
    },
    {
     "name": "stdout",
     "output_type": "stream",
     "text": [
      "val dice: 0.06083199381828308\n",
      "saved new best metric model\n",
      "current epoch: 11 current mean dice: 0.0608\n",
      "best mean dice: 0.0608 at epoch: 11\n",
      "epoch time = 62.30818819999695\n",
      "----------\n",
      "epoch 12/1000\n"
     ]
    },
    {
     "name": "stderr",
     "output_type": "stream",
     "text": [
      "2023-02-20 15:19:09.102328: I tensorflow/core/kernels/data/shuffle_dataset_op.cc:392] Filling up shuffle buffer (this may take a while): 856 of 1000\n",
      "2023-02-20 15:19:10.969636: I tensorflow/core/kernels/data/shuffle_dataset_op.cc:417] Shuffle buffer filled.\n"
     ]
    },
    {
     "name": "stdout",
     "output_type": "stream",
     "text": [
      "train_loss: 0.6071\n",
      "train_loss: 0.6063\n",
      "train_loss: 0.6051\n",
      "train_loss: 0.6068\n",
      "train_loss: 0.5995\n",
      "epoch 12 average loss: 0.6050\n"
     ]
    },
    {
     "name": "stderr",
     "output_type": "stream",
     "text": [
      "2023-02-20 15:19:26.011035: I tensorflow/core/kernels/data/shuffle_dataset_op.cc:392] Filling up shuffle buffer (this may take a while): 854 of 1000\n",
      "2023-02-20 15:19:27.920040: I tensorflow/core/kernels/data/shuffle_dataset_op.cc:417] Shuffle buffer filled.\n"
     ]
    },
    {
     "name": "stdout",
     "output_type": "stream",
     "text": [
      "val dice: 0.05165042355656624\n",
      "current epoch: 12 current mean dice: 0.0517\n",
      "best mean dice: 0.0608 at epoch: 11\n",
      "epoch time = 61.71949505805969\n",
      "----------\n",
      "epoch 13/1000\n"
     ]
    },
    {
     "name": "stderr",
     "output_type": "stream",
     "text": [
      "2023-02-20 15:20:10.820463: I tensorflow/core/kernels/data/shuffle_dataset_op.cc:392] Filling up shuffle buffer (this may take a while): 875 of 1000\n",
      "2023-02-20 15:20:12.419219: I tensorflow/core/kernels/data/shuffle_dataset_op.cc:417] Shuffle buffer filled.\n"
     ]
    },
    {
     "name": "stdout",
     "output_type": "stream",
     "text": [
      "train_loss: 0.5968\n",
      "train_loss: 0.5971\n",
      "train_loss: 0.5983\n",
      "train_loss: 0.5997\n",
      "train_loss: 0.5991\n",
      "epoch 13 average loss: 0.5982\n"
     ]
    },
    {
     "name": "stderr",
     "output_type": "stream",
     "text": [
      "2023-02-20 15:20:27.437616: I tensorflow/core/kernels/data/shuffle_dataset_op.cc:392] Filling up shuffle buffer (this may take a while): 855 of 1000\n",
      "2023-02-20 15:20:29.373287: I tensorflow/core/kernels/data/shuffle_dataset_op.cc:417] Shuffle buffer filled.\n"
     ]
    },
    {
     "name": "stdout",
     "output_type": "stream",
     "text": [
      "val dice: 0.05735200643539429\n",
      "current epoch: 13 current mean dice: 0.0574\n",
      "best mean dice: 0.0608 at epoch: 11\n",
      "epoch time = 61.78551411628723\n",
      "----------\n",
      "epoch 14/1000\n"
     ]
    },
    {
     "name": "stderr",
     "output_type": "stream",
     "text": [
      "2023-02-20 15:21:12.601370: I tensorflow/core/kernels/data/shuffle_dataset_op.cc:392] Filling up shuffle buffer (this may take a while): 878 of 1000\n",
      "2023-02-20 15:21:14.171440: I tensorflow/core/kernels/data/shuffle_dataset_op.cc:417] Shuffle buffer filled.\n"
     ]
    },
    {
     "name": "stdout",
     "output_type": "stream",
     "text": [
      "train_loss: 0.6015\n",
      "train_loss: 0.6083\n",
      "train_loss: 0.5925\n",
      "train_loss: 0.6040\n",
      "train_loss: 0.5985\n",
      "epoch 14 average loss: 0.6010\n"
     ]
    },
    {
     "name": "stderr",
     "output_type": "stream",
     "text": [
      "2023-02-20 15:21:29.209330: I tensorflow/core/kernels/data/shuffle_dataset_op.cc:392] Filling up shuffle buffer (this may take a while): 861 of 1000\n",
      "2023-02-20 15:21:31.026633: I tensorflow/core/kernels/data/shuffle_dataset_op.cc:417] Shuffle buffer filled.\n"
     ]
    },
    {
     "name": "stdout",
     "output_type": "stream",
     "text": [
      "val dice: 0.06601493060588837\n",
      "saved new best metric model\n",
      "current epoch: 14 current mean dice: 0.0660\n",
      "best mean dice: 0.0660 at epoch: 14\n",
      "epoch time = 62.07153820991516\n",
      "----------\n",
      "epoch 15/1000\n"
     ]
    },
    {
     "name": "stderr",
     "output_type": "stream",
     "text": [
      "2023-02-20 15:22:14.686214: I tensorflow/core/kernels/data/shuffle_dataset_op.cc:392] Filling up shuffle buffer (this may take a while): 882 of 1000\n",
      "2023-02-20 15:22:16.197607: I tensorflow/core/kernels/data/shuffle_dataset_op.cc:417] Shuffle buffer filled.\n"
     ]
    },
    {
     "name": "stdout",
     "output_type": "stream",
     "text": [
      "train_loss: 0.6050\n",
      "train_loss: 0.5997\n",
      "train_loss: 0.6051\n",
      "train_loss: 0.6007\n",
      "train_loss: 0.6006\n",
      "epoch 15 average loss: 0.6022\n"
     ]
    },
    {
     "name": "stderr",
     "output_type": "stream",
     "text": [
      "2023-02-20 15:22:31.374334: I tensorflow/core/kernels/data/shuffle_dataset_op.cc:392] Filling up shuffle buffer (this may take a while): 852 of 1000\n",
      "2023-02-20 15:22:33.332228: I tensorflow/core/kernels/data/shuffle_dataset_op.cc:417] Shuffle buffer filled.\n"
     ]
    },
    {
     "name": "stdout",
     "output_type": "stream",
     "text": [
      "val dice: 0.04921571910381317\n",
      "current epoch: 15 current mean dice: 0.0492\n",
      "best mean dice: 0.0660 at epoch: 14\n",
      "epoch time = 61.701592683792114\n",
      "----------\n",
      "epoch 16/1000\n"
     ]
    },
    {
     "name": "stderr",
     "output_type": "stream",
     "text": [
      "2023-02-20 15:23:16.385284: I tensorflow/core/kernels/data/shuffle_dataset_op.cc:392] Filling up shuffle buffer (this may take a while): 880 of 1000\n",
      "2023-02-20 15:23:17.926882: I tensorflow/core/kernels/data/shuffle_dataset_op.cc:417] Shuffle buffer filled.\n"
     ]
    },
    {
     "name": "stdout",
     "output_type": "stream",
     "text": [
      "train_loss: 0.5861\n",
      "train_loss: 0.6017\n",
      "train_loss: 0.6036\n",
      "train_loss: 0.5969\n",
      "train_loss: 0.5924\n",
      "epoch 16 average loss: 0.5961\n"
     ]
    },
    {
     "name": "stderr",
     "output_type": "stream",
     "text": [
      "2023-02-20 15:23:33.028987: I tensorflow/core/kernels/data/shuffle_dataset_op.cc:392] Filling up shuffle buffer (this may take a while): 864 of 1000\n",
      "2023-02-20 15:23:34.788009: I tensorflow/core/kernels/data/shuffle_dataset_op.cc:417] Shuffle buffer filled.\n"
     ]
    },
    {
     "name": "stdout",
     "output_type": "stream",
     "text": [
      "val dice: 0.0559731125831604\n",
      "current epoch: 16 current mean dice: 0.0560\n",
      "best mean dice: 0.0660 at epoch: 14\n",
      "epoch time = 61.23450326919556\n",
      "----------\n",
      "epoch 17/1000\n"
     ]
    },
    {
     "name": "stderr",
     "output_type": "stream",
     "text": [
      "2023-02-20 15:24:17.609874: I tensorflow/core/kernels/data/shuffle_dataset_op.cc:392] Filling up shuffle buffer (this may take a while): 878 of 1000\n",
      "2023-02-20 15:24:19.159898: I tensorflow/core/kernels/data/shuffle_dataset_op.cc:417] Shuffle buffer filled.\n"
     ]
    },
    {
     "name": "stdout",
     "output_type": "stream",
     "text": [
      "train_loss: 0.6037\n",
      "train_loss: 0.6036\n",
      "train_loss: 0.5942\n",
      "train_loss: 0.5968\n",
      "train_loss: 0.5872\n",
      "epoch 17 average loss: 0.5971\n"
     ]
    },
    {
     "name": "stderr",
     "output_type": "stream",
     "text": [
      "2023-02-20 15:24:34.162303: I tensorflow/core/kernels/data/shuffle_dataset_op.cc:392] Filling up shuffle buffer (this may take a while): 861 of 1000\n",
      "2023-02-20 15:24:35.971687: I tensorflow/core/kernels/data/shuffle_dataset_op.cc:417] Shuffle buffer filled.\n"
     ]
    },
    {
     "name": "stdout",
     "output_type": "stream",
     "text": [
      "val dice: 0.060095757246017456\n",
      "current epoch: 17 current mean dice: 0.0601\n",
      "best mean dice: 0.0660 at epoch: 14\n",
      "epoch time = 61.44190192222595\n",
      "----------\n",
      "epoch 18/1000\n"
     ]
    },
    {
     "name": "stderr",
     "output_type": "stream",
     "text": [
      "2023-02-20 15:25:19.054833: I tensorflow/core/kernels/data/shuffle_dataset_op.cc:392] Filling up shuffle buffer (this may take a while): 878 of 1000\n",
      "2023-02-20 15:25:20.593509: I tensorflow/core/kernels/data/shuffle_dataset_op.cc:417] Shuffle buffer filled.\n"
     ]
    },
    {
     "name": "stdout",
     "output_type": "stream",
     "text": [
      "train_loss: 0.5964\n",
      "train_loss: 0.6005\n",
      "train_loss: 0.5848\n",
      "train_loss: 0.5940\n",
      "train_loss: 0.5922\n",
      "epoch 18 average loss: 0.5936\n"
     ]
    },
    {
     "name": "stderr",
     "output_type": "stream",
     "text": [
      "2023-02-20 15:25:35.660207: I tensorflow/core/kernels/data/shuffle_dataset_op.cc:392] Filling up shuffle buffer (this may take a while): 856 of 1000\n",
      "2023-02-20 15:25:37.537035: I tensorflow/core/kernels/data/shuffle_dataset_op.cc:417] Shuffle buffer filled.\n"
     ]
    },
    {
     "name": "stdout",
     "output_type": "stream",
     "text": [
      "val dice: 0.07034355401992798\n",
      "saved new best metric model\n",
      "current epoch: 18 current mean dice: 0.0703\n",
      "best mean dice: 0.0703 at epoch: 18\n",
      "epoch time = 61.19939684867859\n",
      "----------\n",
      "epoch 19/1000\n"
     ]
    },
    {
     "name": "stderr",
     "output_type": "stream",
     "text": [
      "2023-02-20 15:26:20.250425: I tensorflow/core/kernels/data/shuffle_dataset_op.cc:392] Filling up shuffle buffer (this may take a while): 881 of 1000\n",
      "2023-02-20 15:26:21.750472: I tensorflow/core/kernels/data/shuffle_dataset_op.cc:417] Shuffle buffer filled.\n"
     ]
    },
    {
     "name": "stdout",
     "output_type": "stream",
     "text": [
      "train_loss: 0.6025\n",
      "train_loss: 0.5953\n",
      "train_loss: 0.5921\n",
      "train_loss: 0.5938\n",
      "train_loss: 0.5990\n",
      "epoch 19 average loss: 0.5965\n"
     ]
    },
    {
     "name": "stderr",
     "output_type": "stream",
     "text": [
      "2023-02-20 15:26:36.815090: I tensorflow/core/kernels/data/shuffle_dataset_op.cc:392] Filling up shuffle buffer (this may take a while): 850 of 1000\n",
      "2023-02-20 15:26:38.809161: I tensorflow/core/kernels/data/shuffle_dataset_op.cc:417] Shuffle buffer filled.\n"
     ]
    },
    {
     "name": "stdout",
     "output_type": "stream",
     "text": [
      "val dice: 0.05125591903924942\n",
      "current epoch: 19 current mean dice: 0.0513\n",
      "best mean dice: 0.0703 at epoch: 18\n",
      "epoch time = 62.046101093292236\n",
      "----------\n",
      "epoch 20/1000\n"
     ]
    },
    {
     "name": "stderr",
     "output_type": "stream",
     "text": [
      "2023-02-20 15:27:22.306051: I tensorflow/core/kernels/data/shuffle_dataset_op.cc:392] Filling up shuffle buffer (this may take a while): 865 of 1000\n",
      "2023-02-20 15:27:24.021298: I tensorflow/core/kernels/data/shuffle_dataset_op.cc:417] Shuffle buffer filled.\n"
     ]
    },
    {
     "name": "stdout",
     "output_type": "stream",
     "text": [
      "train_loss: 0.5902\n",
      "train_loss: 0.6011\n",
      "train_loss: 0.6006\n",
      "train_loss: 0.5941\n",
      "train_loss: 0.5968\n",
      "epoch 20 average loss: 0.5966\n"
     ]
    },
    {
     "name": "stderr",
     "output_type": "stream",
     "text": [
      "2023-02-20 15:27:39.121625: I tensorflow/core/kernels/data/shuffle_dataset_op.cc:392] Filling up shuffle buffer (this may take a while): 851 of 1000\n",
      "2023-02-20 15:27:41.084286: I tensorflow/core/kernels/data/shuffle_dataset_op.cc:417] Shuffle buffer filled.\n"
     ]
    },
    {
     "name": "stdout",
     "output_type": "stream",
     "text": [
      "val dice: 0.06979748606681824\n",
      "current epoch: 20 current mean dice: 0.0698\n",
      "best mean dice: 0.0703 at epoch: 18\n",
      "epoch time = 61.706934452056885\n",
      "----------\n",
      "epoch 21/1000\n"
     ]
    },
    {
     "name": "stderr",
     "output_type": "stream",
     "text": [
      "2023-02-20 15:28:24.005924: I tensorflow/core/kernels/data/shuffle_dataset_op.cc:392] Filling up shuffle buffer (this may take a while): 877 of 1000\n",
      "2023-02-20 15:28:25.557813: I tensorflow/core/kernels/data/shuffle_dataset_op.cc:417] Shuffle buffer filled.\n"
     ]
    },
    {
     "name": "stdout",
     "output_type": "stream",
     "text": [
      "train_loss: 0.5926\n",
      "train_loss: 0.5944\n",
      "train_loss: 0.5832\n",
      "train_loss: 0.5895\n",
      "train_loss: 0.5976\n",
      "epoch 21 average loss: 0.5915\n"
     ]
    },
    {
     "name": "stderr",
     "output_type": "stream",
     "text": [
      "2023-02-20 15:28:40.529953: I tensorflow/core/kernels/data/shuffle_dataset_op.cc:392] Filling up shuffle buffer (this may take a while): 854 of 1000\n",
      "2023-02-20 15:28:42.464189: I tensorflow/core/kernels/data/shuffle_dataset_op.cc:417] Shuffle buffer filled.\n"
     ]
    },
    {
     "name": "stdout",
     "output_type": "stream",
     "text": [
      "val dice: 0.07656464725732803\n",
      "saved new best metric model\n",
      "current epoch: 21 current mean dice: 0.0766\n",
      "best mean dice: 0.0766 at epoch: 21\n",
      "epoch time = 61.80886721611023\n",
      "----------\n",
      "epoch 22/1000\n"
     ]
    },
    {
     "name": "stderr",
     "output_type": "stream",
     "text": [
      "2023-02-20 15:29:25.832088: I tensorflow/core/kernels/data/shuffle_dataset_op.cc:392] Filling up shuffle buffer (this may take a while): 852 of 1000\n",
      "2023-02-20 15:29:27.717475: I tensorflow/core/kernels/data/shuffle_dataset_op.cc:417] Shuffle buffer filled.\n"
     ]
    },
    {
     "name": "stdout",
     "output_type": "stream",
     "text": [
      "train_loss: 0.5989\n",
      "train_loss: 0.6009\n",
      "train_loss: 0.6002\n",
      "train_loss: 0.5862\n",
      "train_loss: 0.5945\n",
      "epoch 22 average loss: 0.5961\n"
     ]
    },
    {
     "name": "stderr",
     "output_type": "stream",
     "text": [
      "2023-02-20 15:29:42.767289: I tensorflow/core/kernels/data/shuffle_dataset_op.cc:392] Filling up shuffle buffer (this may take a while): 846 of 1000\n",
      "2023-02-20 15:29:44.795704: I tensorflow/core/kernels/data/shuffle_dataset_op.cc:417] Shuffle buffer filled.\n"
     ]
    },
    {
     "name": "stdout",
     "output_type": "stream",
     "text": [
      "val dice: 0.06765883415937424\n",
      "current epoch: 22 current mean dice: 0.0677\n",
      "best mean dice: 0.0766 at epoch: 21\n",
      "epoch time = 62.18281126022339\n",
      "----------\n",
      "epoch 23/1000\n"
     ]
    },
    {
     "name": "stderr",
     "output_type": "stream",
     "text": [
      "2023-02-20 15:30:28.005240: I tensorflow/core/kernels/data/shuffle_dataset_op.cc:392] Filling up shuffle buffer (this may take a while): 865 of 1000\n",
      "2023-02-20 15:30:29.740035: I tensorflow/core/kernels/data/shuffle_dataset_op.cc:417] Shuffle buffer filled.\n"
     ]
    },
    {
     "name": "stdout",
     "output_type": "stream",
     "text": [
      "train_loss: 0.5888\n",
      "train_loss: 0.5903\n",
      "train_loss: 0.6044\n",
      "train_loss: 0.5986\n",
      "train_loss: 0.5837\n",
      "epoch 23 average loss: 0.5931\n"
     ]
    },
    {
     "name": "stderr",
     "output_type": "stream",
     "text": [
      "2023-02-20 15:30:44.830832: I tensorflow/core/kernels/data/shuffle_dataset_op.cc:392] Filling up shuffle buffer (this may take a while): 840 of 1000\n",
      "2023-02-20 15:30:46.965366: I tensorflow/core/kernels/data/shuffle_dataset_op.cc:417] Shuffle buffer filled.\n"
     ]
    },
    {
     "name": "stdout",
     "output_type": "stream",
     "text": [
      "val dice: 0.06851012259721756\n",
      "current epoch: 23 current mean dice: 0.0685\n",
      "best mean dice: 0.0766 at epoch: 21\n",
      "epoch time = 62.918134927749634\n",
      "----------\n",
      "epoch 24/1000\n"
     ]
    },
    {
     "name": "stderr",
     "output_type": "stream",
     "text": [
      "2023-02-20 15:31:30.914179: I tensorflow/core/kernels/data/shuffle_dataset_op.cc:392] Filling up shuffle buffer (this may take a while): 883 of 1000\n",
      "2023-02-20 15:31:32.420424: I tensorflow/core/kernels/data/shuffle_dataset_op.cc:417] Shuffle buffer filled.\n"
     ]
    },
    {
     "name": "stdout",
     "output_type": "stream",
     "text": [
      "train_loss: 0.5786\n",
      "train_loss: 0.5978\n",
      "train_loss: 0.6019\n",
      "train_loss: 0.5958\n",
      "train_loss: 0.5776\n",
      "epoch 24 average loss: 0.5903\n"
     ]
    },
    {
     "name": "stderr",
     "output_type": "stream",
     "text": [
      "2023-02-20 15:31:47.490383: I tensorflow/core/kernels/data/shuffle_dataset_op.cc:392] Filling up shuffle buffer (this may take a while): 860 of 1000\n",
      "2023-02-20 15:31:49.303259: I tensorflow/core/kernels/data/shuffle_dataset_op.cc:417] Shuffle buffer filled.\n"
     ]
    },
    {
     "name": "stdout",
     "output_type": "stream",
     "text": [
      "val dice: 0.06001462787389755\n",
      "current epoch: 24 current mean dice: 0.0600\n",
      "best mean dice: 0.0766 at epoch: 21\n",
      "epoch time = 61.648085594177246\n",
      "----------\n",
      "epoch 25/1000\n"
     ]
    },
    {
     "name": "stderr",
     "output_type": "stream",
     "text": [
      "2023-02-20 15:32:32.564860: I tensorflow/core/kernels/data/shuffle_dataset_op.cc:392] Filling up shuffle buffer (this may take a while): 857 of 1000\n",
      "2023-02-20 15:32:34.416247: I tensorflow/core/kernels/data/shuffle_dataset_op.cc:417] Shuffle buffer filled.\n"
     ]
    },
    {
     "name": "stdout",
     "output_type": "stream",
     "text": [
      "train_loss: 0.5931\n",
      "train_loss: 0.5952\n",
      "train_loss: 0.5828\n",
      "train_loss: 0.5953\n",
      "train_loss: 0.5828\n",
      "epoch 25 average loss: 0.5898\n"
     ]
    },
    {
     "name": "stderr",
     "output_type": "stream",
     "text": [
      "2023-02-20 15:32:49.420137: I tensorflow/core/kernels/data/shuffle_dataset_op.cc:392] Filling up shuffle buffer (this may take a while): 862 of 1000\n",
      "2023-02-20 15:32:51.212226: I tensorflow/core/kernels/data/shuffle_dataset_op.cc:417] Shuffle buffer filled.\n"
     ]
    },
    {
     "name": "stdout",
     "output_type": "stream",
     "text": [
      "val dice: 0.07413176447153091\n",
      "current epoch: 25 current mean dice: 0.0741\n",
      "best mean dice: 0.0766 at epoch: 21\n",
      "epoch time = 61.50286912918091\n",
      "----------\n",
      "epoch 26/1000\n"
     ]
    },
    {
     "name": "stderr",
     "output_type": "stream",
     "text": [
      "2023-02-20 15:33:34.069661: I tensorflow/core/kernels/data/shuffle_dataset_op.cc:392] Filling up shuffle buffer (this may take a while): 877 of 1000\n",
      "2023-02-20 15:33:35.648967: I tensorflow/core/kernels/data/shuffle_dataset_op.cc:417] Shuffle buffer filled.\n"
     ]
    },
    {
     "name": "stdout",
     "output_type": "stream",
     "text": [
      "train_loss: 0.5844\n",
      "train_loss: 0.6008\n",
      "train_loss: 0.6013\n",
      "train_loss: 0.5964\n",
      "train_loss: 0.5864\n",
      "epoch 26 average loss: 0.5939\n"
     ]
    },
    {
     "name": "stderr",
     "output_type": "stream",
     "text": [
      "2023-02-20 15:33:50.716164: I tensorflow/core/kernels/data/shuffle_dataset_op.cc:392] Filling up shuffle buffer (this may take a while): 863 of 1000\n",
      "2023-02-20 15:33:52.497546: I tensorflow/core/kernels/data/shuffle_dataset_op.cc:417] Shuffle buffer filled.\n"
     ]
    },
    {
     "name": "stdout",
     "output_type": "stream",
     "text": [
      "val dice: 0.07137863337993622\n",
      "current epoch: 26 current mean dice: 0.0714\n",
      "best mean dice: 0.0766 at epoch: 21\n",
      "epoch time = 61.477657079696655\n",
      "----------\n",
      "epoch 27/1000\n"
     ]
    },
    {
     "name": "stderr",
     "output_type": "stream",
     "text": [
      "2023-02-20 15:34:35.543249: I tensorflow/core/kernels/data/shuffle_dataset_op.cc:392] Filling up shuffle buffer (this may take a while): 872 of 1000\n",
      "2023-02-20 15:34:37.196182: I tensorflow/core/kernels/data/shuffle_dataset_op.cc:417] Shuffle buffer filled.\n"
     ]
    },
    {
     "name": "stdout",
     "output_type": "stream",
     "text": [
      "train_loss: 0.5968\n",
      "train_loss: 0.5996\n",
      "train_loss: 0.5876\n",
      "train_loss: 0.5898\n",
      "train_loss: 0.5856\n",
      "epoch 27 average loss: 0.5919\n"
     ]
    },
    {
     "name": "stderr",
     "output_type": "stream",
     "text": [
      "2023-02-20 15:34:52.213873: I tensorflow/core/kernels/data/shuffle_dataset_op.cc:392] Filling up shuffle buffer (this may take a while): 861 of 1000\n",
      "2023-02-20 15:34:54.057697: I tensorflow/core/kernels/data/shuffle_dataset_op.cc:417] Shuffle buffer filled.\n"
     ]
    },
    {
     "name": "stdout",
     "output_type": "stream",
     "text": [
      "val dice: 0.08180288970470428\n",
      "saved new best metric model\n",
      "current epoch: 27 current mean dice: 0.0818\n",
      "best mean dice: 0.0818 at epoch: 27\n",
      "epoch time = 62.21807312965393\n",
      "----------\n",
      "epoch 28/1000\n"
     ]
    },
    {
     "name": "stderr",
     "output_type": "stream",
     "text": [
      "2023-02-20 15:35:37.766512: I tensorflow/core/kernels/data/shuffle_dataset_op.cc:392] Filling up shuffle buffer (this may take a while): 870 of 1000\n",
      "2023-02-20 15:35:39.427684: I tensorflow/core/kernels/data/shuffle_dataset_op.cc:417] Shuffle buffer filled.\n"
     ]
    },
    {
     "name": "stdout",
     "output_type": "stream",
     "text": [
      "train_loss: 0.5920\n",
      "train_loss: 0.5991\n",
      "train_loss: 0.6008\n",
      "train_loss: 0.5896\n",
      "train_loss: 0.5974\n",
      "epoch 28 average loss: 0.5958\n"
     ]
    },
    {
     "name": "stderr",
     "output_type": "stream",
     "text": [
      "2023-02-20 15:35:54.505080: I tensorflow/core/kernels/data/shuffle_dataset_op.cc:392] Filling up shuffle buffer (this may take a while): 860 of 1000\n",
      "2023-02-20 15:35:56.335055: I tensorflow/core/kernels/data/shuffle_dataset_op.cc:417] Shuffle buffer filled.\n"
     ]
    },
    {
     "name": "stdout",
     "output_type": "stream",
     "text": [
      "val dice: 0.07948248088359833\n",
      "current epoch: 28 current mean dice: 0.0795\n",
      "best mean dice: 0.0818 at epoch: 27\n",
      "epoch time = 61.77774620056152\n",
      "----------\n",
      "epoch 29/1000\n"
     ]
    },
    {
     "name": "stderr",
     "output_type": "stream",
     "text": [
      "2023-02-20 15:36:39.555515: I tensorflow/core/kernels/data/shuffle_dataset_op.cc:392] Filling up shuffle buffer (this may take a while): 872 of 1000\n",
      "2023-02-20 15:36:41.182275: I tensorflow/core/kernels/data/shuffle_dataset_op.cc:417] Shuffle buffer filled.\n"
     ]
    },
    {
     "name": "stdout",
     "output_type": "stream",
     "text": [
      "train_loss: 0.5986\n",
      "train_loss: 0.5925\n",
      "train_loss: 0.5970\n",
      "train_loss: 0.5985\n",
      "train_loss: 0.5922\n",
      "epoch 29 average loss: 0.5957\n"
     ]
    },
    {
     "name": "stderr",
     "output_type": "stream",
     "text": [
      "2023-02-20 15:36:56.200192: I tensorflow/core/kernels/data/shuffle_dataset_op.cc:392] Filling up shuffle buffer (this may take a while): 840 of 1000\n",
      "2023-02-20 15:36:58.338961: I tensorflow/core/kernels/data/shuffle_dataset_op.cc:417] Shuffle buffer filled.\n"
     ]
    },
    {
     "name": "stdout",
     "output_type": "stream",
     "text": [
      "val dice: 0.051608260720968246\n",
      "current epoch: 29 current mean dice: 0.0516\n",
      "best mean dice: 0.0818 at epoch: 27\n",
      "epoch time = 61.69641470909119\n",
      "----------\n",
      "epoch 30/1000\n"
     ]
    },
    {
     "name": "stderr",
     "output_type": "stream",
     "text": [
      "2023-02-20 15:37:41.230131: I tensorflow/core/kernels/data/shuffle_dataset_op.cc:392] Filling up shuffle buffer (this may take a while): 866 of 1000\n",
      "2023-02-20 15:37:42.949498: I tensorflow/core/kernels/data/shuffle_dataset_op.cc:417] Shuffle buffer filled.\n"
     ]
    },
    {
     "name": "stdout",
     "output_type": "stream",
     "text": [
      "train_loss: 0.5905\n",
      "train_loss: 0.5913\n",
      "train_loss: 0.5914\n",
      "train_loss: 0.5969\n",
      "train_loss: 0.5986\n",
      "epoch 30 average loss: 0.5937\n"
     ]
    },
    {
     "name": "stderr",
     "output_type": "stream",
     "text": [
      "2023-02-20 15:37:58.015020: I tensorflow/core/kernels/data/shuffle_dataset_op.cc:392] Filling up shuffle buffer (this may take a while): 856 of 1000\n",
      "2023-02-20 15:37:59.911429: I tensorflow/core/kernels/data/shuffle_dataset_op.cc:417] Shuffle buffer filled.\n"
     ]
    },
    {
     "name": "stdout",
     "output_type": "stream",
     "text": [
      "val dice: 0.07583984732627869\n",
      "current epoch: 30 current mean dice: 0.0758\n",
      "best mean dice: 0.0818 at epoch: 27\n",
      "epoch time = 61.747114419937134\n",
      "----------\n",
      "epoch 31/1000\n"
     ]
    },
    {
     "name": "stderr",
     "output_type": "stream",
     "text": [
      "2023-02-20 15:38:42.986850: I tensorflow/core/kernels/data/shuffle_dataset_op.cc:392] Filling up shuffle buffer (this may take a while): 870 of 1000\n",
      "2023-02-20 15:38:44.643518: I tensorflow/core/kernels/data/shuffle_dataset_op.cc:417] Shuffle buffer filled.\n"
     ]
    },
    {
     "name": "stdout",
     "output_type": "stream",
     "text": [
      "train_loss: 0.5951\n",
      "train_loss: 0.5911\n",
      "train_loss: 0.5963\n",
      "train_loss: 0.5901\n",
      "train_loss: 0.5882\n",
      "epoch 31 average loss: 0.5922\n"
     ]
    },
    {
     "name": "stderr",
     "output_type": "stream",
     "text": [
      "2023-02-20 15:38:59.844488: I tensorflow/core/kernels/data/shuffle_dataset_op.cc:392] Filling up shuffle buffer (this may take a while): 860 of 1000\n",
      "2023-02-20 15:39:01.653148: I tensorflow/core/kernels/data/shuffle_dataset_op.cc:417] Shuffle buffer filled.\n"
     ]
    },
    {
     "name": "stdout",
     "output_type": "stream",
     "text": [
      "val dice: 0.07335386425256729\n",
      "current epoch: 31 current mean dice: 0.0734\n",
      "best mean dice: 0.0818 at epoch: 27\n",
      "epoch time = 61.59228587150574\n",
      "----------\n",
      "epoch 32/1000\n"
     ]
    },
    {
     "name": "stderr",
     "output_type": "stream",
     "text": [
      "2023-02-20 15:39:44.579815: I tensorflow/core/kernels/data/shuffle_dataset_op.cc:392] Filling up shuffle buffer (this may take a while): 851 of 1000\n",
      "2023-02-20 15:39:46.488947: I tensorflow/core/kernels/data/shuffle_dataset_op.cc:417] Shuffle buffer filled.\n"
     ]
    },
    {
     "name": "stdout",
     "output_type": "stream",
     "text": [
      "train_loss: 0.5902\n",
      "train_loss: 0.5894\n",
      "train_loss: 0.5903\n",
      "train_loss: 0.5869\n",
      "train_loss: 0.5934\n",
      "epoch 32 average loss: 0.5900\n"
     ]
    },
    {
     "name": "stderr",
     "output_type": "stream",
     "text": [
      "2023-02-20 15:40:01.566688: I tensorflow/core/kernels/data/shuffle_dataset_op.cc:392] Filling up shuffle buffer (this may take a while): 861 of 1000\n",
      "2023-02-20 15:40:03.351312: I tensorflow/core/kernels/data/shuffle_dataset_op.cc:417] Shuffle buffer filled.\n"
     ]
    },
    {
     "name": "stdout",
     "output_type": "stream",
     "text": [
      "val dice: 0.07204536348581314\n",
      "current epoch: 32 current mean dice: 0.0720\n",
      "best mean dice: 0.0818 at epoch: 27\n",
      "epoch time = 61.5740168094635\n",
      "----------\n",
      "epoch 33/1000\n"
     ]
    },
    {
     "name": "stderr",
     "output_type": "stream",
     "text": [
      "2023-02-20 15:40:46.160394: I tensorflow/core/kernels/data/shuffle_dataset_op.cc:392] Filling up shuffle buffer (this may take a while): 882 of 1000\n",
      "2023-02-20 15:40:47.635596: I tensorflow/core/kernels/data/shuffle_dataset_op.cc:417] Shuffle buffer filled.\n"
     ]
    },
    {
     "name": "stdout",
     "output_type": "stream",
     "text": [
      "train_loss: 0.5891\n",
      "train_loss: 0.5913\n",
      "train_loss: 0.5873\n",
      "train_loss: 0.5966\n",
      "train_loss: 0.5957\n",
      "epoch 33 average loss: 0.5920\n"
     ]
    },
    {
     "name": "stderr",
     "output_type": "stream",
     "text": [
      "2023-02-20 15:41:02.805483: I tensorflow/core/kernels/data/shuffle_dataset_op.cc:392] Filling up shuffle buffer (this may take a while): 868 of 1000\n",
      "2023-02-20 15:41:04.500575: I tensorflow/core/kernels/data/shuffle_dataset_op.cc:417] Shuffle buffer filled.\n"
     ]
    },
    {
     "name": "stdout",
     "output_type": "stream",
     "text": [
      "val dice: 0.07741503417491913\n",
      "current epoch: 33 current mean dice: 0.0774\n",
      "best mean dice: 0.0818 at epoch: 27\n",
      "epoch time = 61.47507309913635\n",
      "----------\n",
      "epoch 34/1000\n"
     ]
    },
    {
     "name": "stderr",
     "output_type": "stream",
     "text": [
      "2023-02-20 15:41:47.625520: I tensorflow/core/kernels/data/shuffle_dataset_op.cc:392] Filling up shuffle buffer (this may take a while): 879 of 1000\n",
      "2023-02-20 15:41:49.155061: I tensorflow/core/kernels/data/shuffle_dataset_op.cc:417] Shuffle buffer filled.\n"
     ]
    },
    {
     "name": "stdout",
     "output_type": "stream",
     "text": [
      "train_loss: 0.5860\n",
      "train_loss: 0.5851\n",
      "train_loss: 0.5849\n",
      "train_loss: 0.6010\n",
      "train_loss: 0.5965\n",
      "epoch 34 average loss: 0.5907\n"
     ]
    },
    {
     "name": "stderr",
     "output_type": "stream",
     "text": [
      "2023-02-20 15:42:04.157981: I tensorflow/core/kernels/data/shuffle_dataset_op.cc:392] Filling up shuffle buffer (this may take a while): 863 of 1000\n",
      "2023-02-20 15:42:05.932560: I tensorflow/core/kernels/data/shuffle_dataset_op.cc:417] Shuffle buffer filled.\n"
     ]
    },
    {
     "name": "stdout",
     "output_type": "stream",
     "text": [
      "val dice: 0.0778067335486412\n",
      "current epoch: 34 current mean dice: 0.0778\n",
      "best mean dice: 0.0818 at epoch: 27\n",
      "epoch time = 61.174880504608154\n",
      "----------\n",
      "epoch 35/1000\n"
     ]
    },
    {
     "name": "stderr",
     "output_type": "stream",
     "text": [
      "2023-02-20 15:42:48.806910: I tensorflow/core/kernels/data/shuffle_dataset_op.cc:392] Filling up shuffle buffer (this may take a while): 884 of 1000\n",
      "2023-02-20 15:42:50.287611: I tensorflow/core/kernels/data/shuffle_dataset_op.cc:417] Shuffle buffer filled.\n"
     ]
    },
    {
     "name": "stdout",
     "output_type": "stream",
     "text": [
      "train_loss: 0.5933\n",
      "train_loss: 0.5901\n",
      "train_loss: 0.5787\n",
      "train_loss: 0.5887\n",
      "train_loss: 0.5903\n",
      "epoch 35 average loss: 0.5882\n"
     ]
    },
    {
     "name": "stderr",
     "output_type": "stream",
     "text": [
      "2023-02-20 15:43:05.342270: I tensorflow/core/kernels/data/shuffle_dataset_op.cc:392] Filling up shuffle buffer (this may take a while): 861 of 1000\n",
      "2023-02-20 15:43:07.155103: I tensorflow/core/kernels/data/shuffle_dataset_op.cc:417] Shuffle buffer filled.\n"
     ]
    },
    {
     "name": "stdout",
     "output_type": "stream",
     "text": [
      "val dice: 0.08181054145097733\n",
      "saved new best metric model\n",
      "current epoch: 35 current mean dice: 0.0818\n",
      "best mean dice: 0.0818 at epoch: 35\n",
      "epoch time = 62.13405227661133\n",
      "----------\n",
      "epoch 36/1000\n"
     ]
    },
    {
     "name": "stderr",
     "output_type": "stream",
     "text": [
      "2023-02-20 15:43:50.948197: I tensorflow/core/kernels/data/shuffle_dataset_op.cc:392] Filling up shuffle buffer (this may take a while): 871 of 1000\n",
      "2023-02-20 15:43:52.606072: I tensorflow/core/kernels/data/shuffle_dataset_op.cc:417] Shuffle buffer filled.\n"
     ]
    },
    {
     "name": "stdout",
     "output_type": "stream",
     "text": [
      "train_loss: 0.5945\n",
      "train_loss: 0.5790\n",
      "train_loss: 0.5911\n",
      "train_loss: 0.5825\n",
      "train_loss: 0.5852\n",
      "epoch 36 average loss: 0.5865\n"
     ]
    },
    {
     "name": "stderr",
     "output_type": "stream",
     "text": [
      "2023-02-20 15:44:07.838345: I tensorflow/core/kernels/data/shuffle_dataset_op.cc:392] Filling up shuffle buffer (this may take a while): 859 of 1000\n",
      "2023-02-20 15:44:09.689483: I tensorflow/core/kernels/data/shuffle_dataset_op.cc:417] Shuffle buffer filled.\n"
     ]
    },
    {
     "name": "stdout",
     "output_type": "stream",
     "text": [
      "val dice: 0.08890047669410706\n",
      "saved new best metric model\n",
      "current epoch: 36 current mean dice: 0.0889\n",
      "best mean dice: 0.0889 at epoch: 36\n",
      "epoch time = 61.74382448196411\n",
      "----------\n",
      "epoch 37/1000\n"
     ]
    },
    {
     "name": "stderr",
     "output_type": "stream",
     "text": [
      "2023-02-20 15:44:52.680345: I tensorflow/core/kernels/data/shuffle_dataset_op.cc:392] Filling up shuffle buffer (this may take a while): 879 of 1000\n",
      "2023-02-20 15:44:54.215647: I tensorflow/core/kernels/data/shuffle_dataset_op.cc:417] Shuffle buffer filled.\n"
     ]
    },
    {
     "name": "stdout",
     "output_type": "stream",
     "text": [
      "train_loss: 0.5843\n",
      "train_loss: 0.5953\n",
      "train_loss: 0.5889\n",
      "train_loss: 0.5831\n",
      "train_loss: 0.5995\n",
      "epoch 37 average loss: 0.5902\n"
     ]
    },
    {
     "name": "stderr",
     "output_type": "stream",
     "text": [
      "2023-02-20 15:45:09.244852: I tensorflow/core/kernels/data/shuffle_dataset_op.cc:392] Filling up shuffle buffer (this may take a while): 870 of 1000\n",
      "2023-02-20 15:45:10.910235: I tensorflow/core/kernels/data/shuffle_dataset_op.cc:417] Shuffle buffer filled.\n"
     ]
    },
    {
     "name": "stdout",
     "output_type": "stream",
     "text": [
      "val dice: 0.07799189537763596\n",
      "current epoch: 37 current mean dice: 0.0780\n",
      "best mean dice: 0.0889 at epoch: 36\n",
      "epoch time = 60.93450880050659\n",
      "----------\n",
      "epoch 38/1000\n"
     ]
    },
    {
     "name": "stderr",
     "output_type": "stream",
     "text": [
      "2023-02-20 15:45:53.611245: I tensorflow/core/kernels/data/shuffle_dataset_op.cc:392] Filling up shuffle buffer (this may take a while): 871 of 1000\n",
      "2023-02-20 15:45:55.262741: I tensorflow/core/kernels/data/shuffle_dataset_op.cc:417] Shuffle buffer filled.\n"
     ]
    },
    {
     "name": "stdout",
     "output_type": "stream",
     "text": [
      "train_loss: 0.5932\n",
      "train_loss: 0.5889\n",
      "train_loss: 0.5867\n",
      "train_loss: 0.5870\n",
      "train_loss: 0.5810\n",
      "epoch 38 average loss: 0.5874\n"
     ]
    },
    {
     "name": "stderr",
     "output_type": "stream",
     "text": [
      "2023-02-20 15:46:10.287550: I tensorflow/core/kernels/data/shuffle_dataset_op.cc:392] Filling up shuffle buffer (this may take a while): 861 of 1000\n",
      "2023-02-20 15:46:12.094266: I tensorflow/core/kernels/data/shuffle_dataset_op.cc:417] Shuffle buffer filled.\n"
     ]
    },
    {
     "name": "stdout",
     "output_type": "stream",
     "text": [
      "val dice: 0.07312651723623276\n",
      "current epoch: 38 current mean dice: 0.0731\n",
      "best mean dice: 0.0889 at epoch: 36\n",
      "epoch time = 61.987815380096436\n",
      "----------\n",
      "epoch 39/1000\n"
     ]
    },
    {
     "name": "stderr",
     "output_type": "stream",
     "text": [
      "2023-02-20 15:46:55.600187: I tensorflow/core/kernels/data/shuffle_dataset_op.cc:392] Filling up shuffle buffer (this may take a while): 881 of 1000\n",
      "2023-02-20 15:46:57.103244: I tensorflow/core/kernels/data/shuffle_dataset_op.cc:417] Shuffle buffer filled.\n"
     ]
    },
    {
     "name": "stdout",
     "output_type": "stream",
     "text": [
      "train_loss: 0.5903\n",
      "train_loss: 0.5807\n",
      "train_loss: 0.5947\n",
      "train_loss: 0.5905\n",
      "train_loss: 0.5840\n",
      "epoch 39 average loss: 0.5880\n"
     ]
    },
    {
     "name": "stderr",
     "output_type": "stream",
     "text": [
      "2023-02-20 15:47:12.122284: I tensorflow/core/kernels/data/shuffle_dataset_op.cc:392] Filling up shuffle buffer (this may take a while): 862 of 1000\n",
      "2023-02-20 15:47:13.906053: I tensorflow/core/kernels/data/shuffle_dataset_op.cc:417] Shuffle buffer filled.\n"
     ]
    },
    {
     "name": "stdout",
     "output_type": "stream",
     "text": [
      "val dice: 0.08803790807723999\n",
      "current epoch: 39 current mean dice: 0.0880\n",
      "best mean dice: 0.0889 at epoch: 36\n",
      "epoch time = 61.239625692367554\n",
      "----------\n",
      "epoch 40/1000\n"
     ]
    },
    {
     "name": "stderr",
     "output_type": "stream",
     "text": [
      "2023-02-20 15:47:56.848384: I tensorflow/core/kernels/data/shuffle_dataset_op.cc:392] Filling up shuffle buffer (this may take a while): 876 of 1000\n",
      "2023-02-20 15:47:58.420683: I tensorflow/core/kernels/data/shuffle_dataset_op.cc:417] Shuffle buffer filled.\n"
     ]
    },
    {
     "name": "stdout",
     "output_type": "stream",
     "text": [
      "train_loss: 0.5912\n",
      "train_loss: 0.5907\n",
      "train_loss: 0.5953\n",
      "train_loss: 0.5955\n",
      "train_loss: 0.5866\n",
      "epoch 40 average loss: 0.5918\n"
     ]
    },
    {
     "name": "stderr",
     "output_type": "stream",
     "text": [
      "2023-02-20 15:48:13.513377: I tensorflow/core/kernels/data/shuffle_dataset_op.cc:392] Filling up shuffle buffer (this may take a while): 850 of 1000\n",
      "2023-02-20 15:48:15.461239: I tensorflow/core/kernels/data/shuffle_dataset_op.cc:417] Shuffle buffer filled.\n"
     ]
    },
    {
     "name": "stdout",
     "output_type": "stream",
     "text": [
      "val dice: 0.09538532793521881\n",
      "saved new best metric model\n",
      "current epoch: 40 current mean dice: 0.0954\n",
      "best mean dice: 0.0954 at epoch: 40\n",
      "epoch time = 61.470181941986084\n",
      "----------\n",
      "epoch 41/1000\n"
     ]
    },
    {
     "name": "stderr",
     "output_type": "stream",
     "text": [
      "2023-02-20 15:48:58.320784: I tensorflow/core/kernels/data/shuffle_dataset_op.cc:392] Filling up shuffle buffer (this may take a while): 852 of 1000\n",
      "2023-02-20 15:49:00.177401: I tensorflow/core/kernels/data/shuffle_dataset_op.cc:417] Shuffle buffer filled.\n"
     ]
    },
    {
     "name": "stdout",
     "output_type": "stream",
     "text": [
      "train_loss: 0.5938\n",
      "train_loss: 0.5917\n",
      "train_loss: 0.5926\n",
      "train_loss: 0.5861\n",
      "train_loss: 0.5865\n",
      "epoch 41 average loss: 0.5901\n"
     ]
    },
    {
     "name": "stderr",
     "output_type": "stream",
     "text": [
      "2023-02-20 15:49:15.226961: I tensorflow/core/kernels/data/shuffle_dataset_op.cc:392] Filling up shuffle buffer (this may take a while): 853 of 1000\n",
      "2023-02-20 15:49:17.154974: I tensorflow/core/kernels/data/shuffle_dataset_op.cc:417] Shuffle buffer filled.\n"
     ]
    },
    {
     "name": "stdout",
     "output_type": "stream",
     "text": [
      "val dice: 0.09698842465877533\n",
      "saved new best metric model\n",
      "current epoch: 41 current mean dice: 0.0970\n",
      "best mean dice: 0.0970 at epoch: 41\n",
      "epoch time = 62.50188875198364\n",
      "----------\n",
      "epoch 42/1000\n"
     ]
    },
    {
     "name": "stderr",
     "output_type": "stream",
     "text": [
      "2023-02-20 15:50:00.828421: I tensorflow/core/kernels/data/shuffle_dataset_op.cc:392] Filling up shuffle buffer (this may take a while): 881 of 1000\n",
      "2023-02-20 15:50:02.336629: I tensorflow/core/kernels/data/shuffle_dataset_op.cc:417] Shuffle buffer filled.\n"
     ]
    },
    {
     "name": "stdout",
     "output_type": "stream",
     "text": [
      "train_loss: 0.5843\n",
      "train_loss: 0.5881\n",
      "train_loss: 0.5941\n",
      "train_loss: 0.5931\n",
      "train_loss: 0.5875\n",
      "epoch 42 average loss: 0.5894\n"
     ]
    },
    {
     "name": "stderr",
     "output_type": "stream",
     "text": [
      "2023-02-20 15:50:17.332606: I tensorflow/core/kernels/data/shuffle_dataset_op.cc:392] Filling up shuffle buffer (this may take a while): 869 of 1000\n",
      "2023-02-20 15:50:19.010292: I tensorflow/core/kernels/data/shuffle_dataset_op.cc:417] Shuffle buffer filled.\n"
     ]
    },
    {
     "name": "stdout",
     "output_type": "stream",
     "text": [
      "val dice: 0.07919598370790482\n",
      "current epoch: 42 current mean dice: 0.0792\n",
      "best mean dice: 0.0970 at epoch: 41\n",
      "epoch time = 60.95040035247803\n",
      "----------\n",
      "epoch 43/1000\n"
     ]
    },
    {
     "name": "stderr",
     "output_type": "stream",
     "text": [
      "2023-02-20 15:51:01.771590: I tensorflow/core/kernels/data/shuffle_dataset_op.cc:392] Filling up shuffle buffer (this may take a while): 884 of 1000\n",
      "2023-02-20 15:51:03.219133: I tensorflow/core/kernels/data/shuffle_dataset_op.cc:417] Shuffle buffer filled.\n"
     ]
    },
    {
     "name": "stdout",
     "output_type": "stream",
     "text": [
      "train_loss: 0.5856\n",
      "train_loss: 0.5778\n",
      "train_loss: 0.5845\n",
      "train_loss: 0.5934\n",
      "train_loss: 0.5958\n",
      "epoch 43 average loss: 0.5874\n"
     ]
    },
    {
     "name": "stderr",
     "output_type": "stream",
     "text": [
      "2023-02-20 15:51:18.146237: I tensorflow/core/kernels/data/shuffle_dataset_op.cc:392] Filling up shuffle buffer (this may take a while): 844 of 1000\n",
      "2023-02-20 15:51:20.171022: I tensorflow/core/kernels/data/shuffle_dataset_op.cc:417] Shuffle buffer filled.\n"
     ]
    },
    {
     "name": "stdout",
     "output_type": "stream",
     "text": [
      "val dice: 0.07695086300373077\n",
      "current epoch: 43 current mean dice: 0.0770\n",
      "best mean dice: 0.0970 at epoch: 41\n",
      "epoch time = 60.891921281814575\n",
      "----------\n",
      "epoch 44/1000\n"
     ]
    },
    {
     "name": "stderr",
     "output_type": "stream",
     "text": [
      "2023-02-20 15:52:02.666871: I tensorflow/core/kernels/data/shuffle_dataset_op.cc:392] Filling up shuffle buffer (this may take a while): 881 of 1000\n",
      "2023-02-20 15:52:04.166919: I tensorflow/core/kernels/data/shuffle_dataset_op.cc:417] Shuffle buffer filled.\n"
     ]
    },
    {
     "name": "stdout",
     "output_type": "stream",
     "text": [
      "train_loss: 0.5827\n",
      "train_loss: 0.5846\n",
      "train_loss: 0.5945\n",
      "train_loss: 0.5725\n",
      "train_loss: 0.5896\n",
      "epoch 44 average loss: 0.5848\n"
     ]
    },
    {
     "name": "stderr",
     "output_type": "stream",
     "text": [
      "2023-02-20 15:52:19.255165: I tensorflow/core/kernels/data/shuffle_dataset_op.cc:392] Filling up shuffle buffer (this may take a while): 859 of 1000\n",
      "2023-02-20 15:52:21.099104: I tensorflow/core/kernels/data/shuffle_dataset_op.cc:417] Shuffle buffer filled.\n"
     ]
    },
    {
     "name": "stdout",
     "output_type": "stream",
     "text": [
      "val dice: 0.07981077581644058\n",
      "current epoch: 44 current mean dice: 0.0798\n",
      "best mean dice: 0.0970 at epoch: 41\n",
      "epoch time = 61.853060245513916\n",
      "----------\n",
      "epoch 45/1000\n"
     ]
    },
    {
     "name": "stderr",
     "output_type": "stream",
     "text": [
      "2023-02-20 15:53:04.512016: I tensorflow/core/kernels/data/shuffle_dataset_op.cc:392] Filling up shuffle buffer (this may take a while): 865 of 1000\n",
      "2023-02-20 15:53:06.232839: I tensorflow/core/kernels/data/shuffle_dataset_op.cc:417] Shuffle buffer filled.\n"
     ]
    },
    {
     "name": "stdout",
     "output_type": "stream",
     "text": [
      "train_loss: 0.5837\n",
      "train_loss: 0.5927\n",
      "train_loss: 0.5932\n",
      "train_loss: 0.5850\n",
      "train_loss: 0.5875\n",
      "epoch 45 average loss: 0.5884\n"
     ]
    },
    {
     "name": "stderr",
     "output_type": "stream",
     "text": [
      "2023-02-20 15:53:21.358242: I tensorflow/core/kernels/data/shuffle_dataset_op.cc:392] Filling up shuffle buffer (this may take a while): 860 of 1000\n",
      "2023-02-20 15:53:23.176486: I tensorflow/core/kernels/data/shuffle_dataset_op.cc:417] Shuffle buffer filled.\n"
     ]
    },
    {
     "name": "stdout",
     "output_type": "stream",
     "text": [
      "val dice: 0.07644868642091751\n",
      "current epoch: 45 current mean dice: 0.0764\n",
      "best mean dice: 0.0970 at epoch: 41\n",
      "epoch time = 62.3702335357666\n",
      "----------\n",
      "epoch 46/1000\n"
     ]
    },
    {
     "name": "stderr",
     "output_type": "stream",
     "text": [
      "2023-02-20 15:54:06.882392: I tensorflow/core/kernels/data/shuffle_dataset_op.cc:392] Filling up shuffle buffer (this may take a while): 877 of 1000\n",
      "2023-02-20 15:54:08.435200: I tensorflow/core/kernels/data/shuffle_dataset_op.cc:417] Shuffle buffer filled.\n"
     ]
    },
    {
     "name": "stdout",
     "output_type": "stream",
     "text": [
      "train_loss: 0.5892\n",
      "train_loss: 0.5918\n",
      "train_loss: 0.5888\n",
      "train_loss: 0.5834\n",
      "train_loss: 0.5901\n",
      "epoch 46 average loss: 0.5887\n"
     ]
    },
    {
     "name": "stderr",
     "output_type": "stream",
     "text": [
      "2023-02-20 15:54:23.472856: I tensorflow/core/kernels/data/shuffle_dataset_op.cc:392] Filling up shuffle buffer (this may take a while): 843 of 1000\n",
      "2023-02-20 15:54:25.560427: I tensorflow/core/kernels/data/shuffle_dataset_op.cc:417] Shuffle buffer filled.\n"
     ]
    },
    {
     "name": "stdout",
     "output_type": "stream",
     "text": [
      "val dice: 0.0914091169834137\n",
      "current epoch: 46 current mean dice: 0.0914\n",
      "best mean dice: 0.0970 at epoch: 41\n",
      "epoch time = 61.86422061920166\n",
      "----------\n",
      "epoch 47/1000\n"
     ]
    },
    {
     "name": "stderr",
     "output_type": "stream",
     "text": [
      "2023-02-20 15:55:08.738789: I tensorflow/core/kernels/data/shuffle_dataset_op.cc:392] Filling up shuffle buffer (this may take a while): 871 of 1000\n",
      "2023-02-20 15:55:10.373254: I tensorflow/core/kernels/data/shuffle_dataset_op.cc:417] Shuffle buffer filled.\n"
     ]
    },
    {
     "name": "stdout",
     "output_type": "stream",
     "text": [
      "train_loss: 0.5803\n",
      "train_loss: 0.5872\n",
      "train_loss: 0.5904\n",
      "train_loss: 0.5869\n",
      "train_loss: 0.5859\n",
      "epoch 47 average loss: 0.5862\n"
     ]
    },
    {
     "name": "stderr",
     "output_type": "stream",
     "text": [
      "2023-02-20 15:55:25.461673: I tensorflow/core/kernels/data/shuffle_dataset_op.cc:392] Filling up shuffle buffer (this may take a while): 863 of 1000\n",
      "2023-02-20 15:55:27.240268: I tensorflow/core/kernels/data/shuffle_dataset_op.cc:417] Shuffle buffer filled.\n"
     ]
    },
    {
     "name": "stdout",
     "output_type": "stream",
     "text": [
      "val dice: 0.08800684660673141\n",
      "current epoch: 47 current mean dice: 0.0880\n",
      "best mean dice: 0.0970 at epoch: 41\n",
      "epoch time = 61.21050453186035\n",
      "----------\n",
      "epoch 48/1000\n"
     ]
    },
    {
     "name": "stderr",
     "output_type": "stream",
     "text": [
      "2023-02-20 15:56:09.960461: I tensorflow/core/kernels/data/shuffle_dataset_op.cc:392] Filling up shuffle buffer (this may take a while): 871 of 1000\n",
      "2023-02-20 15:56:11.592582: I tensorflow/core/kernels/data/shuffle_dataset_op.cc:417] Shuffle buffer filled.\n"
     ]
    },
    {
     "name": "stdout",
     "output_type": "stream",
     "text": [
      "train_loss: 0.5698\n",
      "train_loss: 0.5922\n",
      "train_loss: 0.5734\n",
      "train_loss: 0.5824\n",
      "train_loss: 0.5879\n",
      "epoch 48 average loss: 0.5811\n"
     ]
    },
    {
     "name": "stderr",
     "output_type": "stream",
     "text": [
      "2023-02-20 15:56:26.713074: I tensorflow/core/kernels/data/shuffle_dataset_op.cc:392] Filling up shuffle buffer (this may take a while): 864 of 1000\n",
      "2023-02-20 15:56:28.481002: I tensorflow/core/kernels/data/shuffle_dataset_op.cc:417] Shuffle buffer filled.\n"
     ]
    },
    {
     "name": "stdout",
     "output_type": "stream",
     "text": [
      "val dice: 0.07882428169250488\n",
      "current epoch: 48 current mean dice: 0.0788\n",
      "best mean dice: 0.0970 at epoch: 41\n",
      "epoch time = 61.296244859695435\n",
      "----------\n",
      "epoch 49/1000\n"
     ]
    },
    {
     "name": "stderr",
     "output_type": "stream",
     "text": [
      "2023-02-20 15:57:11.251808: I tensorflow/core/kernels/data/shuffle_dataset_op.cc:392] Filling up shuffle buffer (this may take a while): 875 of 1000\n",
      "2023-02-20 15:57:12.834698: I tensorflow/core/kernels/data/shuffle_dataset_op.cc:417] Shuffle buffer filled.\n"
     ]
    },
    {
     "name": "stdout",
     "output_type": "stream",
     "text": [
      "train_loss: 0.5894\n",
      "train_loss: 0.5835\n",
      "train_loss: 0.5814\n",
      "train_loss: 0.5894\n",
      "train_loss: 0.5788\n",
      "epoch 49 average loss: 0.5845\n"
     ]
    },
    {
     "name": "stderr",
     "output_type": "stream",
     "text": [
      "2023-02-20 15:57:27.902162: I tensorflow/core/kernels/data/shuffle_dataset_op.cc:392] Filling up shuffle buffer (this may take a while): 868 of 1000\n",
      "2023-02-20 15:57:29.611199: I tensorflow/core/kernels/data/shuffle_dataset_op.cc:417] Shuffle buffer filled.\n"
     ]
    },
    {
     "name": "stdout",
     "output_type": "stream",
     "text": [
      "val dice: 0.08521547168493271\n",
      "current epoch: 49 current mean dice: 0.0852\n",
      "best mean dice: 0.0970 at epoch: 41\n",
      "epoch time = 61.66864728927612\n",
      "----------\n",
      "epoch 50/1000\n"
     ]
    },
    {
     "name": "stderr",
     "output_type": "stream",
     "text": [
      "2023-02-20 15:58:12.925997: I tensorflow/core/kernels/data/shuffle_dataset_op.cc:392] Filling up shuffle buffer (this may take a while): 875 of 1000\n",
      "2023-02-20 15:58:14.527573: I tensorflow/core/kernels/data/shuffle_dataset_op.cc:417] Shuffle buffer filled.\n"
     ]
    },
    {
     "name": "stdout",
     "output_type": "stream",
     "text": [
      "train_loss: 0.5869\n",
      "train_loss: 0.5833\n",
      "train_loss: 0.5899\n",
      "train_loss: 0.5850\n",
      "train_loss: 0.5813\n",
      "epoch 50 average loss: 0.5853\n"
     ]
    },
    {
     "name": "stderr",
     "output_type": "stream",
     "text": [
      "2023-02-20 15:58:29.526301: I tensorflow/core/kernels/data/shuffle_dataset_op.cc:392] Filling up shuffle buffer (this may take a while): 865 of 1000\n",
      "2023-02-20 15:58:31.287966: I tensorflow/core/kernels/data/shuffle_dataset_op.cc:417] Shuffle buffer filled.\n"
     ]
    },
    {
     "name": "stdout",
     "output_type": "stream",
     "text": [
      "val dice: 0.08380108326673508\n",
      "current epoch: 50 current mean dice: 0.0838\n",
      "best mean dice: 0.0970 at epoch: 41\n",
      "epoch time = 61.54162859916687\n",
      "----------\n",
      "epoch 51/1000\n"
     ]
    },
    {
     "name": "stderr",
     "output_type": "stream",
     "text": [
      "2023-02-20 15:59:14.462638: I tensorflow/core/kernels/data/shuffle_dataset_op.cc:392] Filling up shuffle buffer (this may take a while): 877 of 1000\n",
      "2023-02-20 15:59:16.052761: I tensorflow/core/kernels/data/shuffle_dataset_op.cc:417] Shuffle buffer filled.\n"
     ]
    },
    {
     "name": "stdout",
     "output_type": "stream",
     "text": [
      "train_loss: 0.5806\n",
      "train_loss: 0.5942\n",
      "train_loss: 0.5801\n",
      "train_loss: 0.5948\n",
      "train_loss: 0.5878\n",
      "epoch 51 average loss: 0.5875\n"
     ]
    }
   ],
   "source": [
    "dataset = load_dataset(32,'/bess23/huaize/semi-supervised/data/labeled/train/',label=True)\n",
    "val_dataset = load_dataset(32,'/bess23/huaize/semi-supervised/data/labeled/valid',label=True)\n",
    "test_dataset = load_dataset(32,'/bess23/huaize/semi-supervised/data/unlabeled',label=False)\n",
    "\n",
    "\n",
    "model_folder = \"/bess23/huaize/semi-supervised/models\"\n",
    "device = torch.device(\"cuda\") if torch.cuda.is_available() else torch.device(\"cpu\")\n",
    "model = build_unet(len(BANDS),NCLASS).cuda()\n",
    "ema_model = build_unet(len(BANDS),NCLASS).cuda()\n",
    "model = nn.DataParallel(model) \n",
    "ema_model = nn.DataParallel(ema_model)\n",
    "model.to(device)\n",
    "ema_model.to(device)\n",
    "\n",
    "max_epochs = 1000\n",
    "MeanTeacherEpoch = 50\n",
    "lr= 1e-4\n",
    "opt = torch.optim.Adam(model.parameters(), lr=lr)\n",
    "loss_function = DiceLoss(to_onehot_y=True, softmax=True)\n",
    "dice_metric = DiceMetric(include_background=False, reduction=\"mean\")\n",
    "\n",
    "# %% train\n",
    "max_epochs = 1000\n",
    "MeanTeacherEpoch = 50\n",
    "val_interval = 1\n",
    "best_metric = -1\n",
    "best_metric_epoch = -1\n",
    "iter_num = 0\n",
    "epoch_loss_values = []\n",
    "metric_values = []\n",
    "post_pred = Compose([EnsureType(), AsDiscrete(argmax=True, to_onehot=NCLASS)])\n",
    "post_label = Compose([EnsureType(), AsDiscrete(to_onehot=NCLASS)])\n",
    "\n",
    "for epoch in range(max_epochs):\n",
    "    print(\"-\" * 10)\n",
    "    print(f\"epoch {epoch + 1}/{max_epochs}\")\n",
    "    start_time = time()\n",
    "    model.train()\n",
    "    epoch_loss = 0\n",
    "    step = 0\n",
    "    train_loader = dataset.as_numpy_iterator()\n",
    "    val_loader = val_dataset.as_numpy_iterator()\n",
    "    unlabeled_train_loader = test_dataset.as_numpy_iterator()\n",
    "    for labeled_batch, unlabeled_batch in zip(train_loader, unlabeled_train_loader):\n",
    "        step += 1\n",
    "        labeled_inputs, labels = (\n",
    "            torch.tensor(labeled_batch[0]).to(device),\n",
    "            torch.tensor(labeled_batch[1]).to(device),\n",
    "        )\n",
    "        # print((unlabeled_batch).shape)\n",
    "        # print((unlabeled_batch[MASK]).shape)\n",
    "        unlabeled_batch = unlabeled_batch[slice(None),slice(None), X_BUFFER:X_BUFFERED, Y_BUFFER:Y_BUFFERED]\n",
    "        unlabeled_inputs = torch.tensor(unlabeled_batch).to(device)\n",
    "        opt.zero_grad()\n",
    "        noise_labeled = torch.clamp(torch.randn_like(\n",
    "                labeled_inputs) * 0.1, -0.2, 0.2)\n",
    "        noise_unlabeled = torch.clamp(torch.randn_like(\n",
    "                unlabeled_inputs) * 0.1, -0.2, 0.2)\n",
    "        noise_labeled_inputs = labeled_inputs + noise_labeled\n",
    "        noise_unlabeled_inputs = unlabeled_inputs + noise_unlabeled\n",
    "        \n",
    "        outputs = model(labeled_inputs)\n",
    "        with torch.no_grad():\n",
    "            soft_out = torch.softmax(outputs, dim=1)\n",
    "            outputs_unlabeled = model(unlabeled_inputs)\n",
    "            soft_unlabeled = torch.softmax(outputs_unlabeled, dim=1)\n",
    "            outputs_aug = ema_model(noise_labeled_inputs)\n",
    "            soft_aug = torch.softmax(outputs_aug, dim=1)\n",
    "            outputs_unlabeled_aug = ema_model(noise_unlabeled_inputs)\n",
    "            soft_unlabeled_aug = torch.softmax(outputs_unlabeled_aug, dim=1)\n",
    "\n",
    "        supervised_loss = loss_function(outputs, labels)\n",
    "        if epoch < MeanTeacherEpoch:\n",
    "                consistency_loss = 0.0\n",
    "        else:\n",
    "            consistency_loss = torch.mean(\n",
    "                (soft_out - soft_aug) ** 2) + \\\n",
    "                               torch.mean(\n",
    "                (soft_unlabeled - soft_unlabeled_aug) ** 2)\n",
    "        consistency_weight = get_current_consistency_weight(iter_num//150)\n",
    "        iter_num += 1\n",
    "        loss = supervised_loss + consistency_weight * consistency_loss\n",
    "        loss.backward()\n",
    "        opt.step()\n",
    "        update_ema_variables(model, ema_model, 0.99, iter_num)        \n",
    "        epoch_loss += loss.item()\n",
    "        print(\n",
    "            # f\"{step}/{len(unlabeled_train_ds) // unlabeled_train_loader.batch_size}, \"\n",
    "            f\"train_loss: {loss.item():.4f}\")\n",
    "    epoch_loss /= step\n",
    "    epoch_loss_values.append(epoch_loss)\n",
    "\n",
    "    print(f\"epoch {epoch + 1} average loss: {epoch_loss:.4f}\") \n",
    "\n",
    "    if (epoch + 1) % val_interval == 0:\n",
    "        model.eval()\n",
    "        with torch.no_grad():\n",
    "            for val_data in val_loader:\n",
    "                val_inputs, val_labels = (\n",
    "                    torch.tensor(val_data[0]).to(device),\n",
    "                    torch.tensor(val_data[1]).to(device),\n",
    "                )\n",
    "                val_outputs = model(val_inputs)\n",
    "                val_outputs = [post_pred(i) for i in decollate_batch(val_outputs)]\n",
    "                val_labels = [post_label(i) for i in decollate_batch(val_labels)]\n",
    "                # compute metric for current iteration\n",
    "                dice_metric(y_pred=val_outputs, y=val_labels)\n",
    "\n",
    "            # aggregate the final mean dice result\n",
    "            metric = dice_metric.aggregate().item()\n",
    "            print(f\"val dice: {metric}\")\n",
    "            # reset the status for next validation round\n",
    "            dice_metric.reset()\n",
    "\n",
    "        metric_values.append(metric)\n",
    "        if metric > best_metric:\n",
    "            best_metric = metric\n",
    "            best_metric_epoch = epoch + 1\n",
    "            torch.save(model.module.state_dict(), os.path.join(\n",
    "                model_folder, \"best_metric_model.pth\"))\n",
    "            print(\"saved new best metric model\")\n",
    "        print(\n",
    "            f\"current epoch: {epoch + 1} current mean dice: {metric:.4f}\"\n",
    "            f\"\\nbest mean dice: {best_metric:.4f} \"\n",
    "            f\"at epoch: {best_metric_epoch}\"\n",
    "        )\n",
    "    print(f\"epoch time = {time() - start_time}\")"
   ]
  },
  {
   "cell_type": "code",
   "execution_count": 18,
   "metadata": {},
   "outputs": [
    {
     "data": {
      "text/plain": [
       "0"
      ]
     },
     "execution_count": 18,
     "metadata": {},
     "output_type": "execute_result"
    }
   ],
   "source": [
    "epoch_loss"
   ]
  },
  {
   "cell_type": "code",
   "execution_count": null,
   "metadata": {},
   "outputs": [],
   "source": []
  }
 ],
 "metadata": {
  "kernelspec": {
   "display_name": "pytorch",
   "language": "python",
   "name": "python3"
  },
  "language_info": {
   "codemirror_mode": {
    "name": "ipython",
    "version": 3
   },
   "file_extension": ".py",
   "mimetype": "text/x-python",
   "name": "python",
   "nbconvert_exporter": "python",
   "pygments_lexer": "ipython3",
   "version": "3.8.10"
  },
  "orig_nbformat": 4,
  "vscode": {
   "interpreter": {
    "hash": "69ce82f0454b58f8538f17de03201ff1941f71155f919ebfc63f1bc59487577f"
   }
  }
 },
 "nbformat": 4,
 "nbformat_minor": 2
}
