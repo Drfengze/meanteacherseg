{
 "cells": [
  {
   "cell_type": "code",
   "execution_count": 1,
   "metadata": {},
   "outputs": [
    {
     "name": "stderr",
     "output_type": "stream",
     "text": [
      "2023-02-15 22:36:43.461566: I tensorflow/core/platform/cpu_feature_guard.cc:193] This TensorFlow binary is optimized with oneAPI Deep Neural Network Library (oneDNN) to use the following CPU instructions in performance-critical operations:  AVX2 AVX512F AVX512_VNNI FMA\n",
      "To enable them in other operations, rebuild TensorFlow with the appropriate compiler flags.\n",
      "2023-02-15 22:36:43.758656: I tensorflow/core/util/port.cc:104] oneDNN custom operations are on. You may see slightly different numerical results due to floating-point round-off errors from different computation orders. To turn them off, set the environment variable `TF_ENABLE_ONEDNN_OPTS=0`.\n",
      "2023-02-15 22:36:45.261973: W tensorflow/compiler/xla/stream_executor/platform/default/dso_loader.cc:64] Could not load dynamic library 'libnvinfer.so.7'; dlerror: libnvinfer.so.7: cannot open shared object file: No such file or directory\n",
      "2023-02-15 22:36:45.262101: W tensorflow/compiler/xla/stream_executor/platform/default/dso_loader.cc:64] Could not load dynamic library 'libnvinfer_plugin.so.7'; dlerror: libnvinfer_plugin.so.7: cannot open shared object file: No such file or directory\n",
      "2023-02-15 22:36:45.262109: W tensorflow/compiler/tf2tensorrt/utils/py_utils.cc:38] TF-TRT Warning: Cannot dlopen some TensorRT libraries. If you would like to use Nvidia GPU with TensorRT, please make sure the missing libraries mentioned above are installed properly.\n"
     ]
    }
   ],
   "source": [
    "import torch\n",
    "import torch.nn as nn\n",
    "import numpy as np\n",
    "from data_loader import data_load\n",
    "from unet_pytorch import build_unet\n",
    "from ramps import get_current_consistency_weight, update_ema_variables\n",
    "from glob import glob\n",
    "import tensorflow as tf"
   ]
  },
  {
   "cell_type": "code",
   "execution_count": 9,
   "metadata": {},
   "outputs": [],
   "source": [
    "BANDS = [\"blue\", \"green\", \"red\", \"nir\", \"swir1\", \"swir2\", \"ndvi\", \"nirv\"]\n",
    "KERNEL_SHAPE = [256, 256]\n",
    "KERNEL_BUFFER = [128, 128]\n",
    "X_BUFFER, Y_BUFFER = [buffer // 2 for buffer in KERNEL_BUFFER]\n",
    "BUFFERED_SHAPE = [kernel + buffer for kernel, buffer in zip(KERNEL_SHAPE, KERNEL_BUFFER)]\n",
    "TARGETS = [\"cropland\"]\n",
    "MASK = (slice(None), (X_BUFFER, X_BUFFER + KERNEL_SHAPE[0]), (Y_BUFFER, Y_BUFFER + KERNEL_SHAPE[1]))\n",
    "\n",
    "def dataset(batch, folder, label=True, buffer_size=6000):\n",
    "    features = BANDS + TARGETS if label else BANDS\n",
    "    sub_folder = \"labeled\" if label else \"unlabeled\"\n",
    "    tf_files = glob(f\"{folder}/{sub_folder}/*.gz\")\n",
    "    columns = [tf.io.FixedLenFeature(shape=KERNEL_SHAPE, dtype=tf.float32) for _feature in features]\n",
    "    description = dict(zip(features, columns))\n",
    "    data_func = data_load(tf_files, BANDS, description, response=TARGETS, batch_size=batch, buffer_size=buffer_size)\n",
    "    data = data_func.get_training_dataset() if label else data_func.get_pridiction_dataset()\n",
    "    # print(tf_files)\n",
    "    return data\n"
   ]
  },
  {
   "cell_type": "code",
   "execution_count": 10,
   "metadata": {},
   "outputs": [
    {
     "data": {
      "text/plain": [
       "<BatchDataset element_spec=(TensorSpec(shape=(None, 8, 256, 256), dtype=tf.float32, name=None), TensorSpec(shape=(None, 1, 256, 256), dtype=tf.float32, name=None))>"
      ]
     },
     "execution_count": 10,
     "metadata": {},
     "output_type": "execute_result"
    }
   ],
   "source": [
    "dataset(32,'/bess23/huaize/semi-supervised/data',label=True)"
   ]
  },
  {
   "cell_type": "code",
   "execution_count": null,
   "metadata": {},
   "outputs": [],
   "source": [
    "class EpochRunner:\n",
    "    def __init__(self, steprunner):\n",
    "        self.steprunner = steprunner\n",
    "        self.stage = steprunner.stage\n",
    "\n",
    "    def __call__(self, dataset,test_dataset):\n",
    "        total_loss, step = 0, 1\n",
    "        loop = enumerate(dataset.as_numpy_iterator())\n",
    "        for _, batch in loop:\n",
    "            features = torch.tensor(batch[0]).to(device)\n",
    "            labels = torch.tensor(batch[1]).to(torch.int64).to(device)\n",
    "            loss, step_metrics = self.steprunner(features, labels)\n",
    "            step_log = dict({self.stage + \"_loss\": loss}, **step_metrics)\n",
    "            total_loss += loss\n",
    "            step += 1\n",
    "            print(step_log, flush=True)\n",
    "\n",
    "            loss, step_metrics = self.steprunner(features, labels)\n",
    "            step_log = dict({self.stage + \"_loss\": loss}, **step_metrics)\n",
    "            total_loss += loss\n",
    "            step += 1\n",
    "            print(step_log, flush=True)\n",
    "\n",
    "        epoch_loss = total_loss / step\n",
    "        epoch_metrics = {\n",
    "            self.stage + \"_\" + name: metric_fn.compute().item()\n",
    "            for name, metric_fn in self.steprunner.metrics_dict.items()\n",
    "        }\n",
    "        epoch_log = dict({self.stage + \"_loss\": epoch_loss}, **epoch_metrics)\n",
    "        print(epoch_log)\n",
    "\n",
    "        for name, metric_fn in self.steprunner.metrics_dict.items():\n",
    "            metric_fn.reset()\n",
    "        return epoch_log"
   ]
  },
  {
   "cell_type": "code",
   "execution_count": null,
   "metadata": {},
   "outputs": [],
   "source": [
    "train_loader = \n",
    "unlabeled_train_loader\n",
    "NCLASS = 2\n",
    "model = build_unet(len(BANDS),NCLASS).cuda()\n",
    "ema_model = build_unet(len(BANDS),NCLASS).cuda()\n",
    "model = nn.DataParallel(model) \n",
    "ema_model = nn.DataParallel(ema_model)\n",
    "model.to(device)\n",
    "ema_model.to(device)\n"
   ]
  }
 ],
 "metadata": {
  "kernelspec": {
   "display_name": "pytorch",
   "language": "python",
   "name": "python3"
  },
  "language_info": {
   "codemirror_mode": {
    "name": "ipython",
    "version": 3
   },
   "file_extension": ".py",
   "mimetype": "text/x-python",
   "name": "python",
   "nbconvert_exporter": "python",
   "pygments_lexer": "ipython3",
   "version": "3.8.10"
  },
  "orig_nbformat": 4,
  "vscode": {
   "interpreter": {
    "hash": "69ce82f0454b58f8538f17de03201ff1941f71155f919ebfc63f1bc59487577f"
   }
  }
 },
 "nbformat": 4,
 "nbformat_minor": 2
}
