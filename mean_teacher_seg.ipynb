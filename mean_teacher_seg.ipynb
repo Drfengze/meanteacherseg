{
 "cells": [
  {
   "cell_type": "code",
   "execution_count": 49,
   "metadata": {},
   "outputs": [
    {
     "name": "stdout",
     "output_type": "stream",
     "text": [
      "----------\n",
      "epoch 1/1000\n"
     ]
    },
    {
     "name": "stderr",
     "output_type": "stream",
     "text": [
      "2023-02-20 16:50:25.799313: I tensorflow/core/kernels/data/shuffle_dataset_op.cc:392] Filling up shuffle buffer (this may take a while): 863 of 1000\n",
      "2023-02-20 16:50:27.537125: I tensorflow/core/kernels/data/shuffle_dataset_op.cc:417] Shuffle buffer filled.\n"
     ]
    },
    {
     "name": "stdout",
     "output_type": "stream",
     "text": [
      "train_loss: 0.6715\n",
      "train_loss: 0.6638\n",
      "epoch 1 average loss: 0.6677\n"
     ]
    },
    {
     "name": "stderr",
     "output_type": "stream",
     "text": [
      "2023-02-20 16:50:45.397752: I tensorflow/core/kernels/data/shuffle_dataset_op.cc:392] Filling up shuffle buffer (this may take a while): 841 of 1000\n",
      "2023-02-20 16:50:47.705159: I tensorflow/core/kernels/data/shuffle_dataset_op.cc:417] Shuffle buffer filled.\n"
     ]
    },
    {
     "name": "stdout",
     "output_type": "stream",
     "text": [
      "val dice: 0.06324220448732376\n",
      "saved new best metric model\n",
      "current epoch: 1 current mean dice: 0.0632\n",
      "best mean dice: 0.0632 at epoch: 1\n",
      "epoch time = 66.15352702140808\n",
      "----------\n",
      "epoch 2/1000\n"
     ]
    },
    {
     "name": "stderr",
     "output_type": "stream",
     "text": [
      "2023-02-20 16:51:31.927782: I tensorflow/core/kernels/data/shuffle_dataset_op.cc:392] Filling up shuffle buffer (this may take a while): 872 of 1000\n",
      "2023-02-20 16:51:33.555652: I tensorflow/core/kernels/data/shuffle_dataset_op.cc:417] Shuffle buffer filled.\n"
     ]
    },
    {
     "name": "stdout",
     "output_type": "stream",
     "text": [
      "train_loss: 0.6588\n",
      "train_loss: 0.6563\n",
      "epoch 2 average loss: 0.6575\n"
     ]
    },
    {
     "name": "stderr",
     "output_type": "stream",
     "text": [
      "2023-02-20 16:51:51.404000: I tensorflow/core/kernels/data/shuffle_dataset_op.cc:392] Filling up shuffle buffer (this may take a while): 864 of 1000\n",
      "2023-02-20 16:51:53.183581: I tensorflow/core/kernels/data/shuffle_dataset_op.cc:417] Shuffle buffer filled.\n"
     ]
    },
    {
     "name": "stdout",
     "output_type": "stream",
     "text": [
      "val dice: 0.06324220448732376\n",
      "current epoch: 2 current mean dice: 0.0632\n",
      "best mean dice: 0.0632 at epoch: 1\n",
      "epoch time = 64.47439932823181\n",
      "----------\n",
      "epoch 3/1000\n"
     ]
    },
    {
     "name": "stderr",
     "output_type": "stream",
     "text": [
      "2023-02-20 16:52:36.407489: I tensorflow/core/kernels/data/shuffle_dataset_op.cc:392] Filling up shuffle buffer (this may take a while): 881 of 1000\n",
      "2023-02-20 16:52:37.913131: I tensorflow/core/kernels/data/shuffle_dataset_op.cc:417] Shuffle buffer filled.\n"
     ]
    },
    {
     "name": "stdout",
     "output_type": "stream",
     "text": [
      "train_loss: 0.6557\n",
      "train_loss: 0.6540\n",
      "epoch 3 average loss: 0.6549\n"
     ]
    },
    {
     "name": "stderr",
     "output_type": "stream",
     "text": [
      "2023-02-20 16:52:55.873923: I tensorflow/core/kernels/data/shuffle_dataset_op.cc:392] Filling up shuffle buffer (this may take a while): 863 of 1000\n",
      "2023-02-20 16:52:57.655387: I tensorflow/core/kernels/data/shuffle_dataset_op.cc:417] Shuffle buffer filled.\n"
     ]
    },
    {
     "name": "stdout",
     "output_type": "stream",
     "text": [
      "val dice: 0.0443502813577652\n",
      "current epoch: 3 current mean dice: 0.0444\n",
      "best mean dice: 0.0632 at epoch: 1\n",
      "epoch time = 64.49993944168091\n",
      "----------\n",
      "epoch 4/1000\n"
     ]
    },
    {
     "name": "stderr",
     "output_type": "stream",
     "text": [
      "2023-02-20 16:53:40.901301: I tensorflow/core/kernels/data/shuffle_dataset_op.cc:392] Filling up shuffle buffer (this may take a while): 885 of 1000\n",
      "2023-02-20 16:53:42.337597: I tensorflow/core/kernels/data/shuffle_dataset_op.cc:417] Shuffle buffer filled.\n"
     ]
    },
    {
     "name": "stdout",
     "output_type": "stream",
     "text": [
      "train_loss: 0.6547\n",
      "train_loss: 0.6472\n",
      "epoch 4 average loss: 0.6509\n"
     ]
    },
    {
     "name": "stderr",
     "output_type": "stream",
     "text": [
      "2023-02-20 16:54:00.059807: I tensorflow/core/kernels/data/shuffle_dataset_op.cc:392] Filling up shuffle buffer (this may take a while): 842 of 1000\n",
      "2023-02-20 16:54:02.214330: I tensorflow/core/kernels/data/shuffle_dataset_op.cc:417] Shuffle buffer filled.\n"
     ]
    },
    {
     "name": "stdout",
     "output_type": "stream",
     "text": [
      "val dice: 0.0004262778384145349\n",
      "current epoch: 4 current mean dice: 0.0004\n",
      "best mean dice: 0.0632 at epoch: 1\n",
      "epoch time = 64.15835094451904\n",
      "----------\n",
      "epoch 5/1000\n"
     ]
    },
    {
     "name": "stderr",
     "output_type": "stream",
     "text": [
      "2023-02-20 16:54:45.059036: I tensorflow/core/kernels/data/shuffle_dataset_op.cc:392] Filling up shuffle buffer (this may take a while): 873 of 1000\n",
      "2023-02-20 16:54:46.667772: I tensorflow/core/kernels/data/shuffle_dataset_op.cc:417] Shuffle buffer filled.\n"
     ]
    },
    {
     "name": "stdout",
     "output_type": "stream",
     "text": [
      "train_loss: 0.6501\n",
      "train_loss: 0.6384\n",
      "epoch 5 average loss: 0.6443\n"
     ]
    },
    {
     "name": "stderr",
     "output_type": "stream",
     "text": [
      "2023-02-20 16:55:04.423478: I tensorflow/core/kernels/data/shuffle_dataset_op.cc:392] Filling up shuffle buffer (this may take a while): 858 of 1000\n",
      "2023-02-20 16:55:06.269858: I tensorflow/core/kernels/data/shuffle_dataset_op.cc:417] Shuffle buffer filled.\n"
     ]
    },
    {
     "name": "stdout",
     "output_type": "stream",
     "text": [
      "val dice: 0.0007091833977028728\n",
      "current epoch: 5 current mean dice: 0.0007\n",
      "best mean dice: 0.0632 at epoch: 1\n",
      "epoch time = 64.1013195514679\n",
      "----------\n",
      "epoch 6/1000\n"
     ]
    },
    {
     "name": "stderr",
     "output_type": "stream",
     "text": [
      "2023-02-20 16:55:49.166468: I tensorflow/core/kernels/data/shuffle_dataset_op.cc:392] Filling up shuffle buffer (this may take a while): 886 of 1000\n",
      "2023-02-20 16:55:50.590364: I tensorflow/core/kernels/data/shuffle_dataset_op.cc:417] Shuffle buffer filled.\n"
     ]
    },
    {
     "name": "stdout",
     "output_type": "stream",
     "text": [
      "train_loss: 0.6421\n",
      "train_loss: 0.6424\n",
      "epoch 6 average loss: 0.6423\n"
     ]
    },
    {
     "name": "stderr",
     "output_type": "stream",
     "text": [
      "2023-02-20 16:56:08.470297: I tensorflow/core/kernels/data/shuffle_dataset_op.cc:392] Filling up shuffle buffer (this may take a while): 870 of 1000\n",
      "2023-02-20 16:56:10.138322: I tensorflow/core/kernels/data/shuffle_dataset_op.cc:417] Shuffle buffer filled.\n"
     ]
    },
    {
     "name": "stdout",
     "output_type": "stream",
     "text": [
      "val dice: 0.0030716643668711185\n",
      "current epoch: 6 current mean dice: 0.0031\n",
      "best mean dice: 0.0632 at epoch: 1\n",
      "epoch time = 63.92766094207764\n",
      "----------\n",
      "epoch 7/1000\n"
     ]
    },
    {
     "name": "stderr",
     "output_type": "stream",
     "text": [
      "2023-02-20 16:56:53.095886: I tensorflow/core/kernels/data/shuffle_dataset_op.cc:392] Filling up shuffle buffer (this may take a while): 866 of 1000\n",
      "2023-02-20 16:56:54.814008: I tensorflow/core/kernels/data/shuffle_dataset_op.cc:417] Shuffle buffer filled.\n"
     ]
    },
    {
     "name": "stdout",
     "output_type": "stream",
     "text": [
      "train_loss: 0.6407\n",
      "train_loss: 0.6421\n",
      "epoch 7 average loss: 0.6414\n"
     ]
    },
    {
     "name": "stderr",
     "output_type": "stream",
     "text": [
      "2023-02-20 16:57:12.697591: I tensorflow/core/kernels/data/shuffle_dataset_op.cc:392] Filling up shuffle buffer (this may take a while): 855 of 1000\n",
      "2023-02-20 16:57:14.596703: I tensorflow/core/kernels/data/shuffle_dataset_op.cc:417] Shuffle buffer filled.\n"
     ]
    },
    {
     "name": "stdout",
     "output_type": "stream",
     "text": [
      "val dice: 0.010214196518063545\n",
      "current epoch: 7 current mean dice: 0.0102\n",
      "best mean dice: 0.0632 at epoch: 1\n",
      "epoch time = 64.32542490959167\n",
      "----------\n",
      "epoch 8/1000\n"
     ]
    },
    {
     "name": "stderr",
     "output_type": "stream",
     "text": [
      "2023-02-20 16:57:57.425751: I tensorflow/core/kernels/data/shuffle_dataset_op.cc:392] Filling up shuffle buffer (this may take a while): 885 of 1000\n",
      "2023-02-20 16:57:58.865437: I tensorflow/core/kernels/data/shuffle_dataset_op.cc:417] Shuffle buffer filled.\n"
     ]
    },
    {
     "name": "stdout",
     "output_type": "stream",
     "text": [
      "train_loss: 0.6382\n",
      "train_loss: 0.6343\n",
      "epoch 8 average loss: 0.6363\n"
     ]
    },
    {
     "name": "stderr",
     "output_type": "stream",
     "text": [
      "2023-02-20 16:58:16.680343: I tensorflow/core/kernels/data/shuffle_dataset_op.cc:392] Filling up shuffle buffer (this may take a while): 867 of 1000\n",
      "2023-02-20 16:58:18.403946: I tensorflow/core/kernels/data/shuffle_dataset_op.cc:417] Shuffle buffer filled.\n"
     ]
    },
    {
     "name": "stdout",
     "output_type": "stream",
     "text": [
      "val dice: 0.016067251563072205\n",
      "current epoch: 8 current mean dice: 0.0161\n",
      "best mean dice: 0.0632 at epoch: 1\n",
      "epoch time = 63.746607065200806\n",
      "----------\n",
      "epoch 9/1000\n"
     ]
    },
    {
     "name": "stderr",
     "output_type": "stream",
     "text": [
      "2023-02-20 16:59:01.174642: I tensorflow/core/kernels/data/shuffle_dataset_op.cc:392] Filling up shuffle buffer (this may take a while): 880 of 1000\n",
      "2023-02-20 16:59:02.690624: I tensorflow/core/kernels/data/shuffle_dataset_op.cc:417] Shuffle buffer filled.\n"
     ]
    },
    {
     "name": "stdout",
     "output_type": "stream",
     "text": [
      "train_loss: 0.6335\n",
      "train_loss: 0.6359\n",
      "epoch 9 average loss: 0.6347\n"
     ]
    },
    {
     "name": "stderr",
     "output_type": "stream",
     "text": [
      "2023-02-20 16:59:20.567136: I tensorflow/core/kernels/data/shuffle_dataset_op.cc:392] Filling up shuffle buffer (this may take a while): 842 of 1000\n",
      "2023-02-20 16:59:22.646092: I tensorflow/core/kernels/data/shuffle_dataset_op.cc:417] Shuffle buffer filled.\n"
     ]
    },
    {
     "name": "stdout",
     "output_type": "stream",
     "text": [
      "val dice: 0.02213538996875286\n",
      "current epoch: 9 current mean dice: 0.0221\n",
      "best mean dice: 0.0632 at epoch: 1\n",
      "epoch time = 64.9588794708252\n",
      "----------\n",
      "epoch 10/1000\n"
     ]
    },
    {
     "name": "stderr",
     "output_type": "stream",
     "text": [
      "2023-02-20 17:00:06.118672: I tensorflow/core/kernels/data/shuffle_dataset_op.cc:392] Filling up shuffle buffer (this may take a while): 865 of 1000\n",
      "2023-02-20 17:00:07.826002: I tensorflow/core/kernels/data/shuffle_dataset_op.cc:417] Shuffle buffer filled.\n"
     ]
    },
    {
     "name": "stdout",
     "output_type": "stream",
     "text": [
      "train_loss: 0.6340\n",
      "train_loss: 0.6298\n",
      "epoch 10 average loss: 0.6319\n"
     ]
    },
    {
     "name": "stderr",
     "output_type": "stream",
     "text": [
      "2023-02-20 17:00:25.665590: I tensorflow/core/kernels/data/shuffle_dataset_op.cc:392] Filling up shuffle buffer (this may take a while): 868 of 1000\n",
      "2023-02-20 17:00:27.387951: I tensorflow/core/kernels/data/shuffle_dataset_op.cc:417] Shuffle buffer filled.\n"
     ]
    },
    {
     "name": "stdout",
     "output_type": "stream",
     "text": [
      "val dice: 0.03220274671912193\n",
      "current epoch: 10 current mean dice: 0.0322\n",
      "best mean dice: 0.0632 at epoch: 1\n",
      "epoch time = 64.24831557273865\n",
      "----------\n",
      "epoch 11/1000\n"
     ]
    },
    {
     "name": "stderr",
     "output_type": "stream",
     "text": [
      "2023-02-20 17:01:10.371837: I tensorflow/core/kernels/data/shuffle_dataset_op.cc:392] Filling up shuffle buffer (this may take a while): 862 of 1000\n",
      "2023-02-20 17:01:12.131059: I tensorflow/core/kernels/data/shuffle_dataset_op.cc:417] Shuffle buffer filled.\n"
     ]
    },
    {
     "name": "stdout",
     "output_type": "stream",
     "text": [
      "train_loss: 0.6301\n",
      "train_loss: 0.6288\n",
      "epoch 11 average loss: 0.6295\n"
     ]
    },
    {
     "name": "stderr",
     "output_type": "stream",
     "text": [
      "2023-02-20 17:01:30.067050: I tensorflow/core/kernels/data/shuffle_dataset_op.cc:392] Filling up shuffle buffer (this may take a while): 861 of 1000\n",
      "2023-02-20 17:01:31.886291: I tensorflow/core/kernels/data/shuffle_dataset_op.cc:417] Shuffle buffer filled.\n"
     ]
    },
    {
     "name": "stdout",
     "output_type": "stream",
     "text": [
      "val dice: 0.04833564534783363\n",
      "current epoch: 11 current mean dice: 0.0483\n",
      "best mean dice: 0.0632 at epoch: 1\n",
      "epoch time = 63.9665162563324\n",
      "----------\n",
      "epoch 12/1000\n"
     ]
    },
    {
     "name": "stderr",
     "output_type": "stream",
     "text": [
      "2023-02-20 17:02:14.329148: I tensorflow/core/kernels/data/shuffle_dataset_op.cc:392] Filling up shuffle buffer (this may take a while): 868 of 1000\n",
      "2023-02-20 17:02:16.038507: I tensorflow/core/kernels/data/shuffle_dataset_op.cc:417] Shuffle buffer filled.\n"
     ]
    },
    {
     "name": "stdout",
     "output_type": "stream",
     "text": [
      "train_loss: 0.6250\n",
      "train_loss: 0.6285\n",
      "epoch 12 average loss: 0.6268\n"
     ]
    },
    {
     "name": "stderr",
     "output_type": "stream",
     "text": [
      "2023-02-20 17:02:33.939066: I tensorflow/core/kernels/data/shuffle_dataset_op.cc:392] Filling up shuffle buffer (this may take a while): 856 of 1000\n",
      "2023-02-20 17:02:35.823066: I tensorflow/core/kernels/data/shuffle_dataset_op.cc:417] Shuffle buffer filled.\n"
     ]
    },
    {
     "name": "stdout",
     "output_type": "stream",
     "text": [
      "val dice: 0.05443393439054489\n",
      "current epoch: 12 current mean dice: 0.0544\n",
      "best mean dice: 0.0632 at epoch: 1\n",
      "epoch time = 63.909377574920654\n",
      "----------\n",
      "epoch 13/1000\n"
     ]
    },
    {
     "name": "stderr",
     "output_type": "stream",
     "text": [
      "2023-02-20 17:03:18.246678: I tensorflow/core/kernels/data/shuffle_dataset_op.cc:392] Filling up shuffle buffer (this may take a while): 842 of 1000\n",
      "2023-02-20 17:03:20.304624: I tensorflow/core/kernels/data/shuffle_dataset_op.cc:417] Shuffle buffer filled.\n"
     ]
    },
    {
     "name": "stdout",
     "output_type": "stream",
     "text": [
      "train_loss: 0.6277\n",
      "train_loss: 0.6241\n",
      "epoch 13 average loss: 0.6259\n"
     ]
    },
    {
     "name": "stderr",
     "output_type": "stream",
     "text": [
      "2023-02-20 17:03:38.379943: I tensorflow/core/kernels/data/shuffle_dataset_op.cc:392] Filling up shuffle buffer (this may take a while): 855 of 1000\n",
      "2023-02-20 17:03:40.263439: I tensorflow/core/kernels/data/shuffle_dataset_op.cc:417] Shuffle buffer filled.\n"
     ]
    },
    {
     "name": "stdout",
     "output_type": "stream",
     "text": [
      "val dice: 0.06668917089700699\n",
      "saved new best metric model\n",
      "current epoch: 13 current mean dice: 0.0667\n",
      "best mean dice: 0.0667 at epoch: 13\n",
      "epoch time = 64.69853782653809\n",
      "----------\n",
      "epoch 14/1000\n"
     ]
    },
    {
     "name": "stderr",
     "output_type": "stream",
     "text": [
      "2023-02-20 17:04:22.953645: I tensorflow/core/kernels/data/shuffle_dataset_op.cc:392] Filling up shuffle buffer (this may take a while): 876 of 1000\n",
      "2023-02-20 17:04:24.544671: I tensorflow/core/kernels/data/shuffle_dataset_op.cc:417] Shuffle buffer filled.\n"
     ]
    },
    {
     "name": "stdout",
     "output_type": "stream",
     "text": [
      "train_loss: 0.6273\n",
      "train_loss: 0.6302\n",
      "epoch 14 average loss: 0.6288\n"
     ]
    },
    {
     "name": "stderr",
     "output_type": "stream",
     "text": [
      "2023-02-20 17:04:42.446498: I tensorflow/core/kernels/data/shuffle_dataset_op.cc:392] Filling up shuffle buffer (this may take a while): 860 of 1000\n",
      "2023-02-20 17:04:44.266579: I tensorflow/core/kernels/data/shuffle_dataset_op.cc:417] Shuffle buffer filled.\n"
     ]
    },
    {
     "name": "stdout",
     "output_type": "stream",
     "text": [
      "val dice: 0.06294019520282745\n",
      "current epoch: 14 current mean dice: 0.0629\n",
      "best mean dice: 0.0667 at epoch: 13\n",
      "epoch time = 63.95479345321655\n",
      "----------\n",
      "epoch 15/1000\n"
     ]
    },
    {
     "name": "stderr",
     "output_type": "stream",
     "text": [
      "2023-02-20 17:05:26.909358: I tensorflow/core/kernels/data/shuffle_dataset_op.cc:392] Filling up shuffle buffer (this may take a while): 885 of 1000\n",
      "2023-02-20 17:05:28.357094: I tensorflow/core/kernels/data/shuffle_dataset_op.cc:417] Shuffle buffer filled.\n"
     ]
    },
    {
     "name": "stdout",
     "output_type": "stream",
     "text": [
      "train_loss: 0.6239\n",
      "train_loss: 0.6246\n",
      "epoch 15 average loss: 0.6242\n"
     ]
    },
    {
     "name": "stderr",
     "output_type": "stream",
     "text": [
      "2023-02-20 17:05:46.164057: I tensorflow/core/kernels/data/shuffle_dataset_op.cc:392] Filling up shuffle buffer (this may take a while): 853 of 1000\n",
      "2023-02-20 17:05:48.104675: I tensorflow/core/kernels/data/shuffle_dataset_op.cc:417] Shuffle buffer filled.\n"
     ]
    },
    {
     "name": "stdout",
     "output_type": "stream",
     "text": [
      "val dice: 0.06285203248262405\n",
      "current epoch: 15 current mean dice: 0.0629\n",
      "best mean dice: 0.0667 at epoch: 13\n",
      "epoch time = 64.84436774253845\n",
      "----------\n",
      "epoch 16/1000\n"
     ]
    },
    {
     "name": "stderr",
     "output_type": "stream",
     "text": [
      "2023-02-20 17:06:31.758774: I tensorflow/core/kernels/data/shuffle_dataset_op.cc:392] Filling up shuffle buffer (this may take a while): 844 of 1000\n",
      "2023-02-20 17:06:33.742988: I tensorflow/core/kernels/data/shuffle_dataset_op.cc:417] Shuffle buffer filled.\n"
     ]
    },
    {
     "name": "stdout",
     "output_type": "stream",
     "text": [
      "train_loss: 0.6238\n",
      "train_loss: 0.6239\n",
      "epoch 16 average loss: 0.6238\n"
     ]
    },
    {
     "name": "stderr",
     "output_type": "stream",
     "text": [
      "2023-02-20 17:06:51.594299: I tensorflow/core/kernels/data/shuffle_dataset_op.cc:392] Filling up shuffle buffer (this may take a while): 845 of 1000\n",
      "2023-02-20 17:06:53.639008: I tensorflow/core/kernels/data/shuffle_dataset_op.cc:417] Shuffle buffer filled.\n"
     ]
    },
    {
     "name": "stdout",
     "output_type": "stream",
     "text": [
      "val dice: 0.06822775304317474\n",
      "saved new best metric model\n",
      "current epoch: 16 current mean dice: 0.0682\n",
      "best mean dice: 0.0682 at epoch: 16\n",
      "epoch time = 64.83030247688293\n",
      "----------\n",
      "epoch 17/1000\n"
     ]
    },
    {
     "name": "stderr",
     "output_type": "stream",
     "text": [
      "2023-02-20 17:07:36.587917: I tensorflow/core/kernels/data/shuffle_dataset_op.cc:392] Filling up shuffle buffer (this may take a while): 878 of 1000\n",
      "2023-02-20 17:07:38.128531: I tensorflow/core/kernels/data/shuffle_dataset_op.cc:417] Shuffle buffer filled.\n"
     ]
    },
    {
     "name": "stdout",
     "output_type": "stream",
     "text": [
      "train_loss: 0.6232\n",
      "train_loss: 0.6261\n",
      "epoch 17 average loss: 0.6247\n"
     ]
    },
    {
     "name": "stderr",
     "output_type": "stream",
     "text": [
      "2023-02-20 17:07:55.961886: I tensorflow/core/kernels/data/shuffle_dataset_op.cc:392] Filling up shuffle buffer (this may take a while): 859 of 1000\n",
      "2023-02-20 17:07:57.777244: I tensorflow/core/kernels/data/shuffle_dataset_op.cc:417] Shuffle buffer filled.\n"
     ]
    },
    {
     "name": "stdout",
     "output_type": "stream",
     "text": [
      "val dice: 0.07096101343631744\n",
      "saved new best metric model\n",
      "current epoch: 17 current mean dice: 0.0710\n",
      "best mean dice: 0.0710 at epoch: 17\n",
      "epoch time = 63.82534837722778\n",
      "----------\n",
      "epoch 18/1000\n"
     ]
    },
    {
     "name": "stderr",
     "output_type": "stream",
     "text": [
      "2023-02-20 17:08:40.411954: I tensorflow/core/kernels/data/shuffle_dataset_op.cc:392] Filling up shuffle buffer (this may take a while): 882 of 1000\n",
      "2023-02-20 17:08:41.900527: I tensorflow/core/kernels/data/shuffle_dataset_op.cc:417] Shuffle buffer filled.\n"
     ]
    },
    {
     "name": "stdout",
     "output_type": "stream",
     "text": [
      "train_loss: 0.6264\n",
      "train_loss: 0.6246\n",
      "epoch 18 average loss: 0.6255\n"
     ]
    },
    {
     "name": "stderr",
     "output_type": "stream",
     "text": [
      "2023-02-20 17:08:59.683016: I tensorflow/core/kernels/data/shuffle_dataset_op.cc:392] Filling up shuffle buffer (this may take a while): 844 of 1000\n",
      "2023-02-20 17:09:01.765423: I tensorflow/core/kernels/data/shuffle_dataset_op.cc:417] Shuffle buffer filled.\n"
     ]
    },
    {
     "name": "stdout",
     "output_type": "stream",
     "text": [
      "val dice: 0.05570559203624725\n",
      "current epoch: 18 current mean dice: 0.0557\n",
      "best mean dice: 0.0710 at epoch: 17\n",
      "epoch time = 64.58151578903198\n",
      "----------\n",
      "epoch 19/1000\n"
     ]
    },
    {
     "name": "stderr",
     "output_type": "stream",
     "text": [
      "2023-02-20 17:09:44.989727: I tensorflow/core/kernels/data/shuffle_dataset_op.cc:392] Filling up shuffle buffer (this may take a while): 879 of 1000\n",
      "2023-02-20 17:09:46.526507: I tensorflow/core/kernels/data/shuffle_dataset_op.cc:417] Shuffle buffer filled.\n"
     ]
    },
    {
     "name": "stdout",
     "output_type": "stream",
     "text": [
      "train_loss: 0.6182\n",
      "train_loss: 0.6235\n",
      "epoch 19 average loss: 0.6209\n"
     ]
    },
    {
     "name": "stderr",
     "output_type": "stream",
     "text": [
      "2023-02-20 17:10:04.606923: I tensorflow/core/kernels/data/shuffle_dataset_op.cc:392] Filling up shuffle buffer (this may take a while): 852 of 1000\n",
      "2023-02-20 17:10:06.557804: I tensorflow/core/kernels/data/shuffle_dataset_op.cc:417] Shuffle buffer filled.\n"
     ]
    },
    {
     "name": "stdout",
     "output_type": "stream",
     "text": [
      "val dice: 0.08475010842084885\n",
      "saved new best metric model\n",
      "current epoch: 19 current mean dice: 0.0848\n",
      "best mean dice: 0.0848 at epoch: 19\n",
      "epoch time = 64.81890416145325\n",
      "----------\n",
      "epoch 20/1000\n"
     ]
    },
    {
     "name": "stderr",
     "output_type": "stream",
     "text": [
      "2023-02-20 17:10:49.813410: I tensorflow/core/kernels/data/shuffle_dataset_op.cc:392] Filling up shuffle buffer (this may take a while): 875 of 1000\n",
      "2023-02-20 17:10:51.447646: I tensorflow/core/kernels/data/shuffle_dataset_op.cc:417] Shuffle buffer filled.\n"
     ]
    },
    {
     "name": "stdout",
     "output_type": "stream",
     "text": [
      "train_loss: 0.6190\n",
      "train_loss: 0.6176\n",
      "epoch 20 average loss: 0.6183\n"
     ]
    },
    {
     "name": "stderr",
     "output_type": "stream",
     "text": [
      "2023-02-20 17:11:09.342445: I tensorflow/core/kernels/data/shuffle_dataset_op.cc:392] Filling up shuffle buffer (this may take a while): 853 of 1000\n",
      "2023-02-20 17:11:11.265853: I tensorflow/core/kernels/data/shuffle_dataset_op.cc:417] Shuffle buffer filled.\n"
     ]
    },
    {
     "name": "stdout",
     "output_type": "stream",
     "text": [
      "val dice: 0.08755668997764587\n",
      "saved new best metric model\n",
      "current epoch: 20 current mean dice: 0.0876\n",
      "best mean dice: 0.0876 at epoch: 20\n",
      "epoch time = 64.39274334907532\n",
      "----------\n",
      "epoch 21/1000\n"
     ]
    },
    {
     "name": "stderr",
     "output_type": "stream",
     "text": [
      "2023-02-20 17:11:54.203443: I tensorflow/core/kernels/data/shuffle_dataset_op.cc:392] Filling up shuffle buffer (this may take a while): 885 of 1000\n",
      "2023-02-20 17:11:55.651329: I tensorflow/core/kernels/data/shuffle_dataset_op.cc:417] Shuffle buffer filled.\n"
     ]
    },
    {
     "name": "stdout",
     "output_type": "stream",
     "text": [
      "train_loss: 0.6181\n",
      "train_loss: 0.6213\n",
      "epoch 21 average loss: 0.6197\n"
     ]
    },
    {
     "name": "stderr",
     "output_type": "stream",
     "text": [
      "2023-02-20 17:12:13.458591: I tensorflow/core/kernels/data/shuffle_dataset_op.cc:392] Filling up shuffle buffer (this may take a while): 863 of 1000\n",
      "2023-02-20 17:12:15.243446: I tensorflow/core/kernels/data/shuffle_dataset_op.cc:417] Shuffle buffer filled.\n"
     ]
    },
    {
     "name": "stdout",
     "output_type": "stream",
     "text": [
      "val dice: 0.0723801851272583\n",
      "current epoch: 21 current mean dice: 0.0724\n",
      "best mean dice: 0.0876 at epoch: 20\n",
      "epoch time = 63.75405502319336\n",
      "----------\n",
      "epoch 22/1000\n"
     ]
    },
    {
     "name": "stderr",
     "output_type": "stream",
     "text": [
      "2023-02-20 17:12:57.967667: I tensorflow/core/kernels/data/shuffle_dataset_op.cc:392] Filling up shuffle buffer (this may take a while): 852 of 1000\n",
      "2023-02-20 17:12:59.868599: I tensorflow/core/kernels/data/shuffle_dataset_op.cc:417] Shuffle buffer filled.\n"
     ]
    },
    {
     "name": "stdout",
     "output_type": "stream",
     "text": [
      "train_loss: 0.6196\n",
      "train_loss: 0.6200\n",
      "epoch 22 average loss: 0.6198\n"
     ]
    },
    {
     "name": "stderr",
     "output_type": "stream",
     "text": [
      "2023-02-20 17:13:17.843697: I tensorflow/core/kernels/data/shuffle_dataset_op.cc:392] Filling up shuffle buffer (this may take a while): 860 of 1000\n",
      "2023-02-20 17:13:19.683686: I tensorflow/core/kernels/data/shuffle_dataset_op.cc:417] Shuffle buffer filled.\n"
     ]
    },
    {
     "name": "stdout",
     "output_type": "stream",
     "text": [
      "val dice: 0.056619495153427124\n",
      "current epoch: 22 current mean dice: 0.0566\n",
      "best mean dice: 0.0876 at epoch: 20\n",
      "epoch time = 64.61617732048035\n",
      "----------\n",
      "epoch 23/1000\n"
     ]
    },
    {
     "name": "stderr",
     "output_type": "stream",
     "text": [
      "2023-02-20 17:14:02.561264: I tensorflow/core/kernels/data/shuffle_dataset_op.cc:392] Filling up shuffle buffer (this may take a while): 865 of 1000\n",
      "2023-02-20 17:14:04.265851: I tensorflow/core/kernels/data/shuffle_dataset_op.cc:417] Shuffle buffer filled.\n"
     ]
    },
    {
     "name": "stdout",
     "output_type": "stream",
     "text": [
      "train_loss: 0.6205\n",
      "train_loss: 0.6162\n",
      "epoch 23 average loss: 0.6184\n"
     ]
    },
    {
     "name": "stderr",
     "output_type": "stream",
     "text": [
      "2023-02-20 17:14:22.283624: I tensorflow/core/kernels/data/shuffle_dataset_op.cc:392] Filling up shuffle buffer (this may take a while): 851 of 1000\n",
      "2023-02-20 17:14:24.224725: I tensorflow/core/kernels/data/shuffle_dataset_op.cc:417] Shuffle buffer filled.\n"
     ]
    }
   ],
   "source": [
    "import torch\n",
    "import torch.nn as nn\n",
    "import numpy as np\n",
    "from data_loader import data_load\n",
    "from unet_pytorch import build_unet\n",
    "from ramps import get_current_consistency_weight, update_ema_variables\n",
    "from glob import glob\n",
    "import tensorflow as tf\n",
    "from time import time\n",
    "from datetime import datetime\n",
    "from monai.data import decollate_batch\n",
    "from monai.losses import DiceLoss\n",
    "from monai.metrics import DiceMetric\n",
    "from monai.transforms import (\n",
    "    Compose,\n",
    "    AsDiscrete,\n",
    "    EnsureType,\n",
    ")\n",
    "import os\n",
    "from torch.utils.tensorboard import SummaryWriter\n",
    "\n",
    "writer = SummaryWriter()\n",
    "def load_dataset(batch, folder, label=True, buffer_size=1000):\n",
    "    features = BANDS + TARGETS if label else BANDS\n",
    "    tf_files = glob(f\"{folder}/*.gz\")\n",
    "    columns = [\n",
    "        tf.io.FixedLenFeature(\n",
    "            shape=KERNEL_SHAPE if label else BUFFERED_SHAPE, dtype=tf.float32\n",
    "        )\n",
    "        for _feature in features\n",
    "    ]\n",
    "    description = dict(zip(features, columns))\n",
    "    data_func = data_load(\n",
    "        tf_files,\n",
    "        BANDS,\n",
    "        description,\n",
    "        response=TARGETS,\n",
    "        batch_size=batch,\n",
    "        buffer_size=buffer_size,\n",
    "    )\n",
    "    data = (\n",
    "        data_func.get_training_dataset()\n",
    "        if label\n",
    "        else data_func.get_pridiction_dataset()\n",
    "    )\n",
    "    # print(tf_files)\n",
    "    return data\n",
    "\n",
    "\n",
    "BANDS = [\"blue\", \"green\", \"red\", \"nir\", \"swir1\", \"swir2\", \"ndvi\", \"nirv\"]\n",
    "KERNEL_SHAPE = [256, 256]\n",
    "KERNEL_BUFFER = [128, 128]\n",
    "X_BUFFER, Y_BUFFER = [buffer // 2 for buffer in KERNEL_BUFFER]\n",
    "X_BUFFERED, Y_BUFFERED = (X_BUFFER + KERNEL_SHAPE[0]), (Y_BUFFER + KERNEL_SHAPE[1])\n",
    "BUFFERED_SHAPE = [\n",
    "    kernel + buffer for kernel, buffer in zip(KERNEL_SHAPE, KERNEL_BUFFER)\n",
    "]\n",
    "TARGETS = [\"cropland\"]\n",
    "NCLASS = 2\n",
    "model_folder = f\"/bess23/huaize/semi-supervised/models/\"\n",
    "device = torch.device(\"cuda\") if torch.cuda.is_available() else torch.device(\"cpu\")\n",
    "run_time = datetime.today().strftime(\"%m_%d_%H_%M_%S\")\n",
    "batch = 128\n",
    "\n",
    "\n",
    "dataset = load_dataset(\n",
    "    batch, \"/bess23/huaize/semi-supervised/data/labeled/train/\", label=True\n",
    ")\n",
    "val_dataset = load_dataset(\n",
    "    batch, \"/bess23/huaize/semi-supervised/data/labeled/valid\", label=True\n",
    ")\n",
    "test_dataset = load_dataset(\n",
    "    batch, \"/bess23/huaize/semi-supervised/data/unlabeled\", label=False\n",
    ")\n",
    "\n",
    "model = build_unet(len(BANDS), NCLASS).cuda()\n",
    "ema_model = build_unet(len(BANDS), NCLASS).cuda()\n",
    "model = nn.DataParallel(model)\n",
    "ema_model = nn.DataParallel(ema_model)\n",
    "model.to(device)\n",
    "ema_model.to(device)\n",
    "\n",
    "max_epochs = 1000\n",
    "MeanTeacherEpoch = 50\n",
    "lr = 3e-4\n",
    "opt = torch.optim.Adam(model.parameters(), lr=lr)\n",
    "loss_function = DiceLoss(to_onehot_y=True, softmax=True)\n",
    "dice_metric = DiceMetric(include_background=False, reduction=\"mean\")\n",
    "\n",
    "# %% train\n",
    "max_epochs = 1000\n",
    "MeanTeacherEpoch = 50\n",
    "val_interval = 1\n",
    "best_metric = -1\n",
    "best_metric_epoch = -1\n",
    "iter_num = 0\n",
    "epoch_loss_values = []\n",
    "metric_values = []\n",
    "post_pred = Compose([EnsureType(), AsDiscrete(argmax=True, to_onehot=NCLASS)])\n",
    "post_label = Compose([EnsureType(), AsDiscrete(to_onehot=NCLASS)])\n",
    "\n",
    "for epoch in range(max_epochs):\n",
    "    print(\"-\" * 10)\n",
    "    print(f\"epoch {epoch + 1}/{max_epochs}\")\n",
    "    start_time = time()\n",
    "    model.train()\n",
    "    epoch_loss = 0\n",
    "    step = 0\n",
    "    train_loader = dataset.as_numpy_iterator()\n",
    "    val_loader = val_dataset.as_numpy_iterator()\n",
    "    unlabeled_train_loader = test_dataset.as_numpy_iterator()\n",
    "    for labeled_batch, unlabeled_batch in zip(train_loader, unlabeled_train_loader):\n",
    "        step += 1\n",
    "        labeled_inputs, labels = (\n",
    "            torch.tensor(labeled_batch[0]).to(device),\n",
    "            torch.tensor(labeled_batch[1]).to(device),\n",
    "        )\n",
    "        unlabeled_batch = unlabeled_batch[\n",
    "            slice(None), slice(None), X_BUFFER:X_BUFFERED, Y_BUFFER:Y_BUFFERED\n",
    "        ]\n",
    "        unlabeled_inputs = torch.tensor(unlabeled_batch).to(device)\n",
    "        opt.zero_grad()\n",
    "        noise_labeled = torch.clamp(torch.randn_like(labeled_inputs) * 0.1, -0.2, 0.2)\n",
    "        noise_unlabeled = torch.clamp(\n",
    "            torch.randn_like(unlabeled_inputs) * 0.1, -0.2, 0.2\n",
    "        )\n",
    "        noise_labeled_inputs = labeled_inputs + noise_labeled\n",
    "        noise_unlabeled_inputs = unlabeled_inputs + noise_unlabeled\n",
    "\n",
    "        outputs = model(labeled_inputs)\n",
    "        with torch.no_grad():\n",
    "            soft_out = torch.softmax(outputs, dim=1)\n",
    "            outputs_unlabeled = model(unlabeled_inputs)\n",
    "            soft_unlabeled = torch.softmax(outputs_unlabeled, dim=1)\n",
    "            outputs_aug = ema_model(noise_labeled_inputs)\n",
    "            soft_aug = torch.softmax(outputs_aug, dim=1)\n",
    "            outputs_unlabeled_aug = ema_model(noise_unlabeled_inputs)\n",
    "            soft_unlabeled_aug = torch.softmax(outputs_unlabeled_aug, dim=1)\n",
    "\n",
    "        supervised_loss = loss_function(outputs, labels)\n",
    "        if epoch < MeanTeacherEpoch:\n",
    "            consistency_loss = 0.0\n",
    "        else:\n",
    "            consistency_loss = torch.mean((soft_out - soft_aug) ** 2) + torch.mean(\n",
    "                (soft_unlabeled - soft_unlabeled_aug) ** 2\n",
    "            )\n",
    "        consistency_weight = get_current_consistency_weight(iter_num // 150)\n",
    "        iter_num += 1\n",
    "        loss = supervised_loss + consistency_weight * consistency_loss\n",
    "        loss.backward()\n",
    "        opt.step()\n",
    "        update_ema_variables(model, ema_model, 0.99, iter_num)\n",
    "        epoch_loss += loss.item()\n",
    "        print(\n",
    "            # f\"{step}/{len(unlabeled_train_ds) // unlabeled_train_loader.batch_size}, \"\n",
    "            f\"train_loss: {loss.item():.4f}\"\n",
    "        )\n",
    "        writer.add_scalar(\"Loss/train\", loss.item(), epoch)\n",
    "    epoch_loss /= step\n",
    "    epoch_loss_values.append(epoch_loss)\n",
    "\n",
    "    print(f\"epoch {epoch + 1} average loss: {epoch_loss:.4f}\")\n",
    "\n",
    "    if (epoch + 1) % val_interval == 0:\n",
    "        model.eval()\n",
    "        with torch.no_grad():\n",
    "            for val_data in val_loader:\n",
    "                val_inputs, val_labels = (\n",
    "                    torch.tensor(val_data[0]).to(device),\n",
    "                    torch.tensor(val_data[1]).to(device),\n",
    "                )\n",
    "                val_outputs = model(val_inputs)\n",
    "                val_outputs = [post_pred(i) for i in decollate_batch(val_outputs)]\n",
    "                val_labels = [post_label(i) for i in decollate_batch(val_labels)]\n",
    "                # compute metric for current iteration\n",
    "                dice_metric(y_pred=val_outputs, y=val_labels)\n",
    "\n",
    "            # aggregate the final mean dice result\n",
    "            metric = dice_metric.aggregate().item()\n",
    "            print(f\"val dice: {metric}\")\n",
    "            writer.add_scalar(\"val dice\", metric, epoch)\n",
    "            # reset the status for next validation round\n",
    "            dice_metric.reset()\n",
    "\n",
    "        metric_values.append(metric)\n",
    "        if metric > best_metric:\n",
    "            best_metric = metric\n",
    "            best_metric_epoch = epoch + 1\n",
    "            torch.save(\n",
    "                model.module.state_dict(),\n",
    "                os.path.join(model_folder, f\"best_{run_time}.pth\"),\n",
    "            )\n",
    "            print(\"saved new best metric model\")\n",
    "        print(\n",
    "            f\"current epoch: {epoch + 1} current mean dice: {metric:.4f}\"\n",
    "            f\"\\nbest mean dice: {best_metric:.4f} \"\n",
    "            f\"at epoch: {best_metric_epoch}\"\n",
    "        )\n",
    "        \n",
    "    print(f\"epoch time = {time() - start_time}\")"
   ]
  },
  {
   "cell_type": "code",
   "execution_count": 18,
   "metadata": {},
   "outputs": [
    {
     "data": {
      "text/plain": [
       "0"
      ]
     },
     "execution_count": 18,
     "metadata": {},
     "output_type": "execute_result"
    }
   ],
   "source": [
    "epoch_loss"
   ]
  },
  {
   "cell_type": "code",
   "execution_count": null,
   "metadata": {},
   "outputs": [],
   "source": []
  }
 ],
 "metadata": {
  "kernelspec": {
   "display_name": "pytorch",
   "language": "python",
   "name": "python3"
  },
  "language_info": {
   "codemirror_mode": {
    "name": "ipython",
    "version": 3
   },
   "file_extension": ".py",
   "mimetype": "text/x-python",
   "name": "python",
   "nbconvert_exporter": "python",
   "pygments_lexer": "ipython3",
   "version": "3.8.10"
  },
  "orig_nbformat": 4,
  "vscode": {
   "interpreter": {
    "hash": "69ce82f0454b58f8538f17de03201ff1941f71155f919ebfc63f1bc59487577f"
   }
  }
 },
 "nbformat": 4,
 "nbformat_minor": 2
}
