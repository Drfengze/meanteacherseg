{
 "cells": [
  {
   "cell_type": "code",
   "execution_count": 2,
   "metadata": {},
   "outputs": [],
   "source": [
    "import torch\n",
    "from torch import nn\n",
    "import torch.nn.functional as F\n",
    "from torch.utils.data import random_split, DataLoader, Dataset\n",
    "\n",
    "import torchvision\n",
    "from torchvision import transforms\n",
    "import numpy as np\n",
    "from tqdm.notebook import tqdm\n",
    "\n",
    "import matplotlib.pyplot as plt\n",
    "\n",
    "from sklearn.metrics import accuracy_score"
   ]
  },
  {
   "cell_type": "code",
   "execution_count": 3,
   "metadata": {},
   "outputs": [
    {
     "name": "stdout",
     "output_type": "stream",
     "text": [
      "usage: jupyter [-h] [--version] [--config-dir] [--data-dir] [--runtime-dir]\n",
      "               [--paths] [--json] [--debug]\n",
      "               [subcommand]\n",
      "\n",
      "Jupyter: Interactive Computing\n",
      "\n",
      "positional arguments:\n",
      "  subcommand     the subcommand to launch\n",
      "\n",
      "optional arguments:\n",
      "  -h, --help     show this help message and exit\n",
      "  --version      show the versions of core jupyter packages and exit\n",
      "  --config-dir   show Jupyter config dir\n",
      "  --data-dir     show Jupyter data dir\n",
      "  --runtime-dir  show Jupyter runtime dir\n",
      "  --paths        show all Jupyter paths. Add --json for machine-readable\n",
      "                 format.\n",
      "  --json         output paths as machine-readable json\n",
      "  --debug        output debug information about paths\n",
      "\n",
      "Available subcommands: kernel kernelspec migrate run troubleshoot\n",
      "\n",
      "Jupyter command `jupyter-nbextension` not found.\n"
     ]
    }
   ],
   "source": [
    "!jupyter nbextension enable --py widgetsnbextension"
   ]
  },
  {
   "cell_type": "code",
   "execution_count": 4,
   "metadata": {},
   "outputs": [],
   "source": [
    "channel_stats = dict(mean=[0.4914, 0.4822, 0.4465],\n",
    "                     std=[0.2470,  0.2435,  0.2616])\n",
    "\n",
    "# see the paper for the proper augmentation\n",
    "transform_train = transforms.Compose([\n",
    "    transforms.RandomCrop(size=32, padding=4),\n",
    "    transforms.RandomHorizontalFlip(),\n",
    "    transforms.ToTensor(),\n",
    "    transforms.Normalize(**channel_stats),\n",
    "])\n",
    "\n",
    "transform_val = transforms.Compose([\n",
    "    transforms.ToTensor(),\n",
    "    transforms.Normalize(**channel_stats),\n",
    "])"
   ]
  },
  {
   "cell_type": "markdown",
   "metadata": {},
   "source": [
    "### load cifar 10 dataset"
   ]
  },
  {
   "cell_type": "code",
   "execution_count": 5,
   "metadata": {},
   "outputs": [
    {
     "name": "stdout",
     "output_type": "stream",
     "text": [
      "Files already downloaded and verified\n",
      "Files already downloaded and verified\n"
     ]
    }
   ],
   "source": [
    "train = torchvision.datasets.CIFAR10(root='./data', train=True, download=True)\n",
    "\n",
    "supervised, unsupervised = random_split(train, [10000, 40000])\n",
    "\n",
    "val = torchvision.datasets.CIFAR10(root='./data', train=False, download=True, transform=transform_val)"
   ]
  },
  {
   "cell_type": "code",
   "execution_count": 6,
   "metadata": {},
   "outputs": [],
   "source": [
    "_a,_b = random_split(range(10), [3, 7], generator=torch.Generator().manual_seed(42))"
   ]
  },
  {
   "cell_type": "markdown",
   "metadata": {},
   "source": [
    "### DataLoaders"
   ]
  },
  {
   "cell_type": "code",
   "execution_count": 7,
   "metadata": {},
   "outputs": [],
   "source": [
    "class SemiData(Dataset):\n",
    "    \n",
    "    def __init__(self, data, supervised = True):\n",
    "        \n",
    "        self.data = data\n",
    "        \n",
    "        self.supervised = supervised\n",
    "        \n",
    "    def __len__(self): return len(self.data)\n",
    "    \n",
    "    def __getitem__(self, idx):\n",
    "        \n",
    "        x, y = self.data[idx]\n",
    "        \n",
    "        x1 = transform_train(x)\n",
    "        x2 = transform_train(x)\n",
    "        \n",
    "        if self.supervised:\n",
    "            return x1, x2, y\n",
    "        else:\n",
    "            return x1, x2"
   ]
  },
  {
   "cell_type": "code",
   "execution_count": 8,
   "metadata": {},
   "outputs": [],
   "source": [
    "sup_batch_size = 128\n",
    "mu = 4\n",
    "\n",
    "sup_loader = DataLoader(SemiData(supervised, supervised=True), batch_size=sup_batch_size, shuffle=True, num_workers=15)\n",
    "\n",
    "unsup_loader = DataLoader(SemiData(unsupervised, supervised=False), batch_size=sup_batch_size * mu, shuffle=True, num_workers=15)\n",
    "\n",
    "val_loader = torch.utils.data.DataLoader(val, batch_size=100, shuffle=False, num_workers=15)"
   ]
  },
  {
   "cell_type": "markdown",
   "metadata": {},
   "source": [
    "### Model"
   ]
  },
  {
   "cell_type": "markdown",
   "metadata": {},
   "source": [
    "see Notebook **013 - Convolution Layer.ipynb**"
   ]
  },
  {
   "cell_type": "markdown",
   "metadata": {},
   "source": [
    "$O = (I − K + 2 P)/S+1$\n",
    "\n",
    "- O : output size\n",
    "- I : input size\n",
    "- K : kernel size\n",
    "- P : padding\n",
    "- S : stride"
   ]
  },
  {
   "cell_type": "code",
   "execution_count": 9,
   "metadata": {},
   "outputs": [],
   "source": [
    "class ConvNet(nn.Module):\n",
    "    def __init__(self):\n",
    "        super().__init__()\n",
    "        \n",
    "        self.fe = nn.Sequential(\n",
    "            nn.Conv2d(in_channels=3, out_channels=16, kernel_size=3, stride=1), # (32 - 3 + 2 * 0)/1 + 1 = 30\n",
    "            nn.BatchNorm2d(16),\n",
    "            nn.ReLU(),\n",
    "            nn.Conv2d(in_channels=16, out_channels=32, kernel_size=3, stride=1), # (30 - 3 + 2 * 0)/1 + 1 = 28\n",
    "            nn.BatchNorm2d(32),\n",
    "            nn.ReLU(),\n",
    "            nn.Conv2d(in_channels=32, out_channels=64, kernel_size=4, stride=2), # (28 - 4 + 2 * 0)/2 + 1 = 13\n",
    "            nn.BatchNorm2d(64),\n",
    "            nn.ReLU(),\n",
    "            nn.Conv2d(in_channels=64, out_channels=128, kernel_size=3, stride=2), # (13 - 3 + 2 * 0)/2 + 1 = 6\n",
    "            nn.BatchNorm2d(128),\n",
    "            nn.ReLU(),\n",
    "            nn.MaxPool2d(kernel_size=2),  # (6 - 2)/2 + 1 = 3\n",
    "            nn.Dropout(0.1)\n",
    "        )\n",
    "        \n",
    "        self.fc = nn.Linear(128 * 3 * 3, 10)\n",
    "        \n",
    "    def forward(self, x):\n",
    "        \n",
    "        # x of size [batch_size, 3, W, H]\n",
    "        \n",
    "        h = self.fe(x) # [batch_size, 128, 3, 3]\n",
    "                \n",
    "        h = h.view(-1, 128 * 3 * 3)\n",
    "        \n",
    "        return self.fc(h) # [batch_size, 10]"
   ]
  },
  {
   "cell_type": "code",
   "execution_count": 10,
   "metadata": {},
   "outputs": [],
   "source": [
    "class MeanTeacherNet(nn.Module):\n",
    "    def __init__(self, lamb=0.9):\n",
    "        super().__init__()\n",
    "        \n",
    "        self.lamba = lamb\n",
    "        \n",
    "        self.student = ConvNet()\n",
    "        self.teacher =  ConvNet()\n",
    "\n",
    "        for param_s, param_t in zip(self.student.parameters(), self.teacher.parameters()):\n",
    "            param_t.data.copy_(param_s.data)\n",
    "            param_t.requires_grad = False\n",
    "    \n",
    "    @torch.no_grad()\n",
    "    def ema_update(self):\n",
    "        for param_s, param_t in zip(self.student.parameters(), self.teacher.parameters()):\n",
    "            param_t.data = param_t.data * self.lamba + param_s.data * (1. - self.lamba)"
   ]
  },
  {
   "cell_type": "markdown",
   "metadata": {},
   "source": [
    "### Training loop"
   ]
  },
  {
   "cell_type": "code",
   "execution_count": 11,
   "metadata": {},
   "outputs": [],
   "source": [
    "def train_mean_teacher(model: nn.Module,\n",
    "                    opt: torch.optim,\n",
    "                    sup_loader: torch.utils.data.DataLoader,\n",
    "                    unsup_loader: torch.utils.data.DataLoader,\n",
    "                    alpha: float=0.1):\n",
    "    \n",
    "    model.train()\n",
    "    \n",
    "    for param in model.parameters():\n",
    "        device = param.device\n",
    "        break\n",
    "    \n",
    "    losses = []\n",
    "    \n",
    "    # pbar = tqdm(sup_loader)\n",
    "    \n",
    "    unsup_iter = iter(unsup_loader)\n",
    "    \n",
    "    for batch_sup in sup_loader:\n",
    "        \n",
    "        model.zero_grad()\n",
    "        \n",
    "        # labelled data\n",
    "        x1_sup, x2_sup, y = batch_sup\n",
    "        x1_sup, x2_sup, y = x1_sup.to(device), x2_sup.to(device), y.to(device)\n",
    "        \n",
    "        # unlabelled data\n",
    "        try:\n",
    "            x1_unsup, x2_unsup = next(unsup_iter)\n",
    "        except StopIteration:\n",
    "            unsup_iter = iter(unsup_loader)\n",
    "            x1_unsup, x2_unsup = next(unsup_iter)\n",
    "                \n",
    "        x1_unsup, x2_unsup = x1_unsup.to(device), x2_unsup.to(device)\n",
    "        \n",
    "        # combine labelled and unlabelled\n",
    "        x1_concat = torch.cat([x1_sup, x1_unsup], dim=0)\n",
    "        x2_concat = torch.cat([x2_sup, x2_unsup], dim=0)\n",
    "        \n",
    "        # prediction for x1s\n",
    "        logits_1 = model.student(x1_concat)\n",
    "        \n",
    "        # prediction for x2s (no grad)\n",
    "        with torch.no_grad():\n",
    "            logits_2 = model.teacher(x2_concat)\n",
    "        \n",
    "        # logit for x1_sup\n",
    "        logits_sup = logits_1[:x1_sup.size(0)]\n",
    "        \n",
    "        # supervised loss\n",
    "        loss_sup = F.cross_entropy(logits_sup, y)\n",
    "        \n",
    "        # normalize probs before mse loss\n",
    "        probs_1 = F.softmax(logits_1, dim=1)\n",
    "        probs_2 = F.softmax(logits_2, dim=1)\n",
    "        \n",
    "        # unsupervised loss\n",
    "        loss_unsup = F.mse_loss(probs_1, probs_2)\n",
    "        \n",
    "        loss = loss_sup + alpha * loss_unsup\n",
    "        \n",
    "        loss.backward()\n",
    "\n",
    "        opt.step()\n",
    "        \n",
    "        # update teacher using EMA\n",
    "        model.ema_update()\n",
    "        \n",
    "        loss_item = loss.item()\n",
    "        \n",
    "        losses.append(loss_item)\n",
    "        \n",
    "        # pbar.set_description(f'train_loss = {np.array(losses).mean(): .3f}')\n",
    "        \n",
    "    return np.array(losses).mean()\n",
    "\n",
    "@torch.no_grad()\n",
    "def validate(model: nn.Module, dataloader: torch.utils.data.DataLoader):\n",
    "    \n",
    "    model.eval()\n",
    "    \n",
    "    for param in model.parameters():\n",
    "        device = param.device\n",
    "        break\n",
    "     \n",
    "    labels_all = []\n",
    "    logits_all = []\n",
    "    \n",
    "    for x, y in dataloader:\n",
    "\n",
    "        x, y = x.to(device), y.to(device)\n",
    "\n",
    "        logits = model(x)\n",
    "        \n",
    "        labels_all += y.cpu().numpy().tolist()\n",
    "        logits_all += logits.cpu().numpy().tolist()\n",
    "        \n",
    "    prediction = np.argmax(np.array(logits_all), axis=-1)\n",
    "    \n",
    "    acc = accuracy_score(labels_all, prediction)\n",
    "                    \n",
    "    return acc"
   ]
  },
  {
   "cell_type": "markdown",
   "metadata": {},
   "source": [
    "### Rampup function for the unsupervised loss weight"
   ]
  },
  {
   "cell_type": "code",
   "execution_count": 12,
   "metadata": {},
   "outputs": [],
   "source": [
    "def alpha_t(current, rampup_length):\n",
    "    # linear rampup function\n",
    "    assert current >= 0 and rampup_length >= 0\n",
    "    if current >= rampup_length:\n",
    "        return 1.0\n",
    "    else:\n",
    "        return current / rampup_length"
   ]
  },
  {
   "cell_type": "code",
   "execution_count": 18,
   "metadata": {},
   "outputs": [
    {
     "data": {
      "text/plain": [
       "Text(0, 0.5, 'alpha(t)')"
      ]
     },
     "execution_count": 18,
     "metadata": {},
     "output_type": "execute_result"
    },
    {
     "data": {
      "image/png": "[encoded data removed]",
      "text/plain": [
       "<Figure size 640x480 with 1 Axes>"
      ]
     },
     "metadata": {},
     "output_type": "display_data"
    }
   ],
   "source": [
    "x = np.arange(0, 20)\n",
    "y = [alpha_t(i, rampup_length=5) for i in x]\n",
    "\n",
    "plt.plot(x, y)\n",
    "plt.xlabel('t')\n",
    "plt.ylabel('alpha(t)')"
   ]
  },
  {
   "cell_type": "markdown",
   "metadata": {},
   "source": [
    "### Training"
   ]
  },
  {
   "cell_type": "code",
   "execution_count": 14,
   "metadata": {},
   "outputs": [],
   "source": [
    "# initialize model\n",
    "\n",
    "model = MeanTeacherNet().cuda()\n",
    "\n",
    "opt = torch.optim.AdamW(model.parameters(), lr=1e-3)"
   ]
  },
  {
   "cell_type": "code",
   "execution_count": 15,
   "metadata": {},
   "outputs": [
    {
     "name": "stdout",
     "output_type": "stream",
     "text": [
      "teacher_acc =  0.47, student_acc =  0.42\n",
      "teacher_acc =  0.52, student_acc =  0.49\n",
      "teacher_acc =  0.57, student_acc =  0.52\n",
      "teacher_acc =  0.60, student_acc =  0.56\n",
      "teacher_acc =  0.62, student_acc =  0.60\n"
     ]
    }
   ],
   "source": [
    "for t in range(5):\n",
    "    alpha = alpha_t(t, rampup_length=5)\n",
    "    train_mean_teacher(model, opt, sup_loader, unsup_loader, alpha=alpha)\n",
    "    val_acc_teacher = validate(model.teacher, val_loader)\n",
    "    val_acc_student = validate(model.student, val_loader)\n",
    "    print(f'teacher_acc = {val_acc_teacher: .2f}, student_acc = {val_acc_student: .2f}')"
   ]
  }
 ],
 "metadata": {
  "kernelspec": {
   "display_name": "pytorch",
   "language": "python",
   "name": "python3"
  },
  "language_info": {
   "codemirror_mode": {
    "name": "ipython",
    "version": 3
   },
   "file_extension": ".py",
   "mimetype": "text/x-python",
   "name": "python",
   "nbconvert_exporter": "python",
   "pygments_lexer": "ipython3",
   "version": "3.8.10"
  },
  "vscode": {
   "interpreter": {
    "hash": "69ce82f0454b58f8538f17de03201ff1941f71155f919ebfc63f1bc59487577f"
   }
  },
  "widgets": {
   "application/vnd.jupyter.widget-state+json": {
    "state": {},
    "version_major": 2,
    "version_minor": 0
   }
  }
 },
 "nbformat": 4,
 "nbformat_minor": 4
}
