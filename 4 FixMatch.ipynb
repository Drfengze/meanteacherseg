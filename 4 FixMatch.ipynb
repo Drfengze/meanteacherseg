{
 "cells": [
  {
   "cell_type": "code",
   "execution_count": null,
   "metadata": {},
   "outputs": [],
   "source": [
    "import torch\n",
    "from torch import nn\n",
    "import torch.nn.functional as F\n",
    "from torch.utils.data import random_split, DataLoader, Dataset\n",
    "\n",
    "import torchvision\n",
    "from torchvision import transforms\n",
    "\n",
    "import numpy as np\n",
    "from tqdm.notebook import tqdm\n",
    "\n",
    "import matplotlib.pyplot as plt\n",
    "\n",
    "from sklearn.metrics import accuracy_score"
   ]
  },
  {
   "cell_type": "code",
   "execution_count": 3,
   "metadata": {},
   "outputs": [],
   "source": [
    "channel_stats = dict(mean=[0.4914, 0.4822, 0.4465],\n",
    "                     std=[0.2470,  0.2435,  0.2616])\n",
    "\n",
    "# see the paper for the proper augmentation\n",
    "transform_weak = transforms.Compose([\n",
    "    transforms.RandomCrop(size=32, padding=4),\n",
    "    transforms.RandomHorizontalFlip(),\n",
    "    transforms.ToTensor(),\n",
    "    transforms.Normalize(**channel_stats),\n",
    "])\n",
    "\n",
    "transform_strong = transforms.Compose([\n",
    "    transforms.RandomResizedCrop(size=32),\n",
    "    transforms.RandomHorizontalFlip(),\n",
    "    transforms.ColorJitter(hue=[-0.1, 0.1]),\n",
    "    transforms.ToTensor(),\n",
    "    transforms.Normalize(**channel_stats),\n",
    "])\n",
    "\n",
    "transform_val = transforms.Compose([\n",
    "    transforms.ToTensor(),\n",
    "    transforms.Normalize(**channel_stats),\n",
    "])"
   ]
  },
  {
   "cell_type": "markdown",
   "metadata": {},
   "source": [
    "### load cifar 10 dataset"
   ]
  },
  {
   "cell_type": "code",
   "execution_count": 4,
   "metadata": {},
   "outputs": [
    {
     "name": "stdout",
     "output_type": "stream",
     "text": [
      "Files already downloaded and verified\n",
      "Files already downloaded and verified\n"
     ]
    }
   ],
   "source": [
    "train = torchvision.datasets.CIFAR10(root='./data', train=True, download=True)\n",
    "\n",
    "supervised, unsupervised = random_split(train, [10000, 40000])\n",
    "\n",
    "val = torchvision.datasets.CIFAR10(root='./data', train=False, download=True, transform=transform_val)"
   ]
  },
  {
   "cell_type": "code",
   "execution_count": 5,
   "metadata": {},
   "outputs": [],
   "source": [
    "def plot(data, transform):\n",
    "    \n",
    "    x, y = data\n",
    "    \n",
    "    mean = torch.Tensor(channel_stats['std']).view(-1, 1, 1)\n",
    "    \n",
    "    std = torch.Tensor(channel_stats['mean']).view(-1, 1, 1)\n",
    "    \n",
    "    de_normalized = transform(x) * std + mean\n",
    "        \n",
    "    plt.imshow(de_normalized.permute(1, 2, 0))\n",
    "    \n",
    "    plt.title(train.classes[y])"
   ]
  },
  {
   "cell_type": "code",
   "execution_count": 9,
   "metadata": {},
   "outputs": [
    {
     "name": "stderr",
     "output_type": "stream",
     "text": [
      "Clipping input data to the valid range for imshow with RGB data ([0..1] for floats or [0..255] for integers).\n"
     ]
    },
    {
     "data": {
      "image/png": "[encoded data removed]",
      "text/plain": [
       "<Figure size 432x288 with 1 Axes>"
      ]
     },
     "metadata": {
      "needs_background": "light"
     },
     "output_type": "display_data"
    }
   ],
   "source": [
    "plot(train[100], transform_strong)"
   ]
  },
  {
   "cell_type": "markdown",
   "metadata": {},
   "source": [
    "### DataLoaders"
   ]
  },
  {
   "cell_type": "code",
   "execution_count": 10,
   "metadata": {},
   "outputs": [],
   "source": [
    "class SemiData(Dataset):\n",
    "    \n",
    "    def __init__(self, data, supervised = True):\n",
    "        \n",
    "        self.data = data\n",
    "        \n",
    "        self.supervised = supervised\n",
    "        \n",
    "    def __len__(self): return len(self.data)\n",
    "    \n",
    "    def __getitem__(self, idx):\n",
    "        \n",
    "        x, y = self.data[idx]\n",
    "        \n",
    "        x1 = transform_weak(x)\n",
    "        x2 = transform_strong(x)\n",
    "        \n",
    "        if self.supervised:\n",
    "            return x1, y\n",
    "        else:\n",
    "            return x1, x2"
   ]
  },
  {
   "cell_type": "code",
   "execution_count": 11,
   "metadata": {},
   "outputs": [],
   "source": [
    "sup_batch_size = 128\n",
    "mu = 4\n",
    "\n",
    "sup_loader = DataLoader(SemiData(supervised, supervised=True), batch_size=sup_batch_size, shuffle=True, num_workers=15)\n",
    "\n",
    "unsup_loader = DataLoader(SemiData(unsupervised, supervised=False), batch_size=sup_batch_size * mu, shuffle=True, num_workers=15)\n",
    "\n",
    "val_loader = torch.utils.data.DataLoader(val, batch_size=100, shuffle=False, num_workers=15)"
   ]
  },
  {
   "cell_type": "markdown",
   "metadata": {},
   "source": [
    "### Model"
   ]
  },
  {
   "cell_type": "markdown",
   "metadata": {},
   "source": [
    "see Notebook **013 - Convolution Layer.ipynb**"
   ]
  },
  {
   "cell_type": "markdown",
   "metadata": {},
   "source": [
    "$O = (I − K + 2 P)/S+1$\n",
    "\n",
    "- O : output size\n",
    "- I : input size\n",
    "- K : kernel size\n",
    "- P : padding\n",
    "- S : stride"
   ]
  },
  {
   "cell_type": "code",
   "execution_count": 12,
   "metadata": {},
   "outputs": [],
   "source": [
    "class ConvNet(nn.Module):\n",
    "    def __init__(self):\n",
    "        super().__init__()\n",
    "        \n",
    "        self.fe = nn.Sequential(\n",
    "            nn.Conv2d(in_channels=3, out_channels=16, kernel_size=3, stride=1), # (32 - 3 + 2 * 0)/1 + 1 = 30\n",
    "            nn.BatchNorm2d(16),\n",
    "            nn.ReLU(),\n",
    "            nn.Conv2d(in_channels=16, out_channels=32, kernel_size=3, stride=1), # (30 - 3 + 2 * 0)/1 + 1 = 28\n",
    "            nn.BatchNorm2d(32),\n",
    "            nn.ReLU(),\n",
    "            nn.Conv2d(in_channels=32, out_channels=64, kernel_size=4, stride=2), # (28 - 4 + 2 * 0)/2 + 1 = 13\n",
    "            nn.BatchNorm2d(64),\n",
    "            nn.ReLU(),\n",
    "            nn.Conv2d(in_channels=64, out_channels=128, kernel_size=3, stride=2), # (13 - 3 + 2 * 0)/2 + 1 = 6\n",
    "            nn.BatchNorm2d(128),\n",
    "            nn.ReLU(),\n",
    "            nn.MaxPool2d(kernel_size=2),  # (6 - 2)/2 + 1 = 3\n",
    "            nn.Dropout(0.1)\n",
    "        )\n",
    "        \n",
    "        self.fc = nn.Linear(128 * 3 * 3, 10)\n",
    "        \n",
    "    def forward(self, x):\n",
    "        \n",
    "        # x of size [batch_size, 3, W, H]\n",
    "        \n",
    "        h = self.fe(x) # [batch_size, 128, 3, 3]\n",
    "                \n",
    "        h = h.view(-1, 128 * 3 * 3)\n",
    "        \n",
    "        return self.fc(h) # [batch_size, 10]"
   ]
  },
  {
   "cell_type": "markdown",
   "metadata": {},
   "source": [
    "### Training loop"
   ]
  },
  {
   "cell_type": "code",
   "execution_count": 16,
   "metadata": {},
   "outputs": [],
   "source": [
    "def train_fixMatch(model: nn.Module,\n",
    "                    opt: torch.optim,\n",
    "                    sup_loader: torch.utils.data.DataLoader,\n",
    "                    unsup_loader: torch.utils.data.DataLoader,\n",
    "                    tau: float=0.95,\n",
    "                    alpha: float=0.5):\n",
    "    \n",
    "    model.train()\n",
    "    \n",
    "    for param in model.parameters():\n",
    "        device = param.device\n",
    "        break\n",
    "    \n",
    "    losses = []\n",
    "    \n",
    "    pbar = tqdm(sup_loader)\n",
    "    \n",
    "    unsup_iter = iter(unsup_loader)\n",
    "    \n",
    "    for batch_sup in pbar:\n",
    "        \n",
    "        model.zero_grad()\n",
    "        \n",
    "        # labelled data\n",
    "        x_sup, y = batch_sup\n",
    "        x_sup, y = x_sup.to(device), y.to(device)\n",
    "        \n",
    "        # unlabelled data\n",
    "        try:\n",
    "            x_weak, x_strong = next(unsup_iter)\n",
    "        except StopIteration:\n",
    "            unsup_iter = iter(unsup_loader)\n",
    "            x_weak, x_strong = next(unsup_iter)\n",
    "                \n",
    "        x_weak, x_strong = x_weak.to(device), x_strong.to(device)\n",
    "        \n",
    "        # concat all x\n",
    "        all_x = torch.cat([x_sup, x_weak, x_strong], dim=0)\n",
    "        \n",
    "        # compute logits\n",
    "        all_logits = model(all_x)\n",
    "        \n",
    "        # logits and loss for labelled data\n",
    "        logits_sup = all_logits[:x_sup.size(0)]\n",
    "        loss_sup = F.cross_entropy(logits_sup, y)\n",
    "        \n",
    "        # logits for unlabelled data\n",
    "        logits_unsup = all_logits[x_sup.size(0):]\n",
    "        logits_weak, logits_strong = torch.chunk(logits_unsup, 2, dim=0)\n",
    "        \n",
    "        # stop gradient for weak augmented\n",
    "        logits_weak = logits_weak.detach() \n",
    "        \n",
    "        # compute class probailities\n",
    "        probs_weak = F.softmax(logits_weak, dim=1)\n",
    "        \n",
    "        # compute pseudo labels (torch.max outputs the maximum values and the argmax)\n",
    "        max_prob, pseudo_label = torch.max(probs_weak, dim=1)\n",
    "        \n",
    "        # [batch,]\n",
    "        \n",
    "        # mask for\n",
    "        mask = (max_prob > tau).float() # [1, 0] [batch_size,]\n",
    "                \n",
    "        # mask non-confident prediction\n",
    "        pseudo_label = pseudo_label.masked_fill(mask == 0, -1) # [3, -1, ...]\n",
    "        \n",
    "        # unsupervised loss by ignoring non-confident prediction\n",
    "        loss_unsup = F.cross_entropy(logits_strong, pseudo_label, ignore_index=-1)\n",
    "        \n",
    "        # total loss\n",
    "        loss = loss_sup + alpha * loss_unsup\n",
    "        \n",
    "        loss.backward()\n",
    "\n",
    "        opt.step()\n",
    "        \n",
    "        loss_item = loss.item()\n",
    "        \n",
    "        losses.append(loss_item)\n",
    "        \n",
    "        pbar.set_description(f'train_loss = {np.array(losses).mean(): .3f}')\n",
    "        \n",
    "    return np.array(losses).mean()\n",
    "\n",
    "@torch.no_grad()\n",
    "def validate(model: nn.Module, dataloader: torch.utils.data.DataLoader):\n",
    "    \n",
    "    model.eval()\n",
    "    \n",
    "    for param in model.parameters():\n",
    "        device = param.device\n",
    "        break\n",
    "     \n",
    "    labels_all = []\n",
    "    logits_all = []\n",
    "    \n",
    "    for x, y in dataloader:\n",
    "\n",
    "        x, y = x.to(device), y.to(device)\n",
    "\n",
    "        logits = model(x)\n",
    "        \n",
    "        labels_all += y.cpu().numpy().tolist()\n",
    "        logits_all += logits.cpu().numpy().tolist()\n",
    "        \n",
    "    prediction = np.argmax(np.array(logits_all), axis=-1)\n",
    "    \n",
    "    acc = accuracy_score(labels_all, prediction)\n",
    "                    \n",
    "    return acc"
   ]
  },
  {
   "cell_type": "markdown",
   "metadata": {},
   "source": [
    "### Training"
   ]
  },
  {
   "cell_type": "code",
   "execution_count": 19,
   "metadata": {},
   "outputs": [],
   "source": [
    "# initialize model\n",
    "\n",
    "model = ConvNet().cuda()\n",
    "\n",
    "opt = torch.optim.AdamW(model.parameters(), lr=1e-3)"
   ]
  },
  {
   "cell_type": "code",
   "execution_count": 20,
   "metadata": {},
   "outputs": [
    {
     "data": {
      "application/vnd.jupyter.widget-view+json": {
       "model_id": "7b59870ff0d949a79ce4f45d3aebef1b",
       "version_major": 2,
       "version_minor": 0
      },
      "text/plain": [
       "  0%|          | 0/79 [00:00<?, ?it/s]"
      ]
     },
     "metadata": {},
     "output_type": "display_data"
    },
    {
     "name": "stdout",
     "output_type": "stream",
     "text": [
      "tensor(0., device='cuda:0')\n",
      "tensor(0., device='cuda:0')\n",
      "tensor(0., device='cuda:0')\n",
      "tensor(0., device='cuda:0')\n",
      "tensor(0., device='cuda:0')\n",
      "tensor(0., device='cuda:0')\n",
      "tensor(1., device='cuda:0')\n",
      "tensor(3., device='cuda:0')\n",
      "tensor(14., device='cuda:0')\n",
      "tensor(19., device='cuda:0')\n",
      "tensor(24., device='cuda:0')\n",
      "tensor(20., device='cuda:0')\n",
      "tensor(13., device='cuda:0')\n",
      "tensor(6., device='cuda:0')\n",
      "tensor(8., device='cuda:0')\n",
      "tensor(3., device='cuda:0')\n",
      "tensor(6., device='cuda:0')\n",
      "tensor(6., device='cuda:0')\n",
      "tensor(7., device='cuda:0')\n",
      "tensor(10., device='cuda:0')\n",
      "tensor(10., device='cuda:0')\n",
      "tensor(8., device='cuda:0')\n",
      "tensor(16., device='cuda:0')\n",
      "tensor(14., device='cuda:0')\n",
      "tensor(10., device='cuda:0')\n",
      "tensor(12., device='cuda:0')\n",
      "tensor(7., device='cuda:0')\n",
      "tensor(9., device='cuda:0')\n",
      "tensor(7., device='cuda:0')\n",
      "tensor(7., device='cuda:0')\n",
      "tensor(6., device='cuda:0')\n",
      "tensor(9., device='cuda:0')\n",
      "tensor(2., device='cuda:0')\n",
      "tensor(8., device='cuda:0')\n",
      "tensor(7., device='cuda:0')\n",
      "tensor(8., device='cuda:0')\n",
      "tensor(8., device='cuda:0')\n",
      "tensor(6., device='cuda:0')\n",
      "tensor(9., device='cuda:0')\n",
      "tensor(7., device='cuda:0')\n",
      "tensor(9., device='cuda:0')\n",
      "tensor(9., device='cuda:0')\n",
      "tensor(15., device='cuda:0')\n",
      "tensor(14., device='cuda:0')\n",
      "tensor(14., device='cuda:0')\n",
      "tensor(15., device='cuda:0')\n",
      "tensor(8., device='cuda:0')\n",
      "tensor(9., device='cuda:0')\n",
      "tensor(7., device='cuda:0')\n",
      "tensor(2., device='cuda:0')\n",
      "tensor(3., device='cuda:0')\n",
      "tensor(7., device='cuda:0')\n",
      "tensor(5., device='cuda:0')\n",
      "tensor(2., device='cuda:0')\n",
      "tensor(4., device='cuda:0')\n",
      "tensor(6., device='cuda:0')\n",
      "tensor(9., device='cuda:0')\n",
      "tensor(12., device='cuda:0')\n",
      "tensor(11., device='cuda:0')\n",
      "tensor(10., device='cuda:0')\n",
      "tensor(8., device='cuda:0')\n",
      "tensor(12., device='cuda:0')\n",
      "tensor(9., device='cuda:0')\n",
      "tensor(5., device='cuda:0')\n",
      "tensor(9., device='cuda:0')\n",
      "tensor(4., device='cuda:0')\n",
      "tensor(7., device='cuda:0')\n",
      "tensor(10., device='cuda:0')\n",
      "tensor(17., device='cuda:0')\n",
      "tensor(17., device='cuda:0')\n",
      "tensor(17., device='cuda:0')\n",
      "tensor(20., device='cuda:0')\n",
      "tensor(18., device='cuda:0')\n"
     ]
    },
    {
     "ename": "KeyboardInterrupt",
     "evalue": "",
     "output_type": "error",
     "traceback": [
      "\u001b[0;31m---------------------------------------------------------------------------\u001b[0m",
      "\u001b[0;31mKeyboardInterrupt\u001b[0m                         Traceback (most recent call last)",
      "\u001b[0;32m<ipython-input-20-b978c9a8b06a>\u001b[0m in \u001b[0;36m<module>\u001b[0;34m\u001b[0m\n\u001b[1;32m      1\u001b[0m \u001b[0;32mfor\u001b[0m \u001b[0mt\u001b[0m \u001b[0;32min\u001b[0m \u001b[0mrange\u001b[0m\u001b[0;34m(\u001b[0m\u001b[0;36m5\u001b[0m\u001b[0;34m)\u001b[0m\u001b[0;34m:\u001b[0m\u001b[0;34m\u001b[0m\u001b[0;34m\u001b[0m\u001b[0m\n\u001b[0;32m----> 2\u001b[0;31m     \u001b[0mtrain_fixMatch\u001b[0m\u001b[0;34m(\u001b[0m\u001b[0mmodel\u001b[0m\u001b[0;34m,\u001b[0m \u001b[0mopt\u001b[0m\u001b[0;34m,\u001b[0m \u001b[0msup_loader\u001b[0m\u001b[0;34m,\u001b[0m \u001b[0munsup_loader\u001b[0m\u001b[0;34m,\u001b[0m \u001b[0mtau\u001b[0m\u001b[0;34m=\u001b[0m\u001b[0;36m0.9\u001b[0m\u001b[0;34m,\u001b[0m \u001b[0malpha\u001b[0m\u001b[0;34m=\u001b[0m\u001b[0;36m0.3\u001b[0m\u001b[0;34m)\u001b[0m\u001b[0;34m\u001b[0m\u001b[0;34m\u001b[0m\u001b[0m\n\u001b[0m\u001b[1;32m      3\u001b[0m     \u001b[0mval_acc\u001b[0m \u001b[0;34m=\u001b[0m \u001b[0mvalidate\u001b[0m\u001b[0;34m(\u001b[0m\u001b[0mmodel\u001b[0m\u001b[0;34m,\u001b[0m \u001b[0mval_loader\u001b[0m\u001b[0;34m)\u001b[0m\u001b[0;34m\u001b[0m\u001b[0;34m\u001b[0m\u001b[0m\n\u001b[1;32m      4\u001b[0m     \u001b[0mprint\u001b[0m\u001b[0;34m(\u001b[0m\u001b[0mval_acc\u001b[0m\u001b[0;34m)\u001b[0m\u001b[0;34m\u001b[0m\u001b[0;34m\u001b[0m\u001b[0m\n",
      "\u001b[0;32m<ipython-input-16-fa735323e5a6>\u001b[0m in \u001b[0;36mtrain_fixMatch\u001b[0;34m(model, opt, sup_loader, unsup_loader, tau, alpha)\u001b[0m\n\u001b[1;32m     66\u001b[0m \u001b[0;34m\u001b[0m\u001b[0m\n\u001b[1;32m     67\u001b[0m         \u001b[0;31m# mask non-confident prediction\u001b[0m\u001b[0;34m\u001b[0m\u001b[0;34m\u001b[0m\u001b[0;34m\u001b[0m\u001b[0m\n\u001b[0;32m---> 68\u001b[0;31m         \u001b[0mpseudo_label\u001b[0m \u001b[0;34m=\u001b[0m \u001b[0mpseudo_label\u001b[0m\u001b[0;34m.\u001b[0m\u001b[0mmasked_fill\u001b[0m\u001b[0;34m(\u001b[0m\u001b[0mmask\u001b[0m \u001b[0;34m==\u001b[0m \u001b[0;36m0\u001b[0m\u001b[0;34m,\u001b[0m \u001b[0;34m-\u001b[0m\u001b[0;36m1\u001b[0m\u001b[0;34m)\u001b[0m \u001b[0;31m# [3, -1, ...]\u001b[0m\u001b[0;34m\u001b[0m\u001b[0;34m\u001b[0m\u001b[0m\n\u001b[0m\u001b[1;32m     69\u001b[0m \u001b[0;34m\u001b[0m\u001b[0m\n\u001b[1;32m     70\u001b[0m         \u001b[0;31m# unsupervised loss by ignoring non-confident prediction\u001b[0m\u001b[0;34m\u001b[0m\u001b[0;34m\u001b[0m\u001b[0;34m\u001b[0m\u001b[0m\n",
      "\u001b[0;31mKeyboardInterrupt\u001b[0m: "
     ]
    }
   ],
   "source": [
    "for t in range(5):\n",
    "    train_fixMatch(model, opt, sup_loader, unsup_loader, tau=0.9, alpha=0.3)\n",
    "    val_acc = validate(model, val_loader)\n",
    "    print(val_acc)"
   ]
  },
  {
   "cell_type": "code",
   "execution_count": null,
   "metadata": {},
   "outputs": [],
   "source": []
  },
  {
   "cell_type": "code",
   "execution_count": null,
   "metadata": {},
   "outputs": [],
   "source": []
  }
 ],
 "metadata": {
  "kernelspec": {
   "display_name": "py37_UZA",
   "language": "python",
   "name": "py37_uza"
  },
  "language_info": {
   "codemirror_mode": {
    "name": "ipython",
    "version": 3
   },
   "file_extension": ".py",
   "mimetype": "text/x-python",
   "name": "python",
   "nbconvert_exporter": "python",
   "pygments_lexer": "ipython3",
   "version": "3.7.9"
  },
  "widgets": {
   "application/vnd.jupyter.widget-state+json": {
    "state": {},
    "version_major": 2,
    "version_minor": 0
   }
  }
 },
 "nbformat": 4,
 "nbformat_minor": 4
}
